{
 "cells": [
  {
   "cell_type": "markdown",
   "metadata": {},
   "source": [
    "##### Important URL for trying out different requests: https://httpbin.org/"
   ]
  },
  {
   "cell_type": "code",
   "execution_count": 1,
   "metadata": {},
   "outputs": [
    {
     "name": "stdout",
     "output_type": "stream",
     "text": [
      "<Response [200]>\n"
     ]
    }
   ],
   "source": [
    "import requests\n",
    "\n",
    "response = requests.get(\"https://www.google.com\")\n",
    "print(response)"
   ]
  },
  {
   "cell_type": "code",
   "execution_count": 2,
   "metadata": {},
   "outputs": [
    {
     "name": "stdout",
     "output_type": "stream",
     "text": [
      "<!doctype html><html itemscope=\"\" itemtype=\"http://schema.org/WebPage\" lang=\"en-IN\"><head><meta content=\"text/html; charset=UTF-8\" http-equiv=\"Content-Type\"><meta content=\"/images/branding/googleg/1x/googleg_standard_color_128dp.png\" itemprop=\"image\"><title>Google</title><script nonce=\"Rk9iJiLX_15xNdbiXDO2vA\">(function(){var _g={kEI:'1zWZZeGQIq-9kPIPi9KWyAo',kEXPI:'0,798230,3,562886,4349,206,2414,2390,1132070,1827,868709,327190,675,380090,16111,28687,23792,12313,17586,4998,13123,3952,35735,2709,2872,2891,12360,50058,10632,16105,230,1014,1,16916,2652,4,59617,27002,6672,7596,1,11942,30212,2,16737,23024,6699,31122,4568,6256,23421,1252,33064,2,2,1,26632,8155,23351,20506,7,1922,22194,26263,3781,20199,20136,14,82,13332,39614,3030,11151,4665,1804,7734,27534,5487,7959,8843,4653,948,3692,22249,3081,12896,5203198,5927,348,666,2,1586,5993379,2806666,7475460,5,19357924,1182080,1007,15665,43887,3,1603,3,262,3,234,3,2121276,2585,23029351,4126,4037,10336,2708,8028,6671,1968,3162,8343,1516,4428,3851,6725,5874,2,2,17455,5932,1297,421,1,5886,9210,2,1291,2,6,2052,27,6,5,15,265,1280,110,4145,663,209,438,668,1659,104,1668,4,799,2708,1481,2042,5,2269,7516,207,435,2421,3,3622,961,153,2379,664,2163,1,6,2588,228,825,7,4,227,3072,1544,769,1468,218,3,2060,91,164,311,43,2227,211,1128,3373,5,1438,2,2,716,249,1944,51,322,292,1,6,1267,790,6,430,1238,25,2169,120,3,4,2,2,2,280,501,3,733,270,724,452,274,606,591,283,247,8,680,542,382,3,118,461,1160,1068,1935,797,310,960,382,281,125,196,1254,2,6,2,145,591,192,469,189,7,80,1454,135,1,590,225,1,1,622,260,1596,133,215,569,123,239,1881,380,4,424,4,709,531,2627,83,871,5,14,218,63,3211,2,1673,495,4,18,388,47,55,398,726,1216,1801,2,942,329,1030,198,21365346,364338,218,4005,5,275,525,221',kBL:'FdKG',kOPI:89978449};(function(){var a;(null==(a=window.google)?0:a.stvsc)?google.kEI=_g.kEI:window.google=_g;}).call(this);})();(function(){google.sn='webhp';google.kHL='en-IN';})();(function(){\n",
      "var h=this||self;function l(){return void 0!==window.google&&void 0!==window.google.kOPI&&0!==window.google.kOPI?window.google.kOPI:null};var m,n=[];function p(a){for(var b;a&&(!a.getAttribute||!(b=a.getAttribute(\"eid\")));)a=a.parentNode;return b||m}function q(a){for(var b=null;a&&(!a.getAttribute||!(b=a.getAttribute(\"leid\")));)a=a.parentNode;return b}function r(a){/^http:/i.test(a)&&\"https:\"===window.location.protocol&&(google.ml&&google.ml(Error(\"a\"),!1,{src:a,glmm:1}),a=\"\");return a}\n",
      "function t(a,b,c,d,k){var e=\"\";-1===b.search(\"&ei=\")&&(e=\"&ei=\"+p(d),-1===b.search(\"&lei=\")&&(d=q(d))&&(e+=\"&lei=\"+d));d=\"\";var g=-1===b.search(\"&cshid=\")&&\"slh\"!==a,f=[];f.push([\"zx\",Date.now().toString()]);h._cshid&&g&&f.push([\"cshid\",h._cshid]);c=c();null!=c&&f.push([\"opi\",c.toString()]);for(c=0;c<f.length;c++){if(0===c||0<c)d+=\"&\";d+=f[c][0]+\"=\"+f[c][1]}return\"/\"+(k||\"gen_204\")+\"?atyp=i&ct=\"+String(a)+\"&cad=\"+(b+e+d)};m=google.kEI;google.getEI=p;google.getLEI=q;google.ml=function(){return null};google.log=function(a,b,c,d,k,e){e=void 0===e?l:e;c||(c=t(a,b,e,d,k));if(c=r(c)){a=new Image;var g=n.length;n[g]=a;a.onerror=a.onload=a.onabort=function(){delete n[g]};a.src=c}};google.logUrl=function(a,b){b=void 0===b?l:b;return t(\"\",a,b)};}).call(this);(function(){google.y={};google.sy=[];google.x=function(a,b){if(a)var c=a.id;else{do c=Math.random();while(google.y[c])}google.y[c]=[a,b];return!1};google.sx=function(a){google.sy.push(a)};google.lm=[];google.plm=function(a){google.lm.push.apply(google.lm,a)};google.lq=[];google.load=function(a,b,c){google.lq.push([[a],b,c])};google.loadAll=function(a,b){google.lq.push([a,b])};google.bx=!1;google.lx=function(){};var d=[];google.fce=function(a,b,c,e){d.push([a,b,c,e])};google.qce=d;}).call(this);google.f={};(function(){\n",
      "document.documentElement.addEventListener(\"submit\",function(b){var a;if(a=b.target){var c=a.getAttribute(\"data-submitfalse\");a=\"1\"===c||\"q\"===c&&!a.elements.q.value?!0:!1}else a=!1;a&&(b.preventDefault(),b.stopPropagation())},!0);document.documentElement.addEventListener(\"click\",function(b){var a;a:{for(a=b.target;a&&a!==document.documentElement;a=a.parentElement)if(\"A\"===a.tagName){a=\"1\"===a.getAttribute(\"data-nohref\");break a}a=!1}a&&b.preventDefault()},!0);}).call(this);</script><style>#gbar,#guser{font-size:13px;padding-top:1px !important;}#gbar{height:22px}#guser{padding-bottom:7px !important;text-align:right}.gbh,.gbd{border-top:1px solid #c9d7f1;font-size:1px}.gbh{height:0;position:absolute;top:24px;width:100%}@media all{.gb1{height:22px;margin-right:.5em;vertical-align:top}#gbar{float:left}}a.gb1,a.gb4{text-decoration:underline !important}a.gb1,a.gb4{color:#00c !important}.gbi .gb4{color:#dd8e27 !important}.gbf .gb4{color:#900 !important}\n",
      "</style><style>body,td,a,p,.h{font-family:arial,sans-serif}body{margin:0;overflow-y:scroll}#gog{padding:3px 8px 0}td{line-height:.8em}.gac_m td{line-height:17px}form{margin-bottom:20px}.h{color:#1967d2}em{font-weight:bold;font-style:normal}.lst{height:25px;width:496px}.gsfi,.lst{font:18px arial,sans-serif}.gsfs{font:17px arial,sans-serif}.ds{display:inline-box;display:inline-block;margin:3px 0 4px;margin-left:4px}input{font-family:inherit}body{background:#fff;color:#000}a{color:#681da8;text-decoration:none}a:hover,a:active{text-decoration:underline}.fl a{color:#1967d2}a:visited{color:#681da8}.sblc{padding-top:5px}.sblc a{display:block;margin:2px 0;margin-left:13px;font-size:11px}.lsbb{background:#f8f9fa;border:solid 1px;border-color:#dadce0 #70757a #70757a #dadce0;height:30px}.lsbb{display:block}#WqQANb a{display:inline-block;margin:0 12px}.lsb{background:url(/images/nav_logo229.png) 0 -261px repeat-x;color:#000;border:none;cursor:pointer;height:30px;margin:0;outline:0;font:15px arial,sans-serif;vertical-align:top}.lsb:active{background:#dadce0}.lst:focus{outline:none}</style><script nonce=\"Rk9iJiLX_15xNdbiXDO2vA\">(function(){window.google.erd={jsr:1,bv:1919,de:true};\n",
      "var h=this||self;var k,l=null!=(k=h.mei)?k:1,n,p=null!=(n=h.sdo)?n:!0,q=0,r,t=google.erd,v=t.jsr;google.ml=function(a,b,d,m,e){e=void 0===e?2:e;b&&(r=a&&a.message);void 0===d&&(d={});d.cad=\"ple_\"+google.ple+\".aple_\"+google.aple;if(google.dl)return google.dl(a,e,d),null;if(0>v){window.console&&console.error(a,d);if(-2===v)throw a;b=!1}else b=!a||!a.message||\"Error loading script\"===a.message||q>=l&&!m?!1:!0;if(!b)return null;q++;d=d||{};b=encodeURIComponent;var c=\"/gen_204?atyp=i&ei=\"+b(google.kEI);google.kEXPI&&(c+=\"&jexpid=\"+b(google.kEXPI));c+=\"&srcpg=\"+b(google.sn)+\"&jsr=\"+b(t.jsr)+\"&bver=\"+\n",
      "b(t.bv);var f=a.lineNumber;void 0!==f&&(c+=\"&line=\"+f);var g=a.fileName;g&&(0<g.indexOf(\"-extension:/\")&&(e=3),c+=\"&script=\"+b(g),f&&g===window.location.href&&(f=document.documentElement.outerHTML.split(\"\\n\")[f],c+=\"&cad=\"+b(f?f.substring(0,300):\"No script found.\")));google.ple&&1===google.ple&&(e=2);c+=\"&jsel=\"+e;for(var u in d)c+=\"&\",c+=b(u),c+=\"=\",c+=b(d[u]);c=c+\"&emsg=\"+b(a.name+\": \"+a.message);c=c+\"&jsst=\"+b(a.stack||\"N/A\");12288<=c.length&&(c=c.substr(0,12288));a=c;m||google.log(0,\"\",a);return a};window.onerror=function(a,b,d,m,e){r!==a&&(a=e instanceof Error?e:Error(a),void 0===d||\"lineNumber\"in a||(a.lineNumber=d),void 0===b||\"fileName\"in a||(a.fileName=b),google.ml(a,!1,void 0,!1,\"SyntaxError\"===a.name||\"SyntaxError\"===a.message.substring(0,11)||-1!==a.message.indexOf(\"Script error\")?3:0));r=null;p&&q>=l&&(window.onerror=null)};})();</script></head><body bgcolor=\"#fff\"><script nonce=\"Rk9iJiLX_15xNdbiXDO2vA\">(function(){var src='/images/nav_logo229.png';var iesg=false;document.body.onload = function(){window.n && window.n();if (document.images){new Image().src=src;}\n",
      "if (!iesg){document.f&&document.f.q.focus();document.gbqf&&document.gbqf.q.focus();}\n",
      "}\n",
      "})();</script><div id=\"mngb\"><div id=gbar><nobr><b class=gb1>Search</b> <a class=gb1 href=\"https://www.google.com/imghp?hl=en&tab=wi\">Images</a> <a class=gb1 href=\"https://maps.google.co.in/maps?hl=en&tab=wl\">Maps</a> <a class=gb1 href=\"https://play.google.com/?hl=en&tab=w8\">Play</a> <a class=gb1 href=\"https://www.youtube.com/?tab=w1\">YouTube</a> <a class=gb1 href=\"https://news.google.com/?tab=wn\">News</a> <a class=gb1 href=\"https://mail.google.com/mail/?tab=wm\">Gmail</a> <a class=gb1 href=\"https://drive.google.com/?tab=wo\">Drive</a> <a class=gb1 style=\"text-decoration:none\" href=\"https://www.google.co.in/intl/en/about/products?tab=wh\"><u>More</u> &raquo;</a></nobr></div><div id=guser width=100%><nobr><span id=gbn class=gbi></span><span id=gbf class=gbf></span><span id=gbe></span><a href=\"http://www.google.co.in/history/optout?hl=en\" class=gb4>Web History</a> | <a  href=\"/preferences?hl=en\" class=gb4>Settings</a> | <a target=_top id=gb_70 href=\"https://accounts.google.com/ServiceLogin?hl=en&passive=true&continue=https://www.google.com/&ec=GAZAAQ\" class=gb4>Sign in</a></nobr></div><div class=gbh style=left:0></div><div class=gbh style=right:0></div></div><center><br clear=\"all\" id=\"lgpd\"><div id=\"lga\"><img alt=\"Google\" height=\"92\" src=\"/images/branding/googlelogo/1x/googlelogo_white_background_color_272x92dp.png\" style=\"padding:28px 0 14px\" width=\"272\" id=\"hplogo\"><br><br></div><form action=\"/search\" name=\"f\"><table cellpadding=\"0\" cellspacing=\"0\"><tr valign=\"top\"><td width=\"25%\">&nbsp;</td><td align=\"center\" nowrap=\"\"><input name=\"ie\" value=\"ISO-8859-1\" type=\"hidden\"><input value=\"en-IN\" name=\"hl\" type=\"hidden\"><input name=\"source\" type=\"hidden\" value=\"hp\"><input name=\"biw\" type=\"hidden\"><input name=\"bih\" type=\"hidden\"><div class=\"ds\" style=\"height:32px;margin:4px 0\"><input class=\"lst\" style=\"margin:0;padding:5px 8px 0 6px;vertical-align:top;color:#000\" autocomplete=\"off\" value=\"\" title=\"Google Search\" maxlength=\"2048\" name=\"q\" size=\"57\"></div><br style=\"line-height:0\"><span class=\"ds\"><span class=\"lsbb\"><input class=\"lsb\" value=\"Google Search\" name=\"btnG\" type=\"submit\"></span></span><span class=\"ds\"><span class=\"lsbb\"><input class=\"lsb\" id=\"tsuid_1\" value=\"I'm Feeling Lucky\" name=\"btnI\" type=\"submit\"><script nonce=\"Rk9iJiLX_15xNdbiXDO2vA\">(function(){var id='tsuid_1';document.getElementById(id).onclick = function(){if (this.form.q.value){this.checked = 1;if (this.form.iflsig)this.form.iflsig.disabled = false;}\n",
      "else top.location='/doodles/';};})();</script><input value=\"AO6bgOgAAAAAZZlD52ELQDGYjcdLDRk42G51UC9hYpvK\" name=\"iflsig\" type=\"hidden\"></span></span></td><td class=\"fl sblc\" align=\"left\" nowrap=\"\" width=\"25%\"><a href=\"/advanced_search?hl=en-IN&amp;authuser=0\">Advanced search</a></td></tr></table><input id=\"gbv\" name=\"gbv\" type=\"hidden\" value=\"1\"><script nonce=\"Rk9iJiLX_15xNdbiXDO2vA\">(function(){var a,b=\"1\";if(document&&document.getElementById)if(\"undefined\"!=typeof XMLHttpRequest)b=\"2\";else if(\"undefined\"!=typeof ActiveXObject){var c,d,e=[\"MSXML2.XMLHTTP.6.0\",\"MSXML2.XMLHTTP.3.0\",\"MSXML2.XMLHTTP\",\"Microsoft.XMLHTTP\"];for(c=0;d=e[c++];)try{new ActiveXObject(d),b=\"2\"}catch(h){}}a=b;if(\"2\"==a&&-1==location.search.indexOf(\"&gbv=2\")){var f=google.gbvu,g=document.getElementById(\"gbv\");g&&(g.value=a);f&&window.setTimeout(function(){location.href=f},0)};}).call(this);</script></form><div id=\"gac_scont\"></div><div style=\"font-size:83%;min-height:3.5em\"><br><div id=\"gws-output-pages-elements-homepage_additional_languages__als\"><style>#gws-output-pages-elements-homepage_additional_languages__als{font-size:small;margin-bottom:24px}#SIvCob{color:#3c4043;display:inline-block;line-height:28px;}#SIvCob a{padding:0 3px;}.H6sW5{display:inline-block;margin:0 2px;white-space:nowrap}.z4hgWe{display:inline-block;margin:0 2px}</style><div id=\"SIvCob\">Google offered in:  <a href=\"https://www.google.com/setprefs?sig=0_A6hHFL1w8OVdhEucstArtK1ipe0%3D&amp;hl=hi&amp;source=homepage&amp;sa=X&amp;ved=0ahUKEwih2MHu0MiDAxWvHkQIHQupBakQ2ZgBCAU\">&#2361;&#2367;&#2344;&#2381;&#2342;&#2368;</a>    <a href=\"https://www.google.com/setprefs?sig=0_A6hHFL1w8OVdhEucstArtK1ipe0%3D&amp;hl=bn&amp;source=homepage&amp;sa=X&amp;ved=0ahUKEwih2MHu0MiDAxWvHkQIHQupBakQ2ZgBCAY\">&#2476;&#2494;&#2434;&#2482;&#2494;</a>    <a href=\"https://www.google.com/setprefs?sig=0_A6hHFL1w8OVdhEucstArtK1ipe0%3D&amp;hl=te&amp;source=homepage&amp;sa=X&amp;ved=0ahUKEwih2MHu0MiDAxWvHkQIHQupBakQ2ZgBCAc\">&#3108;&#3142;&#3122;&#3137;&#3095;&#3137;</a>    <a href=\"https://www.google.com/setprefs?sig=0_A6hHFL1w8OVdhEucstArtK1ipe0%3D&amp;hl=mr&amp;source=homepage&amp;sa=X&amp;ved=0ahUKEwih2MHu0MiDAxWvHkQIHQupBakQ2ZgBCAg\">&#2350;&#2352;&#2366;&#2336;&#2368;</a>    <a href=\"https://www.google.com/setprefs?sig=0_A6hHFL1w8OVdhEucstArtK1ipe0%3D&amp;hl=ta&amp;source=homepage&amp;sa=X&amp;ved=0ahUKEwih2MHu0MiDAxWvHkQIHQupBakQ2ZgBCAk\">&#2980;&#2990;&#3007;&#2996;&#3021;</a>    <a href=\"https://www.google.com/setprefs?sig=0_A6hHFL1w8OVdhEucstArtK1ipe0%3D&amp;hl=gu&amp;source=homepage&amp;sa=X&amp;ved=0ahUKEwih2MHu0MiDAxWvHkQIHQupBakQ2ZgBCAo\">&#2711;&#2753;&#2716;&#2736;&#2750;&#2724;&#2752;</a>    <a href=\"https://www.google.com/setprefs?sig=0_A6hHFL1w8OVdhEucstArtK1ipe0%3D&amp;hl=kn&amp;source=homepage&amp;sa=X&amp;ved=0ahUKEwih2MHu0MiDAxWvHkQIHQupBakQ2ZgBCAs\">&#3221;&#3240;&#3277;&#3240;&#3233;</a>    <a href=\"https://www.google.com/setprefs?sig=0_A6hHFL1w8OVdhEucstArtK1ipe0%3D&amp;hl=ml&amp;source=homepage&amp;sa=X&amp;ved=0ahUKEwih2MHu0MiDAxWvHkQIHQupBakQ2ZgBCAw\">&#3374;&#3378;&#3375;&#3390;&#3379;&#3330;</a>    <a href=\"https://www.google.com/setprefs?sig=0_A6hHFL1w8OVdhEucstArtK1ipe0%3D&amp;hl=pa&amp;source=homepage&amp;sa=X&amp;ved=0ahUKEwih2MHu0MiDAxWvHkQIHQupBakQ2ZgBCA0\">&#2602;&#2672;&#2588;&#2622;&#2604;&#2624;</a>  </div></div></div><span id=\"footer\"><div style=\"font-size:10pt\"><div style=\"margin:19px auto;text-align:center\" id=\"WqQANb\"><a href=\"/intl/en/ads/\">Advertising</a><a href=\"http://www.google.co.in/services/\">Business Solutions</a><a href=\"/intl/en/about.html\">About Google</a><a href=\"https://www.google.com/setprefdomain?prefdom=IN&amp;prev=https://www.google.co.in/&amp;sig=K_kkF-x6Yx7cdx0Bs-XBqCnbEpTdo%3D\">Google.co.in</a></div></div><p style=\"font-size:8pt;color:#70757a\">&copy; 2024 - <a href=\"/intl/en/policies/privacy/\">Privacy</a> - <a href=\"/intl/en/policies/terms/\">Terms</a></p></span></center><script nonce=\"Rk9iJiLX_15xNdbiXDO2vA\">(function(){window.google.cdo={height:757,width:1440};(function(){var a=window.innerWidth,b=window.innerHeight;if(!a||!b){var c=window.document,d=\"CSS1Compat\"==c.compatMode?c.documentElement:c.body;a=d.clientWidth;b=d.clientHeight}\n",
      "if(a&&b&&(a!=google.cdo.width||b!=google.cdo.height)){var e=google,f=e.log,g=\"/client_204?&atyp=i&biw=\"+a+\"&bih=\"+b+\"&ei=\"+google.kEI,h=\"\",k=[],l=void 0!==window.google&&void 0!==window.google.kOPI&&0!==window.google.kOPI?window.google.kOPI:null;null!=l&&k.push([\"opi\",l.toString()]);for(var m=0;m<k.length;m++){if(0===m||0<m)h+=\"&\";h+=k[m][0]+\"=\"+k[m][1]}f.call(e,\"\",\"\",g+h)};}).call(this);})();</script> <script nonce=\"Rk9iJiLX_15xNdbiXDO2vA\">(function(){google.xjs={ck:'xjs.hp.WxzFigac95U.L.X.O',combam:'AAAAAAAAAAAAAAAAAAAAAAAAAAAIAAAAAAA4AAACEAAAAAAAAAAAgABAdAQAwAIAXA',cs:'ACT90oEb7T2-ibKEw1yfbaFE4ARnEbz2_g',cssam:'AAAAAAAAAAAAAAAAAAAAAAAAAAAAAAAAAAAAAAACEAAAAAAAAAAAgABA',cssopt:false,csss:'ACT90oE1ELKT2MAkt-pRU4h2AmQxsBvWPA',excm:[],sepam:false,sepcss:false};})();</script>     <script nonce=\"Rk9iJiLX_15xNdbiXDO2vA\">(function(){var u='/xjs/_/js/k\\x3dxjs.hp.en.hCWQqqO3lB8.O/am\\x3dAAAAAAAAAAAAAAAAAAAAAAAAAAAIAAAAAAA4AAACEAAAAAAAAAAAgABAdAQAwAIAXA/d\\x3d1/ed\\x3d1/rs\\x3dACT90oGkacyCJWZ5aVfZTe-KrUp2-BHdAQ/m\\x3dsb_he,d,cEt90b,SNUn3,qddgKe,sTsDMc,dtl0hd,eHDfl';var amd=0;\n",
      "var e=this||self,f=function(a){return a};var g;var h=function(a){this.g=a};h.prototype.toString=function(){return this.g+\"\"};var k={};var l=function(){var a=document;var b=\"SCRIPT\";\"application/xhtml+xml\"===a.contentType&&(b=b.toLowerCase());return a.createElement(b)};\n",
      "function m(a,b){a.src=b instanceof h&&b.constructor===h?b.g:\"type_error:TrustedResourceUrl\";var c,d;(c=(b=null==(d=(c=(a.ownerDocument&&a.ownerDocument.defaultView||window).document).querySelector)?void 0:d.call(c,\"script[nonce]\"))?b.nonce||b.getAttribute(\"nonce\")||\"\":\"\")&&a.setAttribute(\"nonce\",c)};function n(a){a=null===a?\"null\":void 0===a?\"undefined\":a;if(void 0===g){var b=null;var c=e.trustedTypes;if(c&&c.createPolicy){try{b=c.createPolicy(\"goog#html\",{createHTML:f,createScript:f,createScriptURL:f})}catch(d){e.console&&e.console.error(d.message)}g=b}else g=b}a=(b=g)?b.createScriptURL(a):a;return new h(a,k)};void 0===google.ps&&(google.ps=[]);function p(){var a=u,b=function(){};google.lx=google.stvsc?b:function(){q(a);google.lx=b};google.bx||google.lx()}function r(a,b){b&&m(a,n(b));var c=a.onload;a.onload=function(d){c&&c(d);google.ps=google.ps.filter(function(t){return a!==t})};google.ps.push(a);document.body.appendChild(a)}google.as=r;function q(a){google.timers&&google.timers.load&&google.tick&&google.tick(\"load\",\"xjsls\");var b=l();b.onerror=function(){google.ple=1};b.onload=function(){google.ple=0};google.xjsus=void 0;r(b,a);google.aple=-1;google.psa=!0};google.xjsu=u;e._F_jsUrl=u;setTimeout(function(){0<amd?google.caft(function(){return p()},amd):p()},0);})();window._ = window._ || {};window._DumpException = _._DumpException = function(e){throw e;};window._s = window._s || {};_s._DumpException = _._DumpException;window._qs = window._qs || {};_qs._DumpException = _._DumpException;(function(){var t=[1,0,0,0,0,8192,0,8388654,134217744,33554432,524288,72976,469762752,1];window._F_toggles = window._xjs_toggles = t;})();function _F_installCss(c){}\n",
      "(function(){google.jl={blt:'none',chnk:0,dw:false,dwu:true,emtn:0,end:0,ico:false,ikb:0,ine:false,injs:'none',injt:0,injth:0,injv2:false,lls:'default',pdt:0,rep:0,snet:true,strt:0,ubm:false,uwp:true};})();(function(){var pmc='{\\x22d\\x22:{},\\x22sb_he\\x22:{\\x22agen\\x22:false,\\x22cgen\\x22:false,\\x22client\\x22:\\x22heirloom-hp\\x22,\\x22dh\\x22:true,\\x22ds\\x22:\\x22\\x22,\\x22fl\\x22:true,\\x22host\\x22:\\x22google.com\\x22,\\x22jsonp\\x22:true,\\x22msgs\\x22:{\\x22cibl\\x22:\\x22Clear Search\\x22,\\x22dym\\x22:\\x22Did you mean:\\x22,\\x22lcky\\x22:\\x22I\\\\u0026#39;m Feeling Lucky\\x22,\\x22lml\\x22:\\x22Learn more\\x22,\\x22psrc\\x22:\\x22This search was removed from your \\\\u003Ca href\\x3d\\\\\\x22/history\\\\\\x22\\\\u003EWeb History\\\\u003C/a\\\\u003E\\x22,\\x22psrl\\x22:\\x22Remove\\x22,\\x22sbit\\x22:\\x22Search by image\\x22,\\x22srch\\x22:\\x22Google Search\\x22},\\x22ovr\\x22:{},\\x22pq\\x22:\\x22\\x22,\\x22rfs\\x22:[],\\x22sbas\\x22:\\x220 3px 8px 0 rgba(0,0,0,0.2),0 0 0 1px rgba(0,0,0,0.08)\\x22,\\x22stok\\x22:\\x22Tr2wL-G4kGW00e6exYfhcmA-1rI\\x22}}';google.pmc=JSON.parse(pmc);})();(function(){var b=function(a){var c=0;return function(){return c<a.length?{done:!1,value:a[c++]}:{done:!0}}};\n",
      "var e=this||self;var g,h;a:{for(var k=[\"CLOSURE_FLAGS\"],l=e,n=0;n<k.length;n++)if(l=l[k[n]],null==l){h=null;break a}h=l}var p=h&&h[610401301];g=null!=p?p:!1;var q,r=e.navigator;q=r?r.userAgentData||null:null;function t(a){return g?q?q.brands.some(function(c){return(c=c.brand)&&-1!=c.indexOf(a)}):!1:!1}function u(a){var c;a:{if(c=e.navigator)if(c=c.userAgent)break a;c=\"\"}return-1!=c.indexOf(a)};function v(){return g?!!q&&0<q.brands.length:!1}function w(){return u(\"Safari\")&&!(x()||(v()?0:u(\"Coast\"))||(v()?0:u(\"Opera\"))||(v()?0:u(\"Edge\"))||(v()?t(\"Microsoft Edge\"):u(\"Edg/\"))||(v()?t(\"Opera\"):u(\"OPR\"))||u(\"Firefox\")||u(\"FxiOS\")||u(\"Silk\")||u(\"Android\"))}function x(){return v()?t(\"Chromium\"):(u(\"Chrome\")||u(\"CriOS\"))&&!(v()?0:u(\"Edge\"))||u(\"Silk\")}function y(){return u(\"Android\")&&!(x()||u(\"Firefox\")||u(\"FxiOS\")||(v()?0:u(\"Opera\"))||u(\"Silk\"))};var z=v()?!1:u(\"Trident\")||u(\"MSIE\");y();x();w();Object.freeze(new function(){});Object.freeze(new function(){});var A=!z&&!w(),D=function(a){if(/-[a-z]/.test(\"ved\"))return null;if(A&&a.dataset){if(y()&&!(\"ved\"in a.dataset))return null;a=a.dataset.ved;return void 0===a?null:a}return a.getAttribute(\"data-\"+\"ved\".replace(/([A-Z])/g,\"-$1\").toLowerCase())};var E=[],F=null;function G(a){a=a.target;var c=performance.now(),f=[],H=f.concat,d=E;if(!(d instanceof Array)){var m=\"undefined\"!=typeof Symbol&&Symbol.iterator&&d[Symbol.iterator];if(m)d=m.call(d);else if(\"number\"==typeof d.length)d={next:b(d)};else throw Error(\"a`\"+String(d));for(var B=[];!(m=d.next()).done;)B.push(m.value);d=B}E=H.call(f,d,[c]);if(a&&a instanceof HTMLElement)if(a===F){if(c=4<=E.length)c=5>(E[E.length-1]-E[E.length-4])/1E3;if(c){c=google.getEI(a);a.hasAttribute(\"data-ved\")?f=a?D(a)||\"\":\"\":f=(f=\n",
      "a.closest(\"[data-ved]\"))?D(f)||\"\":\"\";f=f||\"\";if(a.hasAttribute(\"jsname\"))a=a.getAttribute(\"jsname\");else{var C;a=null==(C=a.closest(\"[jsname]\"))?void 0:C.getAttribute(\"jsname\")}google.log(\"rcm\",\"&ei=\"+c+\"&ved=\"+f+\"&jsname=\"+(a||\"\"))}}else F=a,E=[c]}window.document.addEventListener(\"DOMContentLoaded\",function(){document.body.addEventListener(\"click\",G)});}).call(this);</script></body></html>\n"
     ]
    }
   ],
   "source": [
    "print(response.text)"
   ]
  },
  {
   "cell_type": "markdown",
   "metadata": {},
   "source": [
    "## Status Codes\n",
    "\n",
    "### 1xx Informational:\n",
    "\n",
    "- 100 Continue: The server has received the request headers and the client should proceed to send the request body.\n",
    "### 2xx Success:\n",
    "\n",
    "- 200 OK: The request was successful, and the server has returned the requested data.\n",
    "- 201 Created: The request was successful, and a new resource was created as a result.\n",
    "- 204 No Content: The server successfully processed the request but there is no additional content to send.\n",
    "### 3xx Redirection:\n",
    "\n",
    "- 301 Moved Permanently: The requested resource has been permanently moved to a new location.\n",
    "- 302 Found (or temporarily moved): The requested resource has been temporarily moved to a new location.\n",
    "- 304 Not Modified: The client can use cached data since the resource has not been modified since the last request.\n",
    "### 4xx Client Errors:\n",
    "\n",
    "- 400 Bad Request: The request cannot be processed by the server due to a client error (e.g., malformed request syntax, invalid request message framing, or deceptive request routing).\n",
    "- 401 Unauthorized: The request requires user authentication. The client should provide valid credentials.\n",
    "- 403 Forbidden: The server understood the request, but it refuses to authorize it.\n",
    "- 404 Not Found: The server cannot find the requested resource.\n",
    "### 5xx Server Errors:\n",
    "\n",
    "- 500 Internal Server Error: A generic error message indicating that the server has encountered an unexpected condition.\n",
    "- 502 Bad Gateway: The server, while acting as a gateway or proxy, received an invalid response from the upstream server.\n",
    "- 503 Service Unavailable: The server is not ready to handle the request. Common causes are a server that is down for maintenance or is overloaded.\n",
    "- 504 Gateway Timeout: The server, while acting as a gateway or proxy, did not receive a timely response from the upstream server or some other auxiliary server."
   ]
  },
  {
   "cell_type": "code",
   "execution_count": 3,
   "metadata": {},
   "outputs": [
    {
     "name": "stdout",
     "output_type": "stream",
     "text": [
      "200\n"
     ]
    }
   ],
   "source": [
    "print(response.status_code)"
   ]
  },
  {
   "cell_type": "code",
   "execution_count": 4,
   "metadata": {},
   "outputs": [
    {
     "name": "stdout",
     "output_type": "stream",
     "text": [
      "{'Date': 'Sat, 06 Jan 2024 11:13:27 GMT', 'Expires': '-1', 'Cache-Control': 'private, max-age=0', 'Content-Type': 'text/html; charset=ISO-8859-1', 'Content-Security-Policy-Report-Only': \"object-src 'none';base-uri 'self';script-src 'nonce-Rk9iJiLX_15xNdbiXDO2vA' 'strict-dynamic' 'report-sample' 'unsafe-eval' 'unsafe-inline' https: http:;report-uri https://csp.withgoogle.com/csp/gws/other-hp\", 'P3P': 'CP=\"This is not a P3P policy! See g.co/p3phelp for more info.\"', 'Content-Encoding': 'gzip', 'Server': 'gws', 'X-XSS-Protection': '0', 'X-Frame-Options': 'SAMEORIGIN', 'Set-Cookie': '1P_JAR=2024-01-06-11; expires=Mon, 05-Feb-2024 11:13:27 GMT; path=/; domain=.google.com; Secure, AEC=Ackid1ThQeouNpGTJc0oYpK1VBkEitO2oVtBa-m4IIzOWUIjrMpme3cwiMg; expires=Thu, 04-Jul-2024 11:13:27 GMT; path=/; domain=.google.com; Secure; HttpOnly; SameSite=lax, NID=511=BeEKA2PZDs_SeQ3kDCrRvmcJWe3vet9aBBz30OlSm1SuDycW5vIoEEF1jjs1JNWIULFZeB3l82ZRE14i9FjLm1BKLNQIfej6_IQ9Gm2AozYkyQngCsHyNMqJY33bBtXCV0KJj_Ywudrxtd8lGO1rYH6vwPzvIiWV0-K0Ldb0VT8; expires=Sun, 07-Jul-2024 11:13:27 GMT; path=/; domain=.google.com; HttpOnly', 'Alt-Svc': 'h3=\":443\"; ma=2592000,h3-29=\":443\"; ma=2592000', 'Transfer-Encoding': 'chunked'}\n"
     ]
    }
   ],
   "source": [
    "print(response.headers)"
   ]
  },
  {
   "cell_type": "code",
   "execution_count": 5,
   "metadata": {},
   "outputs": [],
   "source": [
    "# URL with only images\n",
    "\n",
    "response = requests.get(\"https://imgs.xkcd.com/comics/python.png\")\n",
    "\n",
    "with open('comics.png', 'wb') as f:\n",
    "    f.write(response.content)"
   ]
  },
  {
   "cell_type": "code",
   "execution_count": 6,
   "metadata": {},
   "outputs": [
    {
     "name": "stdout",
     "output_type": "stream",
     "text": [
      "{\n",
      "  \"args\": {\n",
      "    \"count\": \"25\", \n",
      "    \"page\": \"2\"\n",
      "  }, \n",
      "  \"headers\": {\n",
      "    \"Accept\": \"*/*\", \n",
      "    \"Accept-Encoding\": \"gzip, deflate\", \n",
      "    \"Host\": \"httpbin.org\", \n",
      "    \"User-Agent\": \"python-requests/2.28.0\", \n",
      "    \"X-Amzn-Trace-Id\": \"Root=1-659935da-2b3878372e765ca40b87f6a0\"\n",
      "  }, \n",
      "  \"origin\": \"124.66.170.240\", \n",
      "  \"url\": \"https://httpbin.org/get?page=2&count=25\"\n",
      "}\n",
      "\n",
      "https://httpbin.org/get?page=2&count=25\n"
     ]
    }
   ],
   "source": [
    "# GET request\n",
    "\n",
    "payload = {\n",
    "    'page': 2,\n",
    "    'count': 25\n",
    "    }\n",
    "response = requests.get(\n",
    "    \"https://httpbin.org/get\",\n",
    "    params=payload)\n",
    "\n",
    "print(response.text)\n",
    "print(response.url)"
   ]
  },
  {
   "cell_type": "code",
   "execution_count": 10,
   "metadata": {},
   "outputs": [
    {
     "name": "stdout",
     "output_type": "stream",
     "text": [
      "{\n",
      "  \"args\": {}, \n",
      "  \"data\": \"\", \n",
      "  \"files\": {}, \n",
      "  \"form\": {\n",
      "    \"College\": \"VIIT\", \n",
      "    \"age\": \"20\", \n",
      "    \"name\": \"Soham\"\n",
      "  }, \n",
      "  \"headers\": {\n",
      "    \"Accept\": \"*/*\", \n",
      "    \"Accept-Encoding\": \"gzip, deflate\", \n",
      "    \"Content-Length\": \"30\", \n",
      "    \"Content-Type\": \"application/x-www-form-urlencoded\", \n",
      "    \"Host\": \"httpbin.org\", \n",
      "    \"User-Agent\": \"python-requests/2.28.0\", \n",
      "    \"X-Amzn-Trace-Id\": \"Root=1-659936fa-5ca87a04414b0d15154dfc2b\"\n",
      "  }, \n",
      "  \"json\": null, \n",
      "  \"origin\": \"124.66.170.240\", \n",
      "  \"url\": \"https://httpbin.org/post\"\n",
      "}\n",
      "\n",
      "{'args': {}, 'data': '', 'files': {}, 'form': {'College': 'VIIT', 'age': '20', 'name': 'Soham'}, 'headers': {'Accept': '*/*', 'Accept-Encoding': 'gzip, deflate', 'Content-Length': '30', 'Content-Type': 'application/x-www-form-urlencoded', 'Host': 'httpbin.org', 'User-Agent': 'python-requests/2.28.0', 'X-Amzn-Trace-Id': 'Root=1-659936fa-5ca87a04414b0d15154dfc2b'}, 'json': None, 'origin': '124.66.170.240', 'url': 'https://httpbin.org/post'}\n"
     ]
    }
   ],
   "source": [
    "# POST request\n",
    "\n",
    "data = {\n",
    "    \"name\": \"Soham\",\n",
    "    \"age\": 20,\n",
    "    \"College\": \"VIIT\"}\n",
    "\n",
    "response = requests.post(\n",
    "    \"https://httpbin.org/post\",\n",
    "    data=data)\n",
    "\n",
    "print(response.text)\n",
    "print(response.json())"
   ]
  },
  {
   "cell_type": "code",
   "execution_count": 13,
   "metadata": {},
   "outputs": [
    {
     "name": "stdout",
     "output_type": "stream",
     "text": [
      "{\n",
      "  \"authenticated\": true, \n",
      "  \"user\": \"sohamw\"\n",
      "}\n",
      "\n"
     ]
    }
   ],
   "source": [
    "# Basic Authentication\n",
    "\n",
    "USERNAME = \"sohamw\"\n",
    "PASSWORD = \"12345678\"\n",
    "\n",
    "url = \"https://httpbin.org/basic-auth/sohamw/12345678\"\n",
    "\n",
    "response = requests.get(\n",
    "    url,\n",
    "    auth = (USERNAME, PASSWORD)\n",
    ")\n",
    "\n",
    "print(response.text)"
   ]
  },
  {
   "cell_type": "code",
   "execution_count": 22,
   "metadata": {},
   "outputs": [
    {
     "name": "stdout",
     "output_type": "stream",
     "text": [
      "HTTPSConnectionPool(host='httpbin.org', port=443): Read timed out. (read timeout=3)\n",
      "{\n",
      "  \"args\": {}, \n",
      "  \"data\": \"\", \n",
      "  \"files\": {}, \n",
      "  \"form\": {}, \n",
      "  \"headers\": {\n",
      "    \"Accept\": \"*/*\", \n",
      "    \"Accept-Encoding\": \"gzip, deflate\", \n",
      "    \"Host\": \"httpbin.org\", \n",
      "    \"User-Agent\": \"python-requests/2.28.0\", \n",
      "    \"X-Amzn-Trace-Id\": \"Root=1-65997825-47dfe47f6c6028f57d524828\"\n",
      "  }, \n",
      "  \"origin\": \"124.66.170.240\", \n",
      "  \"url\": \"https://httpbin.org/delay/1\"\n",
      "}\n",
      "\n"
     ]
    }
   ],
   "source": [
    "# Timeout\n",
    "\n",
    "try:\n",
    "    response = requests.get(\n",
    "        \"https://httpbin.org/delay/10\",      # Delay of 10 seconds\n",
    "        timeout = 3                          # Timeout after 3 seconds\n",
    "    )\n",
    "except Exception as e:\n",
    "    print(e)\n",
    "\n",
    "print(response.text)"
   ]
  }
 ],
 "metadata": {
  "kernelspec": {
   "display_name": "Python 3",
   "language": "python",
   "name": "python3"
  },
  "language_info": {
   "codemirror_mode": {
    "name": "ipython",
    "version": 3
   },
   "file_extension": ".py",
   "mimetype": "text/x-python",
   "name": "python",
   "nbconvert_exporter": "python",
   "pygments_lexer": "ipython3",
   "version": "3.9.13"
  }
 },
 "nbformat": 4,
 "nbformat_minor": 2
}
