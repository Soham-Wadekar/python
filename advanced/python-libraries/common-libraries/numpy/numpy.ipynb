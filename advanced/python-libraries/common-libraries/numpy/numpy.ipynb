{
 "cells": [
  {
   "cell_type": "markdown",
   "metadata": {},
   "source": [
    "## Numpy"
   ]
  },
  {
   "cell_type": "code",
   "execution_count": 1,
   "metadata": {},
   "outputs": [],
   "source": [
    "import numpy as np"
   ]
  },
  {
   "cell_type": "markdown",
   "metadata": {},
   "source": [
    "### Basics"
   ]
  },
  {
   "cell_type": "code",
   "execution_count": 2,
   "metadata": {},
   "outputs": [],
   "source": [
    "# Creating an array\n",
    "\n",
    "a = np.array([1, 2, 3], dtype=\"int8\")\n",
    "b = np.array([[1.0, 2.0, 3.0], [4.0, 5.0, 6.0]])"
   ]
  },
  {
   "cell_type": "code",
   "execution_count": 3,
   "metadata": {},
   "outputs": [
    {
     "name": "stdout",
     "output_type": "stream",
     "text": [
      "Array a:\n",
      "[1 2 3]\n",
      "Array b:\n",
      "[[1. 2. 3.]\n",
      " [4. 5. 6.]]\n"
     ]
    }
   ],
   "source": [
    "# Print an array\n",
    "print(f\"Array a:\\n{a}\")\n",
    "print(f\"Array b:\\n{b}\")"
   ]
  },
  {
   "cell_type": "code",
   "execution_count": 4,
   "metadata": {},
   "outputs": [
    {
     "name": "stdout",
     "output_type": "stream",
     "text": [
      "Dimensions of array a: 1\n",
      "Dimensions of array b: 2\n"
     ]
    }
   ],
   "source": [
    "# Dimensions of an array\n",
    "print(f\"Dimensions of array a: {a.ndim}\")\n",
    "print(f\"Dimensions of array b: {b.ndim}\")"
   ]
  },
  {
   "cell_type": "code",
   "execution_count": 5,
   "metadata": {},
   "outputs": [
    {
     "name": "stdout",
     "output_type": "stream",
     "text": [
      "Array\tType\tSize(bytes)\n",
      "a\tint8\t3\n",
      "b\tfloat64\t48\n"
     ]
    }
   ],
   "source": [
    "# Get type and size\n",
    "print(\"Array\\tType\\tSize(bytes)\")\n",
    "print(f\"a\\t{a.dtype}\\t{a.nbytes}\")\n",
    "print(f\"b\\t{b.dtype}\\t{b.nbytes}\")"
   ]
  },
  {
   "cell_type": "code",
   "execution_count": 6,
   "metadata": {},
   "outputs": [
    {
     "name": "stdout",
     "output_type": "stream",
     "text": [
      "Shape of array a: (3,)\n",
      "Shape of array b: (2, 3)\n"
     ]
    }
   ],
   "source": [
    "# Shape of an array\n",
    "print(f\"Shape of array a: {a.shape}\")\n",
    "print(f\"Shape of array b: {b.shape}\")"
   ]
  },
  {
   "cell_type": "markdown",
   "metadata": {},
   "source": [
    "### Accessing/Changing Numpy Arrays"
   ]
  },
  {
   "cell_type": "code",
   "execution_count": 7,
   "metadata": {},
   "outputs": [
    {
     "name": "stdout",
     "output_type": "stream",
     "text": [
      "[[ 1  2  3  4  5  6  7]\n",
      " [ 8  9 10 11 12 13 14]]\n"
     ]
    }
   ],
   "source": [
    "a = np.array([[1, 2, 3, 4, 5, 6, 7], [8, 9, 10, 11, 12, 13, 14]])\n",
    "print(a)"
   ]
  },
  {
   "cell_type": "code",
   "execution_count": 8,
   "metadata": {},
   "outputs": [
    {
     "name": "stdout",
     "output_type": "stream",
     "text": [
      "13\n",
      "13\n"
     ]
    }
   ],
   "source": [
    "# Get a specific element [r, c]\n",
    "print(a[1, 5])  # Accessing 13\n",
    "print(a[-1, -2])"
   ]
  },
  {
   "cell_type": "code",
   "execution_count": 9,
   "metadata": {},
   "outputs": [
    {
     "name": "stdout",
     "output_type": "stream",
     "text": [
      "[1 2 3 4 5 6 7]\n",
      "[1 8]\n"
     ]
    }
   ],
   "source": [
    "# Get a specific row/col\n",
    "print(a[0, :])\n",
    "print(a[:, 0])"
   ]
  },
  {
   "cell_type": "code",
   "execution_count": 10,
   "metadata": {},
   "outputs": [
    {
     "name": "stdout",
     "output_type": "stream",
     "text": [
      "[[ 1  2  3  4  5  6  7]\n",
      " [ 8  9 10 11 12 20 14]]\n",
      "\n",
      "[[  1   2 100   4   5   6   7]\n",
      " [  8   9 100  11  12  20  14]]\n",
      "\n",
      "[[  1   2 100   4   5   6   7]\n",
      " [  0   0   0   0   0   0   0]]\n"
     ]
    }
   ],
   "source": [
    "# Change at specific index\n",
    "a[1, 5] = 20\n",
    "print(a)\n",
    "print()\n",
    "\n",
    "a[:, 2] = 100\n",
    "print(a)\n",
    "print()\n",
    "\n",
    "a[1, :] = 0\n",
    "print(a)"
   ]
  },
  {
   "cell_type": "markdown",
   "metadata": {},
   "source": [
    "### Initializing different types of arrays"
   ]
  },
  {
   "cell_type": "code",
   "execution_count": 11,
   "metadata": {},
   "outputs": [
    {
     "name": "stdout",
     "output_type": "stream",
     "text": [
      "[[[0. 0.]\n",
      "  [0. 0.]\n",
      "  [0. 0.]]\n",
      "\n",
      " [[0. 0.]\n",
      "  [0. 0.]\n",
      "  [0. 0.]]]\n"
     ]
    }
   ],
   "source": [
    "# All zeros matrix\n",
    "zeros = np.zeros((2, 3, 2))\n",
    "print(zeros)"
   ]
  },
  {
   "cell_type": "code",
   "execution_count": 12,
   "metadata": {},
   "outputs": [
    {
     "name": "stdout",
     "output_type": "stream",
     "text": [
      "[[[1. 1. 1. 1.]\n",
      "  [1. 1. 1. 1.]\n",
      "  [1. 1. 1. 1.]]\n",
      "\n",
      " [[1. 1. 1. 1.]\n",
      "  [1. 1. 1. 1.]\n",
      "  [1. 1. 1. 1.]]]\n"
     ]
    }
   ],
   "source": [
    "# All ones matrix\n",
    "ones = np.ones((2, 3, 4))\n",
    "print(ones)"
   ]
  },
  {
   "cell_type": "code",
   "execution_count": 13,
   "metadata": {},
   "outputs": [
    {
     "name": "stdout",
     "output_type": "stream",
     "text": [
      "[[inf inf inf]\n",
      " [inf inf inf]]\n",
      "\n",
      "[[  1   2 100   4   5   6   7]\n",
      " [  0   0   0   0   0   0   0]]\n",
      "[[100 100 100 100 100 100 100]\n",
      " [100 100 100 100 100 100 100]]\n"
     ]
    }
   ],
   "source": [
    "# Initialize any other number\n",
    "matrix = np.full((2, 3), np.inf)\n",
    "print(matrix)\n",
    "\n",
    "print()\n",
    "\n",
    "# Initialize the shape instantly\n",
    "print(a)\n",
    "new_a = np.full_like(a, 100)\n",
    "print(new_a)"
   ]
  },
  {
   "cell_type": "code",
   "execution_count": 14,
   "metadata": {},
   "outputs": [
    {
     "name": "stdout",
     "output_type": "stream",
     "text": [
      "[[0.32112365 0.73523554 0.04627873]\n",
      " [0.74659112 0.78441704 0.93086471]\n",
      " [0.44190377 0.91683291 0.79315305]\n",
      " [0.43341792 0.86305164 0.71671095]]\n"
     ]
    }
   ],
   "source": [
    "# Matrix of random decimal numbers\n",
    "rand_nums = np.random.rand(4, 3)\n",
    "print(rand_nums)"
   ]
  },
  {
   "cell_type": "code",
   "execution_count": 15,
   "metadata": {},
   "outputs": [
    {
     "name": "stdout",
     "output_type": "stream",
     "text": [
      "[[92 96]\n",
      " [52 32]\n",
      " [39 94]]\n"
     ]
    }
   ],
   "source": [
    "# Matrix of random integers\n",
    "rand_ints = np.random.randint(1, 100, size=(3, 2))\n",
    "print(rand_ints)"
   ]
  },
  {
   "cell_type": "code",
   "execution_count": 16,
   "metadata": {},
   "outputs": [
    {
     "data": {
      "text/plain": [
       "array([[1., 0., 0.],\n",
       "       [0., 1., 0.],\n",
       "       [0., 0., 1.]])"
      ]
     },
     "execution_count": 16,
     "metadata": {},
     "output_type": "execute_result"
    }
   ],
   "source": [
    "# Identity matrix\n",
    "np.identity(3)"
   ]
  },
  {
   "cell_type": "code",
   "execution_count": 17,
   "metadata": {},
   "outputs": [
    {
     "name": "stdout",
     "output_type": "stream",
     "text": [
      "[[1 2 3]\n",
      " [1 2 3]\n",
      " [1 2 3]\n",
      " [1 2 3]]\n",
      "[[1 1 1 1 2 2 2 2 3 3 3 3]]\n"
     ]
    }
   ],
   "source": [
    "# Repeat an array\n",
    "arr = np.array([[1, 2, 3]])\n",
    "rep1 = np.repeat(arr, 4, axis=0)\n",
    "rep2 = np.repeat(arr, 4, axis=1)\n",
    "print(rep1)\n",
    "print(rep2)"
   ]
  },
  {
   "cell_type": "code",
   "execution_count": 18,
   "metadata": {},
   "outputs": [
    {
     "name": "stdout",
     "output_type": "stream",
     "text": [
      "[2. 3. 4. 5. 6. 7. 8. 9.]\n"
     ]
    }
   ],
   "source": [
    "# Range of numbers\n",
    "rang = np.arange(2, 10, dtype=\"float32\")\n",
    "print(rang)"
   ]
  },
  {
   "cell_type": "markdown",
   "metadata": {},
   "source": [
    "### Copying arrays"
   ]
  },
  {
   "cell_type": "code",
   "execution_count": 19,
   "metadata": {},
   "outputs": [
    {
     "name": "stdout",
     "output_type": "stream",
     "text": [
      "Before\n",
      "a: [1 2 3]\n",
      "b: [1 2 3]\n",
      "\n",
      "After\n",
      "a: [100   2   3]\n",
      "b: [100   2   3]\n",
      "\n"
     ]
    }
   ],
   "source": [
    "# Problem with copying arrays like lists\n",
    "\n",
    "a = np.array([1, 2, 3])\n",
    "b = a\n",
    "print(\"Before\")\n",
    "print(f\"a: {a}\")\n",
    "print(f\"b: {b}\\n\")\n",
    "\n",
    "b[0] = 100\n",
    "print(\"After\")\n",
    "print(f\"a: {a}\")\n",
    "print(f\"b: {b}\\n\")\n",
    "\n",
    "# Problem occurs because both the variables point to the same location in memory"
   ]
  },
  {
   "cell_type": "code",
   "execution_count": 20,
   "metadata": {},
   "outputs": [
    {
     "name": "stdout",
     "output_type": "stream",
     "text": [
      "Before\n",
      "a: [1 2 3]\n",
      "b: [1 2 3]\n",
      "\n",
      "After\n",
      "a: [1 2 3]\n",
      "b: [100   2   3]\n"
     ]
    }
   ],
   "source": [
    "# Copying the right way\n",
    "a = np.array([1, 2, 3])\n",
    "b = a.copy()\n",
    "\n",
    "print(\"Before\")\n",
    "print(f\"a: {a}\")\n",
    "print(f\"b: {b}\\n\")\n",
    "\n",
    "b[0] = 100\n",
    "print(\"After\")\n",
    "print(f\"a: {a}\")\n",
    "print(f\"b: {b}\")"
   ]
  },
  {
   "cell_type": "markdown",
   "metadata": {},
   "source": [
    "### Mathematics"
   ]
  },
  {
   "cell_type": "code",
   "execution_count": 21,
   "metadata": {},
   "outputs": [
    {
     "name": "stdout",
     "output_type": "stream",
     "text": [
      "Addition: [3 4 5 6 7]\n",
      "Subtraction: [-1  0  1  2  3]\n",
      "Multiplication: [ 2  4  6  8 10]\n",
      "Division: [0.5 1.  1.5 2.  2.5]\n",
      "Modulo: [1 0 1 0 1]\n"
     ]
    }
   ],
   "source": [
    "a = np.array([1, 2, 3, 4, 5])\n",
    "\n",
    "print(f\"Addition: {a + 2}\")\n",
    "print(f\"Subtraction: {a - 2}\")\n",
    "print(f\"Multiplication: {a * 2}\")\n",
    "print(f\"Division: {a / 2}\")\n",
    "print(f\"Modulo: {a % 2}\")"
   ]
  },
  {
   "cell_type": "code",
   "execution_count": 22,
   "metadata": {},
   "outputs": [
    {
     "name": "stdout",
     "output_type": "stream",
     "text": [
      "Addition: [ 3  7 11]\n",
      "Subtraction: [1 1 1]\n",
      "Multiplication: [ 2 12 30]\n",
      "Division: [2.         1.33333333 1.2       ]\n",
      "Modulo: [0 1 1]\n"
     ]
    }
   ],
   "source": [
    "# Mathematical Operations on 2 arrays\n",
    "a = np.array([2, 4, 6])\n",
    "b = np.array([1, 3, 5])\n",
    "\n",
    "print(f\"Addition: {a + b}\")\n",
    "print(f\"Subtraction: {a - b}\")\n",
    "print(f\"Multiplication: {a * b}\")\n",
    "print(f\"Division: {a / b}\")\n",
    "print(f\"Modulo: {a % b}\")"
   ]
  },
  {
   "cell_type": "code",
   "execution_count": 23,
   "metadata": {},
   "outputs": [
    {
     "name": "stdout",
     "output_type": "stream",
     "text": [
      "Sin: [ 0.90929743 -0.7568025  -0.2794155 ]\n",
      "Cos: [-0.41614684 -0.65364362  0.96017029]\n",
      "Tan: [-2.18503986  1.15782128 -0.29100619]\n"
     ]
    }
   ],
   "source": [
    "print(f\"Sin: {np.sin(a)}\")\n",
    "print(f\"Cos: {np.cos(a)}\")\n",
    "print(f\"Tan: {np.tan(a)}\")"
   ]
  },
  {
   "cell_type": "code",
   "execution_count": 24,
   "metadata": {},
   "outputs": [
    {
     "name": "stdout",
     "output_type": "stream",
     "text": [
      "a:[[1. 1. 1.]\n",
      " [1. 1. 1.]]\n",
      "b:[[2 2]\n",
      " [2 2]\n",
      " [2 2]]\n",
      "a × b = \n",
      "\n",
      "[[6. 6.]\n",
      " [6. 6.]]\n"
     ]
    }
   ],
   "source": [
    "# Matrix Multiplication\n",
    "a = np.ones((2, 3))\n",
    "b = np.full((3, 2), 2)\n",
    "\n",
    "print(f\"a:{a}\")\n",
    "print(f\"b:{b}\")\n",
    "\n",
    "print(\"a × b = \\n\")\n",
    "print(np.matmul(a, b))"
   ]
  },
  {
   "cell_type": "code",
   "execution_count": 25,
   "metadata": {},
   "outputs": [
    {
     "name": "stdout",
     "output_type": "stream",
     "text": [
      "-2.0000000000000004\n"
     ]
    }
   ],
   "source": [
    "# Find determinant\n",
    "mat = np.array([[1, 2], [3, 4]])\n",
    "print(np.linalg.det(mat))"
   ]
  },
  {
   "cell_type": "markdown",
   "metadata": {},
   "source": [
    "### Statistics"
   ]
  },
  {
   "cell_type": "code",
   "execution_count": 26,
   "metadata": {},
   "outputs": [
    {
     "name": "stdout",
     "output_type": "stream",
     "text": [
      "[[1 2 3]\n",
      " [4 5 6]]\n"
     ]
    }
   ],
   "source": [
    "arr = np.array([[1, 2, 3], [4, 5, 6]])\n",
    "print(arr)"
   ]
  },
  {
   "cell_type": "code",
   "execution_count": 27,
   "metadata": {},
   "outputs": [
    {
     "name": "stdout",
     "output_type": "stream",
     "text": [
      "Min: 1\n",
      "Max: 6\n",
      "Mean: 3.5\n",
      "Standard Deviation: 1.707825127659933\n",
      "Sum: 21\n"
     ]
    }
   ],
   "source": [
    "print(f\"Min: {np.min(arr)}\")\n",
    "print(f\"Max: {np.max(arr)}\")\n",
    "print(f\"Mean: {np.mean(arr)}\")\n",
    "print(f\"Standard Deviation: {np.std(arr)}\")\n",
    "print(f\"Sum: {np.sum(arr)}\")"
   ]
  },
  {
   "cell_type": "code",
   "execution_count": 28,
   "metadata": {},
   "outputs": [
    {
     "name": "stdout",
     "output_type": "stream",
     "text": [
      "Col: [1 2 3]\n",
      "Row: [1 4]\n"
     ]
    }
   ],
   "source": [
    "# Stats of specific rows/cols\n",
    "print(f\"Col: {np.min(arr, axis=0)}\")\n",
    "print(f\"Row: {np.min(arr, axis=1)}\")"
   ]
  },
  {
   "cell_type": "markdown",
   "metadata": {},
   "source": [
    "### Reorganizing Arrays"
   ]
  },
  {
   "cell_type": "code",
   "execution_count": 29,
   "metadata": {},
   "outputs": [
    {
     "name": "stdout",
     "output_type": "stream",
     "text": [
      "[[1 2 3 4]\n",
      " [5 6 7 8]]\n",
      "Shape of a: (2, 4)\n",
      "[[1]\n",
      " [2]\n",
      " [3]\n",
      " [4]\n",
      " [5]\n",
      " [6]\n",
      " [7]\n",
      " [8]]\n",
      "Shape of a_reshaped: (8, 1)\n"
     ]
    }
   ],
   "source": [
    "a = np.array([[1, 2, 3, 4], [5, 6, 7, 8]])\n",
    "print(a)\n",
    "print(f\"Shape of a: {a.shape}\")\n",
    "\n",
    "a_reshaped = a.reshape((8, 1))\n",
    "print(a_reshaped)\n",
    "print(f\"Shape of a_reshaped: {a_reshaped.shape}\")"
   ]
  },
  {
   "cell_type": "code",
   "execution_count": 30,
   "metadata": {},
   "outputs": [
    {
     "data": {
      "text/plain": [
       "array([[1, 2, 3, 4],\n",
       "       [5, 6, 7, 8],\n",
       "       [5, 6, 7, 8],\n",
       "       [1, 2, 3, 4],\n",
       "       [1, 2, 3, 4]])"
      ]
     },
     "execution_count": 30,
     "metadata": {},
     "output_type": "execute_result"
    }
   ],
   "source": [
    "# Vertical Stacks\n",
    "\n",
    "v1 = np.array([1, 2, 3, 4])\n",
    "v2 = np.array([5, 6, 7, 8])\n",
    "\n",
    "np.vstack([v1, v2, v2, v1, v1])"
   ]
  },
  {
   "cell_type": "code",
   "execution_count": 31,
   "metadata": {},
   "outputs": [
    {
     "data": {
      "text/plain": [
       "array([[1., 1., 1., 1., 0., 0.],\n",
       "       [1., 1., 1., 1., 0., 0.]])"
      ]
     },
     "execution_count": 31,
     "metadata": {},
     "output_type": "execute_result"
    }
   ],
   "source": [
    "# Horizontal Stacks\n",
    "\n",
    "v1 = np.ones((2, 4))\n",
    "v2 = np.zeros((2, 2))\n",
    "\n",
    "np.hstack([v1, v2])"
   ]
  },
  {
   "cell_type": "code",
   "execution_count": 32,
   "metadata": {},
   "outputs": [
    {
     "data": {
      "text/plain": [
       "array([[1, 2, 3, 4],\n",
       "       [5, 6, 7, 8]])"
      ]
     },
     "execution_count": 32,
     "metadata": {},
     "output_type": "execute_result"
    }
   ],
   "source": [
    "# Concatenate Arrays\n",
    "\n",
    "v1 = np.array([[1, 2, 3, 4]])\n",
    "v2 = np.array([[5, 6, 7, 8]])\n",
    "\n",
    "np.concatenate([v1, v2], axis=0)"
   ]
  },
  {
   "cell_type": "code",
   "execution_count": 33,
   "metadata": {},
   "outputs": [
    {
     "name": "stdout",
     "output_type": "stream",
     "text": [
      "[[[ 1  2]\n",
      "  [ 3  4]\n",
      "  [ 5  6]]\n",
      "\n",
      " [[ 7  8]\n",
      "  [ 9 10]\n",
      "  [11 12]]\n",
      "\n",
      " [[13 14]\n",
      "  [15 16]\n",
      "  [17 18]]\n",
      "\n",
      " [[19 20]\n",
      "  [21 22]\n",
      "  [23 24]]]\n",
      "==============================\n",
      "[[[ 1  2]\n",
      "  [ 3  4]\n",
      "  [ 5  6]\n",
      "  [13 14]\n",
      "  [15 16]\n",
      "  [17 18]]\n",
      "\n",
      " [[ 7  8]\n",
      "  [ 9 10]\n",
      "  [11 12]\n",
      "  [19 20]\n",
      "  [21 22]\n",
      "  [23 24]]]\n",
      "==============================\n",
      "[[[ 1  2 13 14]\n",
      "  [ 3  4 15 16]\n",
      "  [ 5  6 17 18]]\n",
      "\n",
      " [[ 7  8 19 20]\n",
      "  [ 9 10 21 22]\n",
      "  [11 12 23 24]]]\n",
      "==============================\n"
     ]
    }
   ],
   "source": [
    "# For 3D arrays\n",
    "v1 = np.array([[[1, 2], [3, 4], [5, 6]], [[7, 8], [9, 10], [11, 12]]])\n",
    "v2 = np.array([[[13, 14], [15, 16], [17, 18]], [[19, 20], [21, 22], [23, 24]]])\n",
    "\n",
    "print(np.concatenate([v1, v2], axis=0))\n",
    "print(\"===\" * 10)\n",
    "print(np.concatenate([v1, v2], axis=1))\n",
    "print(\"===\" * 10)\n",
    "print(np.concatenate([v1, v2], axis=2))\n",
    "print(\"===\" * 10)"
   ]
  }
 ],
 "metadata": {
  "kernelspec": {
   "display_name": "Python 3",
   "language": "python",
   "name": "python3"
  },
  "language_info": {
   "codemirror_mode": {
    "name": "ipython",
    "version": 3
   },
   "file_extension": ".py",
   "mimetype": "text/x-python",
   "name": "python",
   "nbconvert_exporter": "python",
   "pygments_lexer": "ipython3",
   "version": "3.10.0"
  }
 },
 "nbformat": 4,
 "nbformat_minor": 2
}
