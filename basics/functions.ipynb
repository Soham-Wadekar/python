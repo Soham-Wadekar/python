{
 "cells": [
  {
   "cell_type": "markdown",
   "metadata": {},
   "source": [
    "## Functions\n",
    "\n",
    "In Python, functions are blocks of reusable code defined using the `def` keyword. They can take parameters, perform tasks, and return values, enhancing code modularity and readability."
   ]
  },
  {
   "cell_type": "markdown",
   "metadata": {},
   "source": [
    "#### Defining and Calling a Function"
   ]
  },
  {
   "cell_type": "code",
   "execution_count": 1,
   "metadata": {},
   "outputs": [
    {
     "name": "stdout",
     "output_type": "stream",
     "text": [
      "Hello World\n"
     ]
    }
   ],
   "source": [
    "def say_hello():\n",
    "    print(\"Hello World\")        # Defining a function\n",
    "\n",
    "say_hello()                     # Calling a function"
   ]
  },
  {
   "cell_type": "markdown",
   "metadata": {},
   "source": [
    "#### Arguments"
   ]
  },
  {
   "cell_type": "code",
   "execution_count": 2,
   "metadata": {},
   "outputs": [
    {
     "name": "stdout",
     "output_type": "stream",
     "text": [
      "Hello, Soham\n"
     ]
    }
   ],
   "source": [
    "def say_hello(name):\n",
    "    print(f\"Hello, {name}\")\n",
    "\n",
    "say_hello(\"Soham\")"
   ]
  },
  {
   "cell_type": "markdown",
   "metadata": {},
   "source": [
    "##### Number of Arguments\n",
    "By default, a function must be called with the correct number of arguments. Meaning that if your function expects 2 arguments, you have to call the function with 2 arguments, not more, and not less."
   ]
  },
  {
   "cell_type": "code",
   "execution_count": 3,
   "metadata": {},
   "outputs": [
    {
     "name": "stdout",
     "output_type": "stream",
     "text": [
      "Area of the rectangle is 50 sq. units\n",
      "ERROR!! Two arguments must be passed in the function\n"
     ]
    }
   ],
   "source": [
    "def rectangle_area(length,width):\n",
    "    print(f\"Area of the rectangle is {length*width} sq. units\")\n",
    "\n",
    "rectangle_area(10,5)\n",
    "\n",
    "try:\n",
    "    rectangle_area(10)\n",
    "except:\n",
    "    print(\"ERROR!! Two arguments must be passed in the function\")"
   ]
  },
  {
   "cell_type": "markdown",
   "metadata": {},
   "source": [
    "##### Keyword Arguments\n",
    "You can also send arguments with the key = value syntax.\n",
    "\n",
    "This way the order of the arguments does not matter."
   ]
  },
  {
   "cell_type": "code",
   "execution_count": 4,
   "metadata": {},
   "outputs": [
    {
     "name": "stdout",
     "output_type": "stream",
     "text": [
      "The volume of the cuboid is 60 cu. units\n"
     ]
    }
   ],
   "source": [
    "def cuboid_volume(b,l,h):\n",
    "    print(f\"The volume of the cuboid is {l*b*h} cu. units\")\n",
    "\n",
    "cuboid_volume(l=3,b=4,h=5)"
   ]
  },
  {
   "cell_type": "markdown",
   "metadata": {},
   "source": [
    "##### Default Arguments\n",
    "\n",
    "If a function is called without an argument, it would use its default value (if it is provided)"
   ]
  },
  {
   "cell_type": "code",
   "execution_count": 5,
   "metadata": {},
   "outputs": [
    {
     "name": "stdout",
     "output_type": "stream",
     "text": [
      "Hello, User\n",
      "Hello, Soham\n"
     ]
    }
   ],
   "source": [
    "def say_hello(name=\"User\"):\n",
    "    print(f\"Hello, {name}\")\n",
    "\n",
    "say_hello()\n",
    "say_hello(\"Soham\")"
   ]
  },
  {
   "cell_type": "markdown",
   "metadata": {},
   "source": [
    "#### Return statement\n",
    "\n",
    "This statements allows the user return a value"
   ]
  },
  {
   "cell_type": "code",
   "execution_count": 6,
   "metadata": {},
   "outputs": [
    {
     "name": "stdout",
     "output_type": "stream",
     "text": [
      "The area of the circle is 3.14 sq. units\n",
      "3.14\n",
      "The area of the circle is None sq. units\n"
     ]
    }
   ],
   "source": [
    "def no_return_value(r):\n",
    "    print(3.14 * r * r)\n",
    "\n",
    "def return_value(r):\n",
    "    return 3.14 * r * r             # Can be stored in a variable\n",
    "\n",
    "result_return = return_value(1)\n",
    "print(f\"The area of the circle is {result_return} sq. units\")\n",
    "\n",
    "\n",
    "result_no_return = no_return_value(1)\n",
    "print(f\"The area of the circle is {result_no_return} sq. units\")        # Returns None"
   ]
  },
  {
   "cell_type": "markdown",
   "metadata": {},
   "source": [
    "#### Arbitrary Arguments and Arbitrary Keyword Arguments\n",
    "\n",
    "`*args` and `**kwargs`\n",
    "\n",
    "If you do not know how many arguments that will be passed into your function, add a `*` before the parameter name in the function definition.\n",
    "\n",
    "If you do not know how many keyword arguments that will be passed into your function, add two asterisks `**` before the parameter name in the function definition."
   ]
  },
  {
   "cell_type": "code",
   "execution_count": 7,
   "metadata": {},
   "outputs": [
    {
     "name": "stdout",
     "output_type": "stream",
     "text": [
      "The sum of the given elements is 5\n",
      "The sum of the given elements is 315\n",
      "The sum of the given elements is 55\n",
      "The sum of the given elements is 1\n"
     ]
    }
   ],
   "source": [
    "def add(*nums):\n",
    "    return sum(nums)\n",
    "\n",
    "print(f\"The sum of the given elements is {add(2,3)}\")\n",
    "print(f\"The sum of the given elements is {add(32,4,23,35,221)}\")\n",
    "print(f\"The sum of the given elements is {add(1,2,3,4,5,6,7,8,9,10)}\")\n",
    "print(f\"The sum of the given elements is {add(1)}\")"
   ]
  },
  {
   "cell_type": "code",
   "execution_count": 1,
   "metadata": {},
   "outputs": [
    {
     "name": "stdout",
     "output_type": "stream",
     "text": [
      "The name of the person is Soham Wadekar\n"
     ]
    }
   ],
   "source": [
    "def name(**name):\n",
    "    print(f\"The name of the person is {name['fname']} {name['lname']}\")\n",
    "\n",
    "name(fname = \"Soham\", lname = \"Wadekar\")"
   ]
  },
  {
   "cell_type": "markdown",
   "metadata": {},
   "source": [
    "#### Recursion"
   ]
  },
  {
   "cell_type": "code",
   "execution_count": 8,
   "metadata": {},
   "outputs": [
    {
     "name": "stdout",
     "output_type": "stream",
     "text": [
      "The factorial of 10 is 3628800\n"
     ]
    }
   ],
   "source": [
    "def factorial(n):\n",
    "    if n == 0 or n == 1:\n",
    "        return 1\n",
    "    elif n < 0:\n",
    "        return \"Invalid input\"\n",
    "    return n * factorial(n-1)\n",
    "\n",
    "num = 10\n",
    "result = factorial(num)\n",
    "print(f\"The factorial of {num} is {result}\")"
   ]
  }
 ],
 "metadata": {
  "kernelspec": {
   "display_name": "Python 3",
   "language": "python",
   "name": "python3"
  },
  "language_info": {
   "codemirror_mode": {
    "name": "ipython",
    "version": 3
   },
   "file_extension": ".py",
   "mimetype": "text/x-python",
   "name": "python",
   "nbconvert_exporter": "python",
   "pygments_lexer": "ipython3",
   "version": "3.10.0"
  }
 },
 "nbformat": 4,
 "nbformat_minor": 2
}
