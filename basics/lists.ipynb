{
 "cells": [
  {
   "cell_type": "markdown",
   "metadata": {},
   "source": [
    "## 📃Lists `[]`\n",
    "A list in Python is an ordered, mutable collection of elements enclosed in square brackets. It supports indexing, slicing, and a variety of methods for manipulation, making it a versatile data structure.\n",
    "\n",
    "---"
   ]
  },
  {
   "cell_type": "markdown",
   "metadata": {},
   "source": [
    "#### Defining a list"
   ]
  },
  {
   "cell_type": "code",
   "execution_count": 4,
   "metadata": {},
   "outputs": [
    {
     "name": "stdout",
     "output_type": "stream",
     "text": [
      "List 1:  [1, 2, 3, 4, True, 'a', 'b', 3.14]\n",
      "List 2:  [0, 0, 0, 0, 0]\n",
      "List 3:  [0, 1, 2, 3, 4, 5, 6, 7, 8, 9]\n",
      "List 4:  ['H', 'e', 'l', 'l', 'o', ' ', 'W', 'o', 'r', 'l', 'd']\n"
     ]
    }
   ],
   "source": [
    "list1 = [1,2,3,4,True,\"a\",\"b\",3.14]\n",
    "list2 = [0] * 5\n",
    "list3 = list(range(10))             # list() takes an iterable as an argument\n",
    "list4 = list(\"Hello World\")\n",
    "\n",
    "print(\"List 1: \",list1)\n",
    "print(\"List 2: \",list2)\n",
    "print(\"List 3: \",list3)\n",
    "print(\"List 4: \",list4)"
   ]
  },
  {
   "cell_type": "markdown",
   "metadata": {},
   "source": [
    "#### Concatenating two lists"
   ]
  },
  {
   "cell_type": "code",
   "execution_count": 5,
   "metadata": {},
   "outputs": [
    {
     "name": "stdout",
     "output_type": "stream",
     "text": [
      "[1, 2, 3, 4, 'a', 'b', 'c']\n"
     ]
    }
   ],
   "source": [
    "l1 = [1,2,3,4]\n",
    "l2 = ['a','b','c']\n",
    "\n",
    "print(l1+l2)"
   ]
  },
  {
   "cell_type": "markdown",
   "metadata": {},
   "source": [
    "#### Accessing an element in a list"
   ]
  },
  {
   "cell_type": "code",
   "execution_count": 6,
   "metadata": {},
   "outputs": [
    {
     "name": "stdout",
     "output_type": "stream",
     "text": [
      "A\n",
      "D\n"
     ]
    }
   ],
   "source": [
    "l1 = [\"A\",\"B\",\"C\",\"D\"]\n",
    "print(l1[0])            # Accessing first element\n",
    "print(l1[-1])           # Accessing last element"
   ]
  },
  {
   "cell_type": "markdown",
   "metadata": {},
   "source": [
    "#### List Slicing"
   ]
  },
  {
   "cell_type": "code",
   "execution_count": 10,
   "metadata": {},
   "outputs": [
    {
     "name": "stdout",
     "output_type": "stream",
     "text": [
      "['C', 'D', 'E']\n",
      "['D', 'E', 'F', 'G', 'H', 'I', 'J']\n",
      "['A', 'B', 'C', 'D', 'E', 'F']\n",
      "['A', 'D', 'G', 'J']\n",
      "['F', 'H']\n"
     ]
    }
   ],
   "source": [
    "l1 = [\"A\",\"B\",\"C\",\"D\",\"E\",\"F\",\"G\",\"H\",\"I\",\"J\"]\n",
    "\n",
    "print(l1[2:5])              # Accessing elements from index 2 to index (5-1)=4\n",
    "print(l1[3:])               # Accessing elements from index 3 to end of the list\n",
    "print(l1[:6])               # Accessing elements till index (6-1)=5\n",
    "print(l1[::3])              # Accessing elements with steps 3 (every third element)\n",
    "print(l1[-5:-1:2])          # Accessing every second elements from reverse order from index -5 to index -1"
   ]
  },
  {
   "cell_type": "markdown",
   "metadata": {},
   "source": [
    "#### List Packing"
   ]
  },
  {
   "cell_type": "code",
   "execution_count": 13,
   "metadata": {},
   "outputs": [
    {
     "name": "stdout",
     "output_type": "stream",
     "text": [
      "[1, 2, 3]\n",
      "[True, False]\n",
      "['A', 'B', 'C', 'D', 'E', 'F', 'G', 'H', 'I', 'J']\n",
      "[[1, 2, 3], [4, 5], [6, 7, 8, 9], [10], [11, 12]]\n"
     ]
    }
   ],
   "source": [
    "def pack_list(*vals):\n",
    "    print(list(vals))\n",
    "\n",
    "pack_list(1,2,3)\n",
    "pack_list(True,False)\n",
    "pack_list(\"A\",\"B\",\"C\",\"D\",\"E\",\"F\",\"G\",\"H\",\"I\",\"J\")\n",
    "pack_list([1,2,3],[4,5],[6,7,8,9],[10],[11,12])"
   ]
  },
  {
   "cell_type": "markdown",
   "metadata": {},
   "source": [
    "#### List Unpacking"
   ]
  },
  {
   "cell_type": "code",
   "execution_count": 14,
   "metadata": {},
   "outputs": [
    {
     "name": "stdout",
     "output_type": "stream",
     "text": [
      "1\n",
      "2\n",
      "[3, 4, 5, 6]\n",
      "7\n"
     ]
    }
   ],
   "source": [
    "l1 = [1,2,3,4,5,6,7]\n",
    "first, second, *others, last = l1\n",
    "\n",
    "print(first)\n",
    "print(second)\n",
    "print(others)\n",
    "print(last)"
   ]
  }
 ],
 "metadata": {
  "kernelspec": {
   "display_name": "Python 3",
   "language": "python",
   "name": "python3"
  },
  "language_info": {
   "codemirror_mode": {
    "name": "ipython",
    "version": 3
   },
   "file_extension": ".py",
   "mimetype": "text/x-python",
   "name": "python",
   "nbconvert_exporter": "python",
   "pygments_lexer": "ipython3",
   "version": "3.9.13"
  }
 },
 "nbformat": 4,
 "nbformat_minor": 2
}
