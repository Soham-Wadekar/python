{
 "cells": [
  {
   "cell_type": "markdown",
   "metadata": {},
   "source": [
    "## Match Case\n",
    "\n",
    "In Python, match case is a feature introduced in `PEP 634 (Python 3.10+)` that enhances pattern matching. It allows concise and readable handling of multiple cases by providing a clearer syntax for matching and extracting values from complex data structures, improving code readability and reducing boilerplate."
   ]
  },
  {
   "cell_type": "code",
   "execution_count": 15,
   "metadata": {},
   "outputs": [
    {
     "name": "stdout",
     "output_type": "stream",
     "text": [
      "This language is Python\n"
     ]
    }
   ],
   "source": [
    "lang = \"Python\"\n",
    "\n",
    "match lang:\n",
    "    case \"Python\":\n",
    "        print(f\"This language is {lang}\")\n",
    "    case \"C\":\n",
    "        print(f\"This language is {lang}\")\n",
    "    case \"Java\":\n",
    "        print(f\"This language is {lang}\")\n",
    "    case \"Ruby\":\n",
    "        print(f\"This language is {lang}\")\n",
    "    case _:\n",
    "        print(\"This is not a programming language!\")"
   ]
  },
  {
   "cell_type": "markdown",
   "metadata": {},
   "source": [
    "#### Match Case using AND and OR"
   ]
  },
  {
   "cell_type": "code",
   "execution_count": 16,
   "metadata": {},
   "outputs": [
    {
     "name": "stdout",
     "output_type": "stream",
     "text": [
      "This language is C++\n"
     ]
    }
   ],
   "source": [
    "lang = \"C++\"\n",
    "\n",
    "match lang:\n",
    "    case \"Python\":\n",
    "        print(f\"This language is {lang}\")\n",
    "    case \"C\" | \"C++\":\n",
    "        print(f\"This language is {lang}\")\n",
    "    case \"Java\" | \"JavaScript\":\n",
    "        print(f\"This language is {lang}\")\n",
    "    case \"Ruby\" | \"Perl\":\n",
    "        print(f\"This language is {lang}\")\n",
    "    case _:\n",
    "        print(\"This is not a programming language!\")"
   ]
  },
  {
   "cell_type": "code",
   "execution_count": 17,
   "metadata": {},
   "outputs": [
    {
     "name": "stdout",
     "output_type": "stream",
     "text": [
      "Grade for 99 marks: A\n",
      "Grade for 85 marks: B\n",
      "Grade for 72 marks: C\n",
      "Grade for 65 marks: D\n",
      "Grade for 12 marks: F\n",
      "Grade for -10 marks: Invalid Marks\n"
     ]
    }
   ],
   "source": [
    "def assign_grade(marks):\n",
    "    match marks:\n",
    "        case marks if 90 <= marks <= 100:\n",
    "            return 'A'\n",
    "        case marks if 80 <= marks < 90:\n",
    "            return 'B'\n",
    "        case marks if 70 <= marks < 80:\n",
    "            return 'C'\n",
    "        case marks if 60 <= marks < 70:\n",
    "            return 'D'\n",
    "        case marks if 0<= marks < 60:\n",
    "            return 'F'\n",
    "        case _:\n",
    "            return 'Invalid Marks'\n",
    "\n",
    "# Example usage:\n",
    "student_marks = 99\n",
    "grade = assign_grade(student_marks)\n",
    "print(f\"Grade for {student_marks} marks: {grade}\")\n",
    "\n",
    "student_marks = 85\n",
    "grade = assign_grade(student_marks)\n",
    "print(f\"Grade for {student_marks} marks: {grade}\")\n",
    "\n",
    "student_marks = 72\n",
    "grade = assign_grade(student_marks)\n",
    "print(f\"Grade for {student_marks} marks: {grade}\")\n",
    "\n",
    "student_marks = 65\n",
    "grade = assign_grade(student_marks)\n",
    "print(f\"Grade for {student_marks} marks: {grade}\")\n",
    "\n",
    "student_marks = 12\n",
    "grade = assign_grade(student_marks)\n",
    "print(f\"Grade for {student_marks} marks: {grade}\")\n",
    "\n",
    "student_marks = -10\n",
    "grade = assign_grade(student_marks)\n",
    "print(f\"Grade for {student_marks} marks: {grade}\")"
   ]
  }
 ],
 "metadata": {
  "kernelspec": {
   "display_name": "Python 3",
   "language": "python",
   "name": "python3"
  },
  "language_info": {
   "codemirror_mode": {
    "name": "ipython",
    "version": 3
   },
   "file_extension": ".py",
   "mimetype": "text/x-python",
   "name": "python",
   "nbconvert_exporter": "python",
   "pygments_lexer": "ipython3",
   "version": "3.10.0"
  }
 },
 "nbformat": 4,
 "nbformat_minor": 2
}
