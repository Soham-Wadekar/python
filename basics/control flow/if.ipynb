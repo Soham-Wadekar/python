{
 "cells": [
  {
   "cell_type": "markdown",
   "metadata": {},
   "source": [
    "## If-Elif-Else Statements\n",
    "\n",
    "In Python, the `if-elif-else` construct is used for conditional branching. It allows you to execute different blocks of code based on the evaluation of multiple conditions. The `if` statement checks the first condition, `elif` (short for \"else if\") checks additional conditions, and `else` provides a default block if none of the previous conditions are met."
   ]
  },
  {
   "cell_type": "code",
   "execution_count": 12,
   "metadata": {},
   "outputs": [],
   "source": [
    "x = 10\n",
    "y = 12\n",
    "z = 18"
   ]
  },
  {
   "cell_type": "code",
   "execution_count": 13,
   "metadata": {},
   "outputs": [
    {
     "name": "stdout",
     "output_type": "stream",
     "text": [
      "X is smaller than Y\n"
     ]
    }
   ],
   "source": [
    "# If statement\n",
    "\n",
    "if x < y:\n",
    "    print(\"X is smaller than Y\")"
   ]
  },
  {
   "cell_type": "code",
   "execution_count": 14,
   "metadata": {},
   "outputs": [
    {
     "name": "stdout",
     "output_type": "stream",
     "text": [
      "X is not greater than Z\n"
     ]
    }
   ],
   "source": [
    "# If-else statement\n",
    "\n",
    "if x > z:\n",
    "    print(\"X is greater than Z\")\n",
    "else:\n",
    "    print(\"X is not greater than Z\")"
   ]
  },
  {
   "cell_type": "code",
   "execution_count": 15,
   "metadata": {},
   "outputs": [
    {
     "name": "stdout",
     "output_type": "stream",
     "text": [
      "X is smaller than Y and Z\n"
     ]
    }
   ],
   "source": [
    "# If-elif-else statement\n",
    "\n",
    "if x > z:\n",
    "    print(\"X is greater than Z\")\n",
    "elif x > y:\n",
    "    print(\"X is greater than Y\")\n",
    "else:\n",
    "    print(\"X is smaller than Y and Z\")"
   ]
  },
  {
   "cell_type": "markdown",
   "metadata": {},
   "source": [
    "#### Nested If statements"
   ]
  },
  {
   "cell_type": "code",
   "execution_count": 16,
   "metadata": {},
   "outputs": [
    {
     "name": "stdout",
     "output_type": "stream",
     "text": [
      "Z is the largest\n"
     ]
    }
   ],
   "source": [
    "if z > x:\n",
    "    if z > y:\n",
    "        print(\"Z is the largest\")\n",
    "    else:\n",
    "        print(\"Z is smaller than Y\")\n",
    "else:\n",
    "    print(\"Z is smaller than X\")"
   ]
  },
  {
   "cell_type": "markdown",
   "metadata": {},
   "source": [
    "#### `AND`, `OR` and `NOT` in If statements"
   ]
  },
  {
   "cell_type": "code",
   "execution_count": 17,
   "metadata": {},
   "outputs": [
    {
     "name": "stdout",
     "output_type": "stream",
     "text": [
      "Z is the largest\n"
     ]
    }
   ],
   "source": [
    "# AND\n",
    "\n",
    "if x < z and y < z:\n",
    "    print(\"Z is the largest\")"
   ]
  },
  {
   "cell_type": "code",
   "execution_count": 18,
   "metadata": {},
   "outputs": [
    {
     "name": "stdout",
     "output_type": "stream",
     "text": [
      "Y is larger than either X or Z\n"
     ]
    }
   ],
   "source": [
    "# OR\n",
    "\n",
    "if x < y or z < y:\n",
    "    print(\"Y is larger than either X or Z\")"
   ]
  },
  {
   "cell_type": "code",
   "execution_count": 19,
   "metadata": {},
   "outputs": [
    {
     "name": "stdout",
     "output_type": "stream",
     "text": [
      "X is not greater than Y\n"
     ]
    }
   ],
   "source": [
    "# NOT\n",
    "\n",
    "if not (x > y):\n",
    "    print(\"X is not greater than Y\")"
   ]
  },
  {
   "cell_type": "markdown",
   "metadata": {},
   "source": [
    "#### Short hand If statements (Ternary Operators)"
   ]
  },
  {
   "cell_type": "code",
   "execution_count": 22,
   "metadata": {},
   "outputs": [
    {
     "name": "stdout",
     "output_type": "stream",
     "text": [
      "X is smaller than Y\n"
     ]
    }
   ],
   "source": [
    "if x < y: print(\"X is smaller than Y\")"
   ]
  },
  {
   "cell_type": "code",
   "execution_count": 23,
   "metadata": {},
   "outputs": [
    {
     "name": "stdout",
     "output_type": "stream",
     "text": [
      "X is smaller than Y\n"
     ]
    }
   ],
   "source": [
    "print(\"X is greater than Y\") if x > y else print(\"X is smaller than Y\")"
   ]
  },
  {
   "cell_type": "markdown",
   "metadata": {},
   "source": [
    "#### Pass statement\n",
    "Used when you have no content for an `if` statement"
   ]
  },
  {
   "cell_type": "code",
   "execution_count": 24,
   "metadata": {},
   "outputs": [],
   "source": [
    "if x > y:\n",
    "    pass"
   ]
  },
  {
   "cell_type": "markdown",
   "metadata": {},
   "source": [
    "#### Chaining comparison operators"
   ]
  },
  {
   "cell_type": "code",
   "execution_count": 25,
   "metadata": {},
   "outputs": [
    {
     "name": "stdout",
     "output_type": "stream",
     "text": [
      "Age is between 18 and 65\n"
     ]
    }
   ],
   "source": [
    "age = 31\n",
    "\n",
    "if 18 <= age < 50:\n",
    "    print(\"Age is between 18 and 65\")"
   ]
  }
 ],
 "metadata": {
  "kernelspec": {
   "display_name": "Python 3",
   "language": "python",
   "name": "python3"
  },
  "language_info": {
   "codemirror_mode": {
    "name": "ipython",
    "version": 3
   },
   "file_extension": ".py",
   "mimetype": "text/x-python",
   "name": "python",
   "nbconvert_exporter": "python",
   "pygments_lexer": "ipython3",
   "version": "3.9.13"
  }
 },
 "nbformat": 4,
 "nbformat_minor": 2
}
