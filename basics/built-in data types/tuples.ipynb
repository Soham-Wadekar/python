{
 "cells": [
  {
   "cell_type": "markdown",
   "metadata": {},
   "source": [
    "## 🔒 Tuple `()`\n",
    "\n",
    "A tuple in Python is an ordered, immutable collection of elements enclosed in parentheses. It supports indexing and slicing but cannot be modified after creation, making it suitable for representing fixed collections.\n",
    "\n",
    "---"
   ]
  },
  {
   "cell_type": "markdown",
   "metadata": {},
   "source": [
    "#### Defining a tuple"
   ]
  },
  {
   "cell_type": "code",
   "execution_count": 1,
   "metadata": {},
   "outputs": [
    {
     "name": "stdout",
     "output_type": "stream",
     "text": [
      "(1, 2, 3, 4, True, 'a', 'b', 3.14)\n",
      "(0, 1, 2, 3, 4, 5, 6, 7, 8, 9)\n",
      "('H', 'e', 'l', 'l', 'o', ' ', 'W', 'o', 'r', 'l', 'd')\n"
     ]
    }
   ],
   "source": [
    "tup1 = (1,2,3,4,True,\"a\",\"b\",3.14)\n",
    "tup2 = tuple(range(10))             # tuple() takes an iterable as an argument\n",
    "tup3 = tuple(\"Hello World\")\n",
    "\n",
    "print(tup1)\n",
    "print(tup2)\n",
    "print(tup3)"
   ]
  },
  {
   "cell_type": "code",
   "execution_count": 2,
   "metadata": {},
   "outputs": [
    {
     "name": "stdout",
     "output_type": "stream",
     "text": [
      "(1,) is of type <class 'tuple'>\n",
      "1 is of type <class 'int'>\n"
     ]
    }
   ],
   "source": [
    "tup = (1,)\n",
    "print(f\"{tup} is of type {type(tup)}\")\n",
    "\n",
    "not_a_tup = (1)\n",
    "print(f\"{not_a_tup} is of type {type(not_a_tup)}\")"
   ]
  },
  {
   "cell_type": "markdown",
   "metadata": {},
   "source": [
    "#### Concatenating two tuples"
   ]
  },
  {
   "cell_type": "code",
   "execution_count": 3,
   "metadata": {},
   "outputs": [
    {
     "name": "stdout",
     "output_type": "stream",
     "text": [
      "(1, 2, 3, 'a', 'b', 'c')\n"
     ]
    }
   ],
   "source": [
    "t1 = (1,2,3)\n",
    "t2 = ('a','b','c')\n",
    "\n",
    "t3 = t1 + t2\n",
    "print(t3)"
   ]
  },
  {
   "cell_type": "markdown",
   "metadata": {},
   "source": [
    "#### Accessing elements in a tuple"
   ]
  },
  {
   "cell_type": "code",
   "execution_count": 4,
   "metadata": {},
   "outputs": [
    {
     "name": "stdout",
     "output_type": "stream",
     "text": [
      "A\n",
      "D\n"
     ]
    }
   ],
   "source": [
    "t1 = (\"A\",\"B\",\"C\",\"D\")\n",
    "print(t1[0])            # Accessing first element\n",
    "print(t1[-1])           # Accessing last element"
   ]
  },
  {
   "cell_type": "markdown",
   "metadata": {},
   "source": [
    "#### Assigning values to a tuple\n",
    "\n",
    "A tuple is mutable i.e. it cannot be updated after its creation. So, a tuple's element cannot be changed later. But lists inside a tuples can be changed since lists are immutable"
   ]
  },
  {
   "cell_type": "code",
   "execution_count": 5,
   "metadata": {},
   "outputs": [
    {
     "name": "stdout",
     "output_type": "stream",
     "text": [
      "Tuples cannot be changed after their creation\n",
      "=============================================\n",
      "([1, 2], [3, 4, 5], [6, 7])\n"
     ]
    }
   ],
   "source": [
    "try: \n",
    "    t1 = ('a','b','c','d')\n",
    "    t1[0] = 'A'\n",
    "except:\n",
    "    print(\"Tuples cannot be changed after their creation\")\n",
    "\n",
    "print(\"===\"*15)\n",
    "tup = ([1,2],[3,4,5],[6])\n",
    "tup[2].append(7)\n",
    "print(tup)"
   ]
  },
  {
   "cell_type": "markdown",
   "metadata": {},
   "source": [
    "#### Tuple Slicing"
   ]
  },
  {
   "cell_type": "code",
   "execution_count": 6,
   "metadata": {},
   "outputs": [
    {
     "name": "stdout",
     "output_type": "stream",
     "text": [
      "('C', 'D', 'E')\n",
      "('D', 'E', 'F', 'G', 'H', 'I', 'J')\n",
      "('A', 'B', 'C', 'D', 'E', 'F')\n",
      "('A', 'D', 'G', 'J')\n",
      "('F', 'H')\n"
     ]
    }
   ],
   "source": [
    "t1 = (\"A\",\"B\",\"C\",\"D\",\"E\",\"F\",\"G\",\"H\",\"I\",\"J\")\n",
    "\n",
    "print(t1[2:5])              # Accessing elements from index 2 to index (5-1)=4\n",
    "print(t1[3:])               # Accessing elements from index 3 to end of the list\n",
    "print(t1[:6])               # Accessing elements till index (6-1)=5\n",
    "print(t1[::3])              # Accessing elements with steps 3 (every third element)\n",
    "print(t1[-5:-1:2])          # Accessing every second elements from reverse order from index -5 to index -1"
   ]
  },
  {
   "cell_type": "markdown",
   "metadata": {},
   "source": [
    "#### Tuple Packing"
   ]
  },
  {
   "cell_type": "code",
   "execution_count": 7,
   "metadata": {},
   "outputs": [
    {
     "name": "stdout",
     "output_type": "stream",
     "text": [
      "(1, 2, 3)\n",
      "(True, False)\n",
      "('A', 'B', 'C', 'D', 'E', 'F', 'G', 'H', 'I', 'J')\n",
      "([1, 2, 3], [4, 5], [6, 7, 8, 9], [10], [11, 12])\n"
     ]
    }
   ],
   "source": [
    "def pack_tuple(*vals):\n",
    "    print(vals)\n",
    "\n",
    "pack_tuple(1,2,3)\n",
    "pack_tuple(True,False)\n",
    "pack_tuple(\"A\",\"B\",\"C\",\"D\",\"E\",\"F\",\"G\",\"H\",\"I\",\"J\")\n",
    "pack_tuple([1,2,3],[4,5],[6,7,8,9],[10],[11,12])"
   ]
  },
  {
   "cell_type": "markdown",
   "metadata": {},
   "source": [
    "#### List Unpacking"
   ]
  },
  {
   "cell_type": "code",
   "execution_count": 8,
   "metadata": {},
   "outputs": [
    {
     "name": "stdout",
     "output_type": "stream",
     "text": [
      "1\n",
      "2\n",
      "[3, 4, 5, 6]\n",
      "7\n"
     ]
    }
   ],
   "source": [
    "t1 = (1,2,3,4,5,6,7)\n",
    "first, second, *others, last = t1       # *others returns a list, not a tuple\n",
    "\n",
    "print(first)\n",
    "print(second)\n",
    "print(others)\n",
    "print(last)"
   ]
  },
  {
   "cell_type": "markdown",
   "metadata": {},
   "source": [
    "#### Tuple Methods"
   ]
  },
  {
   "cell_type": "code",
   "execution_count": 9,
   "metadata": {},
   "outputs": [],
   "source": [
    "tup = (1,2,3,4,2,3,2,1,3)"
   ]
  },
  {
   "cell_type": "code",
   "execution_count": 10,
   "metadata": {},
   "outputs": [
    {
     "name": "stdout",
     "output_type": "stream",
     "text": [
      "1. New Tuple: (1, 2, 3, 4, 2, 3, 2, 1, 3, 5, 6, 7)\n",
      "2. Delete: Tuple deleted\n",
      "3. Count: The count of 2 is 3\n",
      "4. Index: The number is at index 9\n",
      "6. Length: The length of the tuple is 12\n"
     ]
    }
   ],
   "source": [
    "# 1. Adding new elements -> Can be done by converting the tuple to a list or creating a new, updated tuple\n",
    "\n",
    "x = (5,6,7)\n",
    "tup += x                        # In the backend, the original tuple is deleted and a new one is created\n",
    "print(f\"1. New Tuple: {tup}\")\n",
    "\n",
    "# 2. Delete -> Elements of a tuple can't be deleted. The entire tuple can be\n",
    "try:\n",
    "    del tup\n",
    "    print(tup)\n",
    "except:\n",
    "    print(\"2. Delete: Tuple deleted\")\n",
    "    tup = (1,2,3,4,2,3,2,1,3,5,6,7)\n",
    "\n",
    "# 3. Count -> Counts the occurrence of a specified element \n",
    "count = tup.count(2)\n",
    "print(f\"3. Count: The count of 2 is {count}\")\n",
    "\n",
    "# 4. Index -> Returns the first index of a specified value\n",
    "\n",
    "index = tup.index(5)\n",
    "print(f\"4. Index: The number is at index {index}\")\n",
    "\n",
    "# 5. Length -> Returns the length of the tuple\n",
    "\n",
    "length = len(tup)\n",
    "print(f\"6. Length: The length of the tuple is {length}\")"
   ]
  }
 ],
 "metadata": {
  "kernelspec": {
   "display_name": "Python 3",
   "language": "python",
   "name": "python3"
  },
  "language_info": {
   "codemirror_mode": {
    "name": "ipython",
    "version": 3
   },
   "file_extension": ".py",
   "mimetype": "text/x-python",
   "name": "python",
   "nbconvert_exporter": "python",
   "pygments_lexer": "ipython3",
   "version": "3.9.13"
  }
 },
 "nbformat": 4,
 "nbformat_minor": 2
}
