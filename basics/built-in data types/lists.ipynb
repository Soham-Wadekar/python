{
 "cells": [
  {
   "cell_type": "markdown",
   "metadata": {},
   "source": [
    "## 📃 List `[]`\n",
    "A list in Python is an ordered, mutable collection of elements enclosed in square brackets. It supports indexing, slicing, and a variety of methods for manipulation, making it a versatile data structure.\n",
    "\n",
    "---"
   ]
  },
  {
   "cell_type": "markdown",
   "metadata": {},
   "source": [
    "#### Defining a list"
   ]
  },
  {
   "cell_type": "code",
   "execution_count": 2,
   "metadata": {},
   "outputs": [
    {
     "name": "stdout",
     "output_type": "stream",
     "text": [
      "List 1: [1, 2, 3, 4, True, 'a', 'b', 3.14]\n",
      "List 2: [0, 0, 0, 0, 0]\n",
      "List 3: [0, 1, 2, 3, 4, 5, 6, 7, 8, 9]\n",
      "List 4: ['H', 'e', 'l', 'l', 'o', ' ', 'W', 'o', 'r', 'l', 'd']\n"
     ]
    }
   ],
   "source": [
    "list1 = [1, 2, 3, 4, True, \"a\", \"b\", 3.14]\n",
    "list2 = [0] * 5\n",
    "list3 = list(range(10))  # list() takes an iterable as an argument\n",
    "list4 = list(\"Hello World\")\n",
    "\n",
    "print(f\"List 1: {list1}\")\n",
    "print(f\"List 2: {list2}\")\n",
    "print(f\"List 3: {list3}\")\n",
    "print(f\"List 4: {list4}\")"
   ]
  },
  {
   "cell_type": "markdown",
   "metadata": {},
   "source": [
    "#### Concatenating two lists"
   ]
  },
  {
   "cell_type": "code",
   "execution_count": 3,
   "metadata": {},
   "outputs": [
    {
     "name": "stdout",
     "output_type": "stream",
     "text": [
      "Concatenated List: [1, 2, 3, 4, 'a', 'b', 'c']\n"
     ]
    }
   ],
   "source": [
    "l1 = [1, 2, 3, 4]\n",
    "l2 = [\"a\", \"b\", \"c\"]\n",
    "\n",
    "print(f\"Concatenated List: {l1+l2}\")"
   ]
  },
  {
   "cell_type": "markdown",
   "metadata": {},
   "source": [
    "#### Accessing an element in a list"
   ]
  },
  {
   "cell_type": "code",
   "execution_count": 4,
   "metadata": {},
   "outputs": [
    {
     "name": "stdout",
     "output_type": "stream",
     "text": [
      "A\n",
      "D\n"
     ]
    }
   ],
   "source": [
    "l1 = [\"A\", \"B\", \"C\", \"D\"]\n",
    "print(l1[0])  # Accessing first element\n",
    "print(l1[-1])  # Accessing last element"
   ]
  },
  {
   "cell_type": "markdown",
   "metadata": {},
   "source": [
    "#### Assigning values to an element of a list"
   ]
  },
  {
   "cell_type": "code",
   "execution_count": 5,
   "metadata": {},
   "outputs": [
    {
     "name": "stdout",
     "output_type": "stream",
     "text": [
      "['A', 'b', 'c', 'd']\n"
     ]
    }
   ],
   "source": [
    "l1 = [\"a\", \"b\", \"c\", \"d\"]\n",
    "l1[0] = \"A\"\n",
    "print(l1)"
   ]
  },
  {
   "cell_type": "markdown",
   "metadata": {},
   "source": [
    "#### List Slicing"
   ]
  },
  {
   "cell_type": "code",
   "execution_count": 6,
   "metadata": {},
   "outputs": [
    {
     "name": "stdout",
     "output_type": "stream",
     "text": [
      "['C', 'D', 'E']\n",
      "['D', 'E', 'F', 'G', 'H', 'I', 'J']\n",
      "['A', 'B', 'C', 'D', 'E', 'F']\n",
      "['A', 'D', 'G', 'J']\n",
      "['F', 'H']\n"
     ]
    }
   ],
   "source": [
    "l1 = [\"A\", \"B\", \"C\", \"D\", \"E\", \"F\", \"G\", \"H\", \"I\", \"J\"]\n",
    "\n",
    "print(l1[2:5])  # Accessing elements from index 2 to index (5-1)=4\n",
    "print(l1[3:])  # Accessing elements from index 3 to end of the list\n",
    "print(l1[:6])  # Accessing elements till index (6-1)=5\n",
    "print(l1[::3])  # Accessing elements with steps 3 (every third element)\n",
    "print(\n",
    "    l1[-5:-1:2]\n",
    ")  # Accessing every second elements from reverse order from index -5 to index -1"
   ]
  },
  {
   "cell_type": "markdown",
   "metadata": {},
   "source": [
    "#### List Packing"
   ]
  },
  {
   "cell_type": "code",
   "execution_count": 7,
   "metadata": {},
   "outputs": [
    {
     "name": "stdout",
     "output_type": "stream",
     "text": [
      "[1, 2, 3]\n",
      "[True, False]\n",
      "['A', 'B', 'C', 'D', 'E', 'F', 'G', 'H', 'I', 'J']\n",
      "[[1, 2, 3], [4, 5], [6, 7, 8, 9], [10], [11, 12]]\n"
     ]
    }
   ],
   "source": [
    "def pack_list(*vals):\n",
    "    print(list(vals))\n",
    "\n",
    "\n",
    "pack_list(1, 2, 3)\n",
    "pack_list(True, False)\n",
    "pack_list(\"A\", \"B\", \"C\", \"D\", \"E\", \"F\", \"G\", \"H\", \"I\", \"J\")\n",
    "pack_list([1, 2, 3], [4, 5], [6, 7, 8, 9], [10], [11, 12])"
   ]
  },
  {
   "cell_type": "markdown",
   "metadata": {},
   "source": [
    "#### List Unpacking"
   ]
  },
  {
   "cell_type": "code",
   "execution_count": 8,
   "metadata": {},
   "outputs": [
    {
     "name": "stdout",
     "output_type": "stream",
     "text": [
      "1\n",
      "2\n",
      "[3, 4, 5, 6]\n",
      "7\n"
     ]
    }
   ],
   "source": [
    "l1 = [1, 2, 3, 4, 5, 6, 7]\n",
    "first, second, *others, last = l1\n",
    "\n",
    "print(first)\n",
    "print(second)\n",
    "print(others)\n",
    "print(last)"
   ]
  },
  {
   "cell_type": "markdown",
   "metadata": {},
   "source": [
    "#### Nesting Lists"
   ]
  },
  {
   "cell_type": "code",
   "execution_count": 9,
   "metadata": {},
   "outputs": [
    {
     "name": "stdout",
     "output_type": "stream",
     "text": [
      "List at index 1: [3, 4, 5, 6]\n",
      "Value in list 1 at index 3: 6\n"
     ]
    }
   ],
   "source": [
    "list1 = [[1, 2], [3, 4, 5, 6], [7, 8], [9]]\n",
    "\n",
    "print(f\"List at index 1: {list1[1]}\")\n",
    "print(f\"Value in list 1 at index 3: {list1[1][3]}\")"
   ]
  },
  {
   "cell_type": "markdown",
   "metadata": {},
   "source": [
    "#### Length of a List"
   ]
  },
  {
   "cell_type": "code",
   "execution_count": 10,
   "metadata": {},
   "outputs": [
    {
     "name": "stdout",
     "output_type": "stream",
     "text": [
      "The length of the list is 9\n"
     ]
    }
   ],
   "source": [
    "lst = [1, 2, 3, 4, 5, 6, 7, 8, 9]\n",
    "length = len(lst)\n",
    "print(f\"The length of the list is {length}\")"
   ]
  },
  {
   "cell_type": "markdown",
   "metadata": {},
   "source": [
    "#### List Methods"
   ]
  },
  {
   "cell_type": "code",
   "execution_count": 11,
   "metadata": {},
   "outputs": [],
   "source": [
    "l = [1, 2, 3, 4, 1, 3, 3, 2, 4, 2]"
   ]
  },
  {
   "cell_type": "code",
   "execution_count": 12,
   "metadata": {},
   "outputs": [
    {
     "name": "stdout",
     "output_type": "stream",
     "text": [
      "1. Append: [1, 2, 3, 4, 1, 3, 3, 2, 4, 2, 20]\n",
      "2. Clear: []\n",
      "3. Copy: [1, 2, 3, 4, 1, 3, 3, 2, 4, 2]\n",
      "4. Count: The count of 3 is 3\n",
      "5. Extend: [1, 2, 3, 4, 1, 3, 3, 2, 4, 2, 7, 9, 11, 13]\n",
      "6. Index: The number is at index 10\n",
      "7. Insert: [1, 2, 3, 4, 100, 1, 3, 3, 2, 4, 2, 7, 9, 11, 13]\n",
      "8. Pop: Popped without passing index. List = [1, 2, 3, 4, 100, 1, 3, 3, 2, 4, 2, 7, 9, 11], Popped Element = 13\n",
      "        Popped by passing index. List = [1, 2, 3, 4, 100, 1, 3, 3, 2, 4, 7, 9, 11], Popped Element = 2\n",
      "9. Remove: [1, 2, 4, 100, 1, 3, 3, 2, 4, 7, 9, 11]\n",
      "10. Reverse: [11, 9, 7, 4, 2, 3, 3, 1, 100, 4, 2, 1]\n",
      "11. Sort: Ascending = [1, 1, 2, 2, 3, 3, 4, 4, 7, 9, 11, 100]\n",
      "          Descending = [100, 11, 9, 7, 4, 4, 3, 3, 2, 2, 1, 1]\n"
     ]
    }
   ],
   "source": [
    "# 1. Append -> Adds elements to the end of the list\n",
    "\n",
    "l.append(20)\n",
    "print(f\"1. Append: {l}\")\n",
    "\n",
    "# 2. Clear -> Clears all the elements from a list\n",
    "l.clear()\n",
    "print(f\"2. Clear: {l}\")\n",
    "\n",
    "# 3. Copy -> Copies the list to another variable\n",
    "l = [1, 2, 3, 4, 1, 3, 3, 2, 4, 2]\n",
    "\n",
    "copy = l.copy()\n",
    "print(f\"3. Copy: {copy}\")\n",
    "\n",
    "# 4. Count -> Counts the occurrence of a specified element\n",
    "count = l.count(3)\n",
    "print(f\"4. Count: The count of 3 is {count}\")\n",
    "\n",
    "# 5. Extend -> Extends list by appending elements from an iterable\n",
    "\n",
    "iterable = range(7, 14, 2)\n",
    "l.extend(iterable)\n",
    "print(f\"5. Extend: {l}\")\n",
    "\n",
    "# 6. Index -> Returns the first index of a specified value\n",
    "\n",
    "index = l.index(7)\n",
    "print(f\"6. Index: The number is at index {index}\")\n",
    "\n",
    "# 7. Insert -> Inserts object before index\n",
    "\n",
    "index = 4\n",
    "element = 100\n",
    "l.insert(index, element)\n",
    "print(f\"7. Insert: {l}\")\n",
    "\n",
    "# 8. Pop -> Removes and returns item at a specified index (default=last)\n",
    "\n",
    "\n",
    "popped = l.pop()\n",
    "print(f\"8. Pop: Popped without passing index. List = {l}, Popped Element = {popped}\")\n",
    "popped = l.pop(10)\n",
    "print(f\"        Popped by passing index. List = {l}, Popped Element = {popped}\")\n",
    "\n",
    "# 9. Remove -> Removes first occurrence of an element\n",
    "\n",
    "l.remove(3)\n",
    "print(f\"9. Remove: {l}\")\n",
    "\n",
    "# 10. Reverse -> Reverses the list\n",
    "\n",
    "l.reverse()\n",
    "print(f\"10. Reverse: {l}\")\n",
    "\n",
    "# 11. Sort -> Sorts the elements in ascending (default) or descending order\n",
    "\n",
    "l.sort()\n",
    "print(f\"11. Sort: Ascending = {l}\")\n",
    "l.sort(reverse=True)\n",
    "print(f\"          Descending = {l}\")"
   ]
  }
 ],
 "metadata": {
  "kernelspec": {
   "display_name": "Python 3",
   "language": "python",
   "name": "python3"
  },
  "language_info": {
   "codemirror_mode": {
    "name": "ipython",
    "version": 3
   },
   "file_extension": ".py",
   "mimetype": "text/x-python",
   "name": "python",
   "nbconvert_exporter": "python",
   "pygments_lexer": "ipython3",
   "version": "3.9.13"
  }
 },
 "nbformat": 4,
 "nbformat_minor": 2
}
