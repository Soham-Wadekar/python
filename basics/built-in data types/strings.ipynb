{
 "cells": [
  {
   "cell_type": "markdown",
   "metadata": {},
   "source": [
    "## 🧵Strings `\"\"`\n",
    "\n",
    "\n",
    "In Python, strings are sequences of characters enclosed in single (' '), double (\" \"), or triple (''' ''' or \"\"\" \"\"\") quotes. They support various operations, including indexing, slicing, and string methods, making them versatile for text manipulation.\n",
    "\n",
    "---"
   ]
  },
  {
   "cell_type": "markdown",
   "metadata": {},
   "source": [
    "#### Defining a string"
   ]
  },
  {
   "cell_type": "code",
   "execution_count": 122,
   "metadata": {},
   "outputs": [
    {
     "name": "stdout",
     "output_type": "stream",
     "text": [
      "Hello World, this is done by using single quotes\n",
      "Hello World, this is done by using double quotes\n",
      "\n",
      "Hello World,\n",
      "\n",
      "This is done using triple quotes.\n",
      "\n",
      "This type of string is used for multi-line messages\n",
      "\n"
     ]
    }
   ],
   "source": [
    "single_quote = \"Hello World, this is done by using single quotes\"\n",
    "double_quote = \"Hello World, this is done by using double quotes\"\n",
    "triple_quote = \"\"\"\n",
    "Hello World,\n",
    "\n",
    "This is done using triple quotes.\n",
    "\n",
    "This type of string is used for multi-line messages\n",
    "\"\"\"\n",
    "\n",
    "print(single_quote)\n",
    "print(double_quote)\n",
    "print(triple_quote)"
   ]
  },
  {
   "cell_type": "markdown",
   "metadata": {},
   "source": [
    "#### Concatenating two strings"
   ]
  },
  {
   "cell_type": "code",
   "execution_count": 123,
   "metadata": {},
   "outputs": [
    {
     "name": "stdout",
     "output_type": "stream",
     "text": [
      "Hello World\n"
     ]
    }
   ],
   "source": [
    "str1 = \"Hello \"\n",
    "str2 = \"World\"\n",
    "\n",
    "print(str1 + str2)"
   ]
  },
  {
   "cell_type": "markdown",
   "metadata": {},
   "source": [
    "#### Accessing an element in a string"
   ]
  },
  {
   "cell_type": "code",
   "execution_count": 124,
   "metadata": {},
   "outputs": [
    {
     "name": "stdout",
     "output_type": "stream",
     "text": [
      "P\n",
      "n\n"
     ]
    }
   ],
   "source": [
    "st = \"Python\"\n",
    "\n",
    "print(st[0])\n",
    "print(st[-1])"
   ]
  },
  {
   "cell_type": "markdown",
   "metadata": {},
   "source": [
    "#### String Slicing"
   ]
  },
  {
   "cell_type": "code",
   "execution_count": 125,
   "metadata": {},
   "outputs": [
    {
     "name": "stdout",
     "output_type": "stream",
     "text": [
      "llo\n",
      "lo World\n",
      "Hello \n",
      "HlWl\n",
      "Wr\n"
     ]
    }
   ],
   "source": [
    "st = \"Hello World\"\n",
    "\n",
    "print(st[2:5])  # Accessing elements from index 2 to index (5-1)=4\n",
    "print(st[3:])  # Accessing elements from index 3 to end of the list\n",
    "print(st[:6])  # Accessing elements till index (6-1)=5\n",
    "print(st[::3])  # Accessing elements with steps 3 (every third element)\n",
    "print(\n",
    "    st[-5:-1:2]\n",
    ")  # Accessing every second elements from reverse order from index -5 to index -1"
   ]
  },
  {
   "cell_type": "markdown",
   "metadata": {},
   "source": [
    "#### Length of a String"
   ]
  },
  {
   "cell_type": "code",
   "execution_count": 126,
   "metadata": {},
   "outputs": [
    {
     "name": "stdout",
     "output_type": "stream",
     "text": [
      "The length of the list is 11\n"
     ]
    }
   ],
   "source": [
    "st = \"Hello World\"\n",
    "length = len(st)\n",
    "print(f\"The length of the list is {length}\")"
   ]
  },
  {
   "cell_type": "markdown",
   "metadata": {},
   "source": [
    "#### Escape Characters\n",
    "\n",
    "1. `\\'` -> Single Quote\n",
    "2. `\\\"` -> Double Quote\n",
    "3. `\\\\` -> Backslash\n",
    "4. `\\n` -> New Line\n",
    "5. `\\r` -> Carriage Return (returns the cursor to the beginning of the line)\n",
    "6. `\\t` -> Tab\n",
    "7. `\\b` -> Backspace\n",
    "8. `\\f` -> Form Feed\n",
    "9. `\\<ooo>` -> Octal value\n",
    "10. `\\<xhh>` -> Hexadecimal value\n",
    "11. `\\0` -> NULL character"
   ]
  },
  {
   "cell_type": "code",
   "execution_count": 3,
   "metadata": {},
   "outputs": [
    {
     "name": "stdout",
     "output_type": "stream",
     "text": [
      "1. Hello'World\n",
      "2. Hello\"World\n",
      "3. Hello\\World\n",
      "4. Hello\n",
      "World\n",
      "World 5.\n",
      "6. Hello\tWorld\n",
      "7. HellWorld\n",
      "8. Hello\fWorld\n",
      "9. Hello\n",
      "10. Hello\n",
      "11. Hello\u0000World\n"
     ]
    }
   ],
   "source": [
    "print(\"1. Hello'World\")\n",
    "print('2. Hello\"World')\n",
    "print(\"3. Hello\\\\World\")\n",
    "print(\"4. Hello\\nWorld\")\n",
    "print(\"5. Hello\\rWorld 5.\")\n",
    "print(\"6. Hello\\tWorld\")\n",
    "print(\"7. Hello\\bWorld\")\n",
    "print(\"8. Hello\\fWorld\")\n",
    "print(\"9. \\110\\145\\154\\154\\157\")\n",
    "print(\"10. \\x48\\x65\\x6c\\x6c\\x6f\")\n",
    "print(\"11. Hello\\0World\")"
   ]
  },
  {
   "cell_type": "markdown",
   "metadata": {},
   "source": [
    "#### Formatting Strings"
   ]
  },
  {
   "cell_type": "code",
   "execution_count": 128,
   "metadata": {},
   "outputs": [
    {
     "name": "stdout",
     "output_type": "stream",
     "text": [
      "Soham Wadekar\n",
      "Soham Wadekar\n",
      "Soham Wadekar\n"
     ]
    }
   ],
   "source": [
    "first_name = \"Soham\"\n",
    "last_name = \"Wadekar\"\n",
    "\n",
    "full_name1 = first_name + \" \" + last_name\n",
    "print(full_name1)\n",
    "\n",
    "full_name2 = f\"{first_name} {last_name}\"\n",
    "print(full_name2)\n",
    "\n",
    "full_name3 = \"{} {}\".format(first_name, last_name)\n",
    "print(full_name3)"
   ]
  },
  {
   "cell_type": "markdown",
   "metadata": {},
   "source": [
    "#### String Methods\n",
    "\n",
    "There are a lot of string methods but I'll only be noting the important ones"
   ]
  },
  {
   "cell_type": "code",
   "execution_count": 129,
   "metadata": {},
   "outputs": [],
   "source": [
    "st = \"hello World ABC 123 @\""
   ]
  },
  {
   "cell_type": "code",
   "execution_count": 130,
   "metadata": {},
   "outputs": [
    {
     "name": "stdout",
     "output_type": "stream",
     "text": [
      "1. Capitalize: Hello world abc 123 @\n",
      "2. Casefold: hello world abc 123 @\n",
      "3. Count: Count of 'o' is 2\n",
      "4. Encode: b'hello World ABC 123 @'\n",
      "5. Endswith: Does the string ends with '@'? True\n",
      "6. Find: The substring 'llo' are at position 2\n",
      "7. Index: The index of 'W' is 6\n",
      "8. Is___ (alphanum): False\n",
      "9. Join: h|e|l|l|o| |W|o|r|l|d| |A|B|C| |1|2|3| |@\n",
      "10. Lower: hello world abc 123 @\n",
      "11. Replace: hello.World.ABC.123.@\n",
      "12. Split: ['hello', 'World', 'ABC', '123', '@']\n",
      "13. Startswith: Does the string starts with 'hel'? True\n",
      "14. Swapcase: HELLO wORLD abc 123 @\n",
      "15. Title: Hello World Abc 123 @\n",
      "16. Upper: HELLO WORLD ABC 123 @\n"
     ]
    }
   ],
   "source": [
    "# 1. capitalize() -> Capitalizes the string\n",
    "print(f\"1. Capitalize: {st.capitalize()}\")\n",
    "\n",
    "# 2. casefold() -> Lowers the string\n",
    "print(f\"2. Casefold: {st.casefold()}\")\n",
    "\n",
    "# 3. count() -> Counts the number of times a character appears in the string\n",
    "print(f\"3. Count: Count of 'o' is {st.count('o')}\")\n",
    "\n",
    "# 4. encode() -> Returns an encoded version of the string\n",
    "print(f\"4. Encode: {st.encode()}\")\n",
    "\n",
    "# 5. endswith() -> Returns True if the string ends with a certain pattern\n",
    "print(f\"5. Endswith: Does the string ends with '@'? {st.endswith('@')}\")\n",
    "\n",
    "# 6. find() -> Searches the string for a specified value and returns the position of where it was found\n",
    "print(f\"6. Find: The substring 'llo' are at position {st.find('llo')}\")\n",
    "\n",
    "# 7. index() -> Searches the string for a specified value and returns the position of where it was found\n",
    "print(f\"7. Index: The index of 'W' is {st.index('W')}\")\n",
    "\n",
    "# 8. is___():\n",
    "# isalnum() -> Returns True if all characters in the string are alphanumeric\n",
    "# isalpha() -> Returns True if all characters in the string are in the alphabet\n",
    "# isascii() -> Returns True if all characters in the string are ascii characters\n",
    "# isdecimal() -> Returns True if all characters in the string are decimals\n",
    "# isdigit() -> Returns True if all characters in the string are digits\n",
    "# isidentifier() -> Returns True if the string is an identifier\n",
    "# islower() -> Returns True if all characters in the string are lower case\n",
    "# isnumeric() -> Returns True if all characters in the string are numeric\n",
    "# isprintable() -> Returns True if all characters in the string are printable\n",
    "# isspace() -> Returns True if all characters in the string are whitespaces\n",
    "# istitle() -> Returns True if the string follows the rules of a title\n",
    "# isupper() -> Returns True if all characters in the string are upper case\n",
    "print(f\"8. Is___ (alphanum): {st.isalnum()}\")\n",
    "\n",
    "# 9. join() -> Joins the elements of an iterable to the end of the string\n",
    "print(f\"9. Join: {'|'.join(st)}\")\n",
    "\n",
    "# 10. lower() -> Converts a string into lower case\n",
    "print(f\"10. Lower: {st.lower()}\")\n",
    "\n",
    "# 11. replace() -> Returns a string where a specified value is replaced with a specified value\n",
    "print(f\"11. Replace: {st.replace(' ','.')}\")\n",
    "\n",
    "# 12. split() -> Splits the string at the specified separator, and returns a list\n",
    "print(f\"12. Split: {st.split(' ')}\")\n",
    "\n",
    "# 13. startswith() -> Returns true if the string starts with the specified value\n",
    "print(f\"13. Startswith: Does the string starts with 'hel'? {st.startswith('hel')}\")\n",
    "\n",
    "# 14. swapcase() -> Swaps cases, lower case becomes upper case and vice versa\n",
    "print(f\"14. Swapcase: {st.swapcase()}\")\n",
    "\n",
    "# 15. title() -> Converts the first character of each word to upper case\n",
    "print(f\"15. Title: {st.title()}\")\n",
    "\n",
    "# 16. upper() -> Converts a string into upper case\n",
    "print(f\"16. Upper: {st.upper()}\")"
   ]
  }
 ],
 "metadata": {
  "kernelspec": {
   "display_name": "Python 3",
   "language": "python",
   "name": "python3"
  },
  "language_info": {
   "codemirror_mode": {
    "name": "ipython",
    "version": 3
   },
   "file_extension": ".py",
   "mimetype": "text/x-python",
   "name": "python",
   "nbconvert_exporter": "python",
   "pygments_lexer": "ipython3",
   "version": "3.9.13"
  }
 },
 "nbformat": 4,
 "nbformat_minor": 2
}
