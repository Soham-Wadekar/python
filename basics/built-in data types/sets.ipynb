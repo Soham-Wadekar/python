{
 "cells": [
  {
   "cell_type": "markdown",
   "metadata": {},
   "source": [
    "## 🟰 Sets `{}`\n",
    "\n",
    "A set in Python is an unordered collection of unique elements enclosed in curly braces. It supports mathematical set operations like union, intersection, and difference, making it suitable for tasks that involve distinct and unordered elements.\n",
    "\n",
    "---"
   ]
  },
  {
   "cell_type": "markdown",
   "metadata": {},
   "source": [
    "#### Defining a set"
   ]
  },
  {
   "cell_type": "markdown",
   "metadata": {},
   "source": [
    "Sets and dictionaries are defined by the same parenthesis `{}`. As a result, Python can't distinguish between an empty set and an empty dictionary. To avoid this, an empty set is defined as follows"
   ]
  },
  {
   "cell_type": "code",
   "execution_count": 155,
   "metadata": {},
   "outputs": [
    {
     "name": "stdout",
     "output_type": "stream",
     "text": [
      "<class 'dict'>\n",
      "<class 'set'>\n"
     ]
    }
   ],
   "source": [
    "dict1 = {}\n",
    "set1 = set()\n",
    "\n",
    "print(type(dict1))\n",
    "print(type(set1))"
   ]
  },
  {
   "cell_type": "code",
   "execution_count": 156,
   "metadata": {},
   "outputs": [
    {
     "name": "stdout",
     "output_type": "stream",
     "text": [
      "{'c', 'a', 'b'}\n",
      "{'h', 'o', 'm', 'a', 's'}\n"
     ]
    }
   ],
   "source": [
    "set1 = {'a','b','c'}\n",
    "set2 = set('soham')\n",
    "\n",
    "print(set1)\n",
    "print(set2)"
   ]
  },
  {
   "cell_type": "markdown",
   "metadata": {},
   "source": [
    "Duplicates are not allowed in sets, so they are ignored"
   ]
  },
  {
   "cell_type": "code",
   "execution_count": 157,
   "metadata": {},
   "outputs": [
    {
     "name": "stdout",
     "output_type": "stream",
     "text": [
      "{'d', 'c', 'a', 'b'}\n"
     ]
    }
   ],
   "source": [
    "set1 = {'a','b','c','a','c','d'}\n",
    "print(set1)"
   ]
  },
  {
   "cell_type": "markdown",
   "metadata": {},
   "source": [
    "`True` & `1` and `False` & `0` are considered the same"
   ]
  },
  {
   "cell_type": "code",
   "execution_count": 158,
   "metadata": {},
   "outputs": [
    {
     "name": "stdout",
     "output_type": "stream",
     "text": [
      "{0, True, 2, 'c', 'b', 'a'}\n"
     ]
    }
   ],
   "source": [
    "set1 = {'a','b','c',True,0,1,2,False}\n",
    "print(set1)"
   ]
  },
  {
   "cell_type": "markdown",
   "metadata": {},
   "source": [
    "#### Accessing set items\n",
    "\n",
    "Set items cannot be accessed using keys or indices"
   ]
  },
  {
   "cell_type": "code",
   "execution_count": 159,
   "metadata": {},
   "outputs": [
    {
     "name": "stdout",
     "output_type": "stream",
     "text": [
      "True\n"
     ]
    }
   ],
   "source": [
    "set1 = {'a','b','c',1,2,False}\n",
    "print('b' in set1)"
   ]
  },
  {
   "cell_type": "markdown",
   "metadata": {},
   "source": [
    "Sets are mutable, so once defined, their elements cannot be deleted"
   ]
  },
  {
   "cell_type": "markdown",
   "metadata": {},
   "source": [
    "#### Set Methods (General)"
   ]
  },
  {
   "cell_type": "code",
   "execution_count": 160,
   "metadata": {},
   "outputs": [],
   "source": [
    "s = {'a','b','c',1,2,False}"
   ]
  },
  {
   "cell_type": "code",
   "execution_count": 161,
   "metadata": {},
   "outputs": [
    {
     "name": "stdout",
     "output_type": "stream",
     "text": [
      "1. Add: {False, 1, 2, 'c', 'b', 10, 'a'}\n",
      "2. Clear: set()\n",
      "3. Copy: {False, 1, 2, 'c', 'b', 'a'}\n",
      "4. Discard: {False, 1, 'c', 'b', 'a'}\n",
      "5. Pop: {1, 'c', 'b', 'a'}\n",
      "6. Remove: {1, 'c', 'b'}\n",
      "7. Update: {1, 'c', 20, 'b', 10, 30}\n"
     ]
    }
   ],
   "source": [
    "# 1. Add -> Adds an element to the set\n",
    "\n",
    "s.add(10)\n",
    "print(f\"1. Add: {s}\")\n",
    "\n",
    "# 2. Clear -> Removes all the elements from the set\n",
    "\n",
    "s.clear()\n",
    "print(f\"2. Clear: {s}\")\n",
    "s = {'a','b','c',1,2,False}\n",
    "\n",
    "# 3. Copy -> Returns a copy of the set\n",
    "\n",
    "copy = s.copy()\n",
    "print(f\"3. Copy: {copy}\")\n",
    "\n",
    "# 4. Discard -> Removes the specified element\n",
    "\n",
    "s.discard(2)\n",
    "print(f\"4. Discard: {s}\")\n",
    "\n",
    "# 5. Pop -> Removes an element from the set\n",
    "\n",
    "s.pop()\n",
    "print(f\"5. Pop: {s}\")\n",
    "\n",
    "# 6. Remove -> Removes the specified element from the set\n",
    "\n",
    "s.remove('a')\n",
    "print(f\"6. Remove: {s}\")\n",
    "\n",
    "# 7. Update -> Updates the set with the union of this set and others\n",
    "\n",
    "test = {10,20,30}\n",
    "s.update(test)\n",
    "print(f\"7. Update: {s}\")"
   ]
  },
  {
   "cell_type": "markdown",
   "metadata": {},
   "source": [
    "#### Set Methods (Mathematical)"
   ]
  },
  {
   "cell_type": "code",
   "execution_count": 162,
   "metadata": {},
   "outputs": [],
   "source": [
    "superset = set(range(1,11))\n",
    "setA = {1,4,3,5,7,2}\n",
    "setB = {1,4,6,9,10,15}"
   ]
  },
  {
   "cell_type": "code",
   "execution_count": 163,
   "metadata": {},
   "outputs": [],
   "source": [
    "def display_sets(setA,setB,superset={}):\n",
    "    print(f\"Set A: {setA}, Set B: {setB}, Superset: {superset}\")\n",
    "    print(\"=====\"*19)"
   ]
  },
  {
   "cell_type": "code",
   "execution_count": 164,
   "metadata": {},
   "outputs": [
    {
     "name": "stdout",
     "output_type": "stream",
     "text": [
      "1. Difference: {2, 3, 5, 7}\n",
      "Set A: {1, 2, 3, 4, 5, 7}, Set B: {1, 4, 6, 9, 10, 15}, Superset: {}\n",
      "===============================================================================================\n",
      "2. Difference_Update: {2, 3, 5, 7}\n",
      "Set A: {2, 3, 5, 7}, Set B: {1, 4, 6, 9, 10, 15}, Superset: {}\n",
      "===============================================================================================\n",
      "3. Intersection: {1, 4}\n",
      "Set A: {1, 2, 3, 4, 5, 7}, Set B: {1, 4, 6, 9, 10, 15}, Superset: {}\n",
      "===============================================================================================\n",
      "4. Intersection_Update: {1, 4}\n",
      "Set A: {1, 4}, Set B: {1, 4, 6, 9, 10, 15}, Superset: {}\n",
      "===============================================================================================\n",
      "5. IsDisjoint: Are set A and set B disjoint? -> False\n",
      "Set A: {1, 2, 3, 4, 5, 7}, Set B: {1, 4, 6, 9, 10, 15}, Superset: {}\n",
      "===============================================================================================\n",
      "6. IsSubset: Is set A subset of the Superset? -> True\n",
      "             Is set B subset of the Superset? -> False\n",
      "Set A: {1, 2, 3, 4, 5, 7}, Set B: {1, 4, 6, 9, 10, 15}, Superset: {1, 2, 3, 4, 5, 6, 7, 8, 9, 10}\n",
      "===============================================================================================\n",
      "7. IsSuperset: Is Superset the superset of set A -> True\n",
      "               Is Superset the superset of set B -> False\n",
      "Set A: {1, 2, 3, 4, 5, 7}, Set B: {1, 4, 6, 9, 10, 15}, Superset: {1, 2, 3, 4, 5, 6, 7, 8, 9, 10}\n",
      "===============================================================================================\n",
      "8. SymmetricDifference: {2, 3, 5, 6, 7, 9, 10, 15}\n",
      "Set A: {1, 2, 3, 4, 5, 7}, Set B: {1, 4, 6, 9, 10, 15}, Superset: {}\n",
      "===============================================================================================\n",
      "9. SymmetricDifferenceUpdate: {2, 3, 5, 6, 7, 9, 10, 15}\n",
      "Set A: {2, 3, 5, 6, 7, 9, 10, 15}, Set B: {1, 4, 6, 9, 10, 15}, Superset: {}\n",
      "===============================================================================================\n",
      "10. Union: {1, 2, 3, 4, 5, 6, 7, 9, 10, 15}\n",
      "Set A: {1, 2, 3, 4, 5, 7}, Set B: {1, 4, 6, 9, 10, 15}, Superset: {}\n",
      "===============================================================================================\n"
     ]
    }
   ],
   "source": [
    "# 1. Difference -> Returns a set containing the difference between two or more sets\n",
    "\n",
    "setC = setA.difference(setB)\n",
    "print(f\"1. Difference: {setC}\")\n",
    "display_sets(setA,setB)\n",
    "\n",
    "# 2. Difference_update -> Removes the items in this set that are also included in another, specified set\n",
    "\n",
    "setA.difference_update(setB)                # Modifies the original set\n",
    "print(f\"2. Difference_Update: {setA}\")\n",
    "display_sets(setA,setB)\n",
    "setA = {1,4,3,5,7,2}\n",
    "\n",
    "# 3. Intersection -> Returns a set, that is the intersection of two other sets\n",
    "\n",
    "setC = setA.intersection(setB)    \n",
    "print(f\"3. Intersection: {setC}\")\n",
    "display_sets(setA,setB)            \n",
    "\n",
    "# 4. Intersection_update -> Removes the items in this set that are not present in other, specified set(s)\n",
    "\n",
    "setA.intersection_update(setB)  \n",
    "print(f\"4. Intersection_Update: {setA}\")\n",
    "display_sets(setA,setB)              \n",
    "setA = {1,4,3,5,7,2}\n",
    "\n",
    "# 5. IsDisjoint -> Returns whether two sets have a intersection or not\n",
    "\n",
    "isDisjoint = setA.isdisjoint(setB)\n",
    "print(f\"5. IsDisjoint: Are set A and set B disjoint? -> {isDisjoint}\")\n",
    "display_sets(setA,setB) \n",
    "\n",
    "# 6. IsSubset -> Returns whether another set contains this set or not\n",
    "\n",
    "isSubsetA = setA.issubset(superset)\n",
    "isSubsetB = setB.issubset(superset)\n",
    "print(f\"6. IsSubset: Is set A subset of the Superset? -> {isSubsetA}\")\n",
    "print(f\"             Is set B subset of the Superset? -> {isSubsetB}\")\n",
    "display_sets(setA,setB,superset) \n",
    "\n",
    "# 7. IsSuperset -> Returns whether this set contains another set or not\n",
    "\n",
    "isSupersetA = superset.issuperset(setA)\n",
    "isSupersetB = superset.issuperset(setB)\n",
    "print(f\"7. IsSuperset: Is Superset the superset of set A -> {isSupersetA}\")\n",
    "print(f\"               Is Superset the superset of set B -> {isSupersetB}\")\n",
    "display_sets(setA,setB,superset) \n",
    "\n",
    "# 8. Symmetric_Difference -> Returns a set with the symmetric differences of two sets\n",
    "\n",
    "setC = setA.symmetric_difference(setB)    \n",
    "print(f\"8. SymmetricDifference: {setC}\")\n",
    "display_sets(setA,setB)  \n",
    "\n",
    "# 9. Symmetric_Difference_Update -> inserts the symmetric differences from this set and another\n",
    "\n",
    "setA.symmetric_difference_update(setB)  \n",
    "print(f\"9. SymmetricDifferenceUpdate: {setA}\")\n",
    "display_sets(setA,setB)              \n",
    "setA = {1,4,3,5,7,2}\n",
    "\n",
    "# 10. Union -> Return a set containing the union of sets\n",
    "\n",
    "setC = setA.union(setB)\n",
    "print(f\"10. Union: {setC}\")\n",
    "display_sets(setA,setB)"
   ]
  }
 ],
 "metadata": {
  "kernelspec": {
   "display_name": "Python 3",
   "language": "python",
   "name": "python3"
  },
  "language_info": {
   "codemirror_mode": {
    "name": "ipython",
    "version": 3
   },
   "file_extension": ".py",
   "mimetype": "text/x-python",
   "name": "python",
   "nbconvert_exporter": "python",
   "pygments_lexer": "ipython3",
   "version": "3.9.13"
  }
 },
 "nbformat": 4,
 "nbformat_minor": 2
}
