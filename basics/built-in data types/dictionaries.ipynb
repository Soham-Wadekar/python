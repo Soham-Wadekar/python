{
 "cells": [
  {
   "cell_type": "markdown",
   "metadata": {},
   "source": [
    "## 📘 Dictionary `{key:value}`\n",
    "\n",
    "A dictionary in Python is an unordered collection of key-value pairs enclosed in curly braces. It provides efficient lookups, insertions, and deletions based on unique keys, making it suitable for mapping relationships between data elements.\n",
    "\n",
    "---"
   ]
  },
  {
   "cell_type": "markdown",
   "metadata": {},
   "source": [
    "#### Defining a Dictionary"
   ]
  },
  {
   "cell_type": "code",
   "execution_count": 2,
   "metadata": {},
   "outputs": [
    {
     "name": "stdout",
     "output_type": "stream",
     "text": [
      "{'A': 1, 'B': 2, 'C': 5}\n"
     ]
    }
   ],
   "source": [
    "dict1 = {'A':1,'B':2,'C':5}\n",
    "print(dict1)"
   ]
  },
  {
   "cell_type": "markdown",
   "metadata": {},
   "source": [
    "Dictionary doesn't allow duplicate keys, so it overwrites if there are multiple keys of the same name"
   ]
  },
  {
   "cell_type": "code",
   "execution_count": 3,
   "metadata": {},
   "outputs": [
    {
     "name": "stdout",
     "output_type": "stream",
     "text": [
      "{'A': 1, 'B': 2, 'C': 7}\n"
     ]
    }
   ],
   "source": [
    "dict1 = {'A':1,'B':2,'C':5, 'C':7}\n",
    "print(dict1)"
   ]
  },
  {
   "cell_type": "markdown",
   "metadata": {},
   "source": [
    "#### Accessing elements from a dictionary"
   ]
  },
  {
   "cell_type": "code",
   "execution_count": 4,
   "metadata": {},
   "outputs": [
    {
     "name": "stdout",
     "output_type": "stream",
     "text": [
      "5\n"
     ]
    }
   ],
   "source": [
    "dict1 = {'A':1,'B':2,'C':5}\n",
    "print(dict1['C'])"
   ]
  },
  {
   "cell_type": "markdown",
   "metadata": {},
   "source": [
    "#### Adding and updating values in a dictionary"
   ]
  },
  {
   "cell_type": "code",
   "execution_count": 5,
   "metadata": {},
   "outputs": [
    {
     "name": "stdout",
     "output_type": "stream",
     "text": [
      "Original Dictionary: {'A': 1, 'B': 2, 'C': 5}\n",
      "Added new element: {'A': 1, 'B': 2, 'C': 5, 'D': -2}\n",
      "Updated existing element: {'A': 1, 'B': 2, 'C': 7, 'D': -2}\n"
     ]
    }
   ],
   "source": [
    "dict1 = {'A':1,'B':2,'C':5}\n",
    "print(f\"Original Dictionary: {dict1}\")\n",
    "\n",
    "dict1['D'] = -2\n",
    "print(f\"Added new element: {dict1}\")\n",
    "\n",
    "dict1['C'] = 7\n",
    "print(f\"Updated existing element: {dict1}\")"
   ]
  },
  {
   "cell_type": "markdown",
   "metadata": {},
   "source": [
    "#### Deleting elements in a dictionary"
   ]
  },
  {
   "cell_type": "code",
   "execution_count": 6,
   "metadata": {},
   "outputs": [
    {
     "name": "stdout",
     "output_type": "stream",
     "text": [
      "{'A': 1, 'C': 5}\n"
     ]
    }
   ],
   "source": [
    "dict1 = {'A':1,'B':2,'C':5}\n",
    "del dict1['B']\n",
    "print(dict1)"
   ]
  },
  {
   "cell_type": "markdown",
   "metadata": {},
   "source": [
    "#### Nested Dictionaries"
   ]
  },
  {
   "cell_type": "code",
   "execution_count": 7,
   "metadata": {},
   "outputs": [
    {
     "name": "stdout",
     "output_type": "stream",
     "text": [
      "{'emp1': {'name': 'A', 'salary': 20000}, 'emp2': {'name': 'B', 'salary': 30000}, 'emp3': {'name': 'C', 'salary': 5000}}\n",
      "Salary of person 2 is $30000\n"
     ]
    }
   ],
   "source": [
    "person1 = {\n",
    "    \"name\":\"A\",\n",
    "    \"salary\": 20000\n",
    "}\n",
    "person2 = {\n",
    "    \"name\":\"B\",\n",
    "    \"salary\": 30000\n",
    "}\n",
    "person3 = {\n",
    "    \"name\":\"C\",\n",
    "    \"salary\": 5000\n",
    "}\n",
    "\n",
    "employees = {\n",
    "    \"emp1\":person1,\n",
    "    \"emp2\":person2,\n",
    "    \"emp3\":person3\n",
    "}\n",
    "\n",
    "print(employees)\n",
    "\n",
    "# Getting person 2's salary\n",
    "print(f'Salary of person 2 is ${employees[\"emp2\"][\"salary\"]}')"
   ]
  },
  {
   "cell_type": "markdown",
   "metadata": {},
   "source": [
    "#### Dictionary Methods"
   ]
  },
  {
   "cell_type": "code",
   "execution_count": 8,
   "metadata": {},
   "outputs": [],
   "source": [
    "d = {\"A\":123, \"B\": 843, \"C\":563, \"D\":21}"
   ]
  },
  {
   "cell_type": "code",
   "execution_count": 9,
   "metadata": {},
   "outputs": [
    {
     "name": "stdout",
     "output_type": "stream",
     "text": [
      "1. Clear: {}\n",
      "2. Copy: {'A': 123, 'B': 843, 'C': 563, 'D': 21}\n",
      "3. Fromkeys: {'A': 0, 'C': 0}\n",
      "4. Get: The value of 'A' is 123\n",
      "5. Items: dict_items([('A', 123), ('B', 843), ('C', 563), ('D', 21)])\n",
      "6. Keys: dict_keys(['A', 'B', 'C', 'D'])\n",
      "7. Pop: {'A': 123, 'B': 843, 'D': 21}\n",
      "8. Popitem: {'A': 123, 'B': 843, 'D': 21, 'E': 1234}\n",
      "9. SetDefault: The default value of C in {'A': 123, 'B': 843, 'D': 21, 'E': 1234, 'C': 20} is 20\n",
      "10. Update: {'A': 10, 'B': 843, 'D': 21, 'E': 1234, 'C': 20}\n",
      "11. Values: dict_values([10, 843, 21, 1234, 20])\n",
      "12. Length: The length of the dictionary is 5\n"
     ]
    }
   ],
   "source": [
    "# 1. Clear -> Clears all the elements from the dictionary\n",
    "\n",
    "d.clear()\n",
    "print(f\"1. Clear: {d}\")\n",
    "d = {\"A\":123, \"B\": 843, \"C\":563, \"D\":21}\n",
    "\n",
    "# 2. Copy -> Returns a copy of the dictionary\n",
    "\n",
    "copy = d.copy()\n",
    "print(f\"2. Copy: {copy}\")\n",
    "\n",
    "# 3. Fromkeys -> Returns a dictionary with the specified keys and value\n",
    "\n",
    "keys = [\"A\",\"C\"]\n",
    "default_value = 0\n",
    "new_dict = d.fromkeys(keys,default_value)\n",
    "print(f\"3. Fromkeys: {new_dict}\")\n",
    "\n",
    "# 4. Get -> Returns the value of the specified key\n",
    "\n",
    "val = d.get(\"A\")\n",
    "print(f\"4. Get: The value of 'A' is {val}\")\n",
    "\n",
    "# 5. Items -> Returns a list containing a tuple for each key value pair\n",
    "\n",
    "items = d.items()\n",
    "print(f\"5. Items: {items}\")\n",
    "\n",
    "# 6. Keys -> Returns a list containing the dictionary's keys\n",
    "\n",
    "keys = d.keys()\n",
    "print(f\"6. Keys: {keys}\")\n",
    "\n",
    "# 7. Pop -> Removes the element with the specified key\n",
    "\n",
    "d.pop(\"C\")\n",
    "print(f\"7. Pop: {d}\")\n",
    "\n",
    "# 8. Popitem -> Removes the last inserted key-value pair\n",
    "\n",
    "d[\"E\"] = 1234\n",
    "d[\"F\"] = 42\n",
    "d.popitem()\n",
    "print(f\"8. Popitem: {d}\")\n",
    "\n",
    "# 9. SetDefault -> Returns the value of the specified key. If the key does not exist: insert the key, with the specified value\n",
    "\n",
    "key = d.setdefault(\"C\",20)\n",
    "print(f\"9. SetDefault: The default value of C in {d} is {key}\")\n",
    "\n",
    "# 10. Update -> Updates the dictionary with the specified key-value pairs\n",
    "\n",
    "d.update({\"A\":10})\n",
    "print(f\"10. Update: {d}\")\n",
    "\n",
    "# 11. Values -> Returns a list of all the values in the dictionary\n",
    "\n",
    "values = d.values()\n",
    "print(f\"11. Values: {values}\")\n",
    "\n",
    "# 12. Length -> Gives the length of the dictionary\n",
    "\n",
    "length = len(d)\n",
    "print(f\"12. Length: The length of the dictionary is {length}\")"
   ]
  }
 ],
 "metadata": {
  "kernelspec": {
   "display_name": "Python 3",
   "language": "python",
   "name": "python3"
  },
  "language_info": {
   "codemirror_mode": {
    "name": "ipython",
    "version": 3
   },
   "file_extension": ".py",
   "mimetype": "text/x-python",
   "name": "python",
   "nbconvert_exporter": "python",
   "pygments_lexer": "ipython3",
   "version": "3.9.13"
  }
 },
 "nbformat": 4,
 "nbformat_minor": 2
}
