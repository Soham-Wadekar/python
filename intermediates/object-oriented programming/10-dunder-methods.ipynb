{
 "cells": [
  {
   "cell_type": "markdown",
   "metadata": {},
   "source": [
    "## 🔮 Magic / Dunder Methods\n",
    "\n",
    "Dunder (double underscore) methods in Python are special methods that start and end with double underscores. These methods have specific meanings and are used to define how objects of a class behave in various situations."
   ]
  },
  {
   "cell_type": "markdown",
   "metadata": {},
   "source": [
    "1. `__init__`: Initializes an object when an instance of the class is created."
   ]
  },
  {
   "cell_type": "code",
   "execution_count": 1,
   "metadata": {},
   "outputs": [
    {
     "name": "stdout",
     "output_type": "stream",
     "text": [
      "Name: Soham  |  Age:20\n"
     ]
    }
   ],
   "source": [
    "class Person:\n",
    "\n",
    "    def __init__(self, name, age):\n",
    "        self.name = name\n",
    "        self.age = age\n",
    "\n",
    "p = Person('Soham', 20)\n",
    "print(f\"Name: {p.name}  |  Age:{p.age}\")"
   ]
  },
  {
   "cell_type": "markdown",
   "metadata": {},
   "source": [
    "2. `__str__` and `__repr__`: Provide a human-readable or unambiguous string representation of an object, respectively."
   ]
  },
  {
   "cell_type": "code",
   "execution_count": 2,
   "metadata": {},
   "outputs": [
    {
     "name": "stdout",
     "output_type": "stream",
     "text": [
      "The book Atomic Habits is authored by James Clear and it has 320 pages\n"
     ]
    }
   ],
   "source": [
    "class Book:\n",
    "\n",
    "    def __init__(self, name, pages, author):\n",
    "        self.name = name\n",
    "        self.pages = pages\n",
    "        self.author = author\n",
    "\n",
    "    def __str__(self):\n",
    "        return f\"The book {self.name} is authored by {self.author} and it has {self.pages} pages\"\n",
    "    \n",
    "b = Book(\"Atomic Habits\",320,\"James Clear\")\n",
    "print(b)\n",
    "\n",
    "# Without __str__, its prints <__main__.Book object at 0x____________>"
   ]
  },
  {
   "cell_type": "code",
   "execution_count": 3,
   "metadata": {},
   "outputs": [
    {
     "name": "stdout",
     "output_type": "stream",
     "text": [
      "The book Atomic Habits is authored by James Clear and it has 320 pages\n"
     ]
    }
   ],
   "source": [
    "class Book:\n",
    "\n",
    "    def __init__(self, name, pages, author):\n",
    "        self.name = name\n",
    "        self.pages = pages\n",
    "        self.author = author\n",
    "\n",
    "    def __repr__(self):\n",
    "        return f\"The book {self.name} is authored by {self.author} and it has {self.pages} pages\"\n",
    "    \n",
    "b = Book(\"Atomic Habits\",320,\"James Clear\")\n",
    "print(b)\n",
    "\n",
    "# Without __repr__, its prints <__main__.Book object at 0x____________>"
   ]
  },
  {
   "cell_type": "markdown",
   "metadata": {},
   "source": [
    "3. `__len__`: Define the behavior of the `len()` function when called on an object."
   ]
  },
  {
   "cell_type": "code",
   "execution_count": 4,
   "metadata": {},
   "outputs": [
    {
     "name": "stdout",
     "output_type": "stream",
     "text": [
      "12\n"
     ]
    }
   ],
   "source": [
    "class CustomString:\n",
    "\n",
    "    def __init__(self, string):\n",
    "        self.string = string\n",
    "\n",
    "    def __len__(self):\n",
    "        return len(self.string)\n",
    "    \n",
    "s = CustomString(\"Hello World!\")\n",
    "print(len(s))"
   ]
  },
  {
   "cell_type": "markdown",
   "metadata": {},
   "source": [
    "4. `__getitem__` and `__setitem__`: Allow objects to be accessed or modified using square bracket notation"
   ]
  },
  {
   "cell_type": "code",
   "execution_count": 5,
   "metadata": {},
   "outputs": [
    {
     "name": "stdout",
     "output_type": "stream",
     "text": [
      "[1, 2, 3, 4, 5, 6, 7]\n",
      "2\n",
      "[1, 10, 3, 4, 5, 6, 7]\n"
     ]
    }
   ],
   "source": [
    "class CustomList:\n",
    "\n",
    "    def __init__(self, items):\n",
    "        self.items = items\n",
    "\n",
    "    def __str__(self):\n",
    "        return f\"{self.items}\"\n",
    "\n",
    "    def __getitem__(self, idx):\n",
    "        return self.items[idx]\n",
    "    \n",
    "    def __setitem__(self, idx, val):\n",
    "        self.items[idx] = val\n",
    "\n",
    "lst = CustomList([1,2,3,4,5,6,7])\n",
    "print(lst)\n",
    "\n",
    "print(lst[1])\n",
    "\n",
    "lst[1] = 10\n",
    "print(lst)"
   ]
  },
  {
   "cell_type": "markdown",
   "metadata": {},
   "source": [
    "5. `__del__`: Define the behavior of the del statement for an object."
   ]
  },
  {
   "cell_type": "code",
   "execution_count": 6,
   "metadata": {},
   "outputs": [
    {
     "name": "stdout",
     "output_type": "stream",
     "text": [
      "[1, 2, 3, 4, 5, 6, 7, 8]\n",
      "The object [1, 2, 3, 4, 5, 6, 7, 8] is deleted!\n"
     ]
    }
   ],
   "source": [
    "class CustomList:\n",
    "\n",
    "    def __init__(self, items):\n",
    "        self.items = items\n",
    "\n",
    "    def __str__(self):\n",
    "        return f\"{self.items}\"\n",
    "\n",
    "    def __getitem__(self, idx):\n",
    "        return self.items[idx]\n",
    "    \n",
    "    def __setitem__(self, idx, val):\n",
    "        self.items[idx] = val\n",
    "\n",
    "    def __del__(self):\n",
    "        print(f\"The object {self} is deleted!\")\n",
    "    \n",
    "custList = CustomList([1,2,3,4,5,6,7,8])\n",
    "print(custList)\n",
    "\n",
    "del custList"
   ]
  },
  {
   "cell_type": "markdown",
   "metadata": {},
   "source": [
    "6. `__iter__` and `__next__`: Implement iteration for an object using the `iter()` and `next()` functions."
   ]
  },
  {
   "cell_type": "code",
   "execution_count": 7,
   "metadata": {},
   "outputs": [
    {
     "name": "stdout",
     "output_type": "stream",
     "text": [
      "0\n",
      "1\n",
      "2\n",
      "3\n",
      "4\n",
      "===============\n",
      "0\n"
     ]
    }
   ],
   "source": [
    "class Iter:\n",
    "    def __init__(self, n):\n",
    "        self.n = n\n",
    "\n",
    "    def __iter__(self):\n",
    "        self.current = -1\n",
    "        return self\n",
    "\n",
    "    def __next__(self):\n",
    "        self.current += 1\n",
    "\n",
    "        if self.current >= self.n:\n",
    "            raise StopIteration\n",
    "        \n",
    "        return self.current\n",
    "\n",
    "x = Iter(5)\n",
    "\n",
    "for i in x:\n",
    "    print(i)\n",
    "\n",
    "print(\"===\"*5)\n",
    "\n",
    "# Need to create an iter object of x, else next(x) will not work since self.current would not be defined\n",
    "itr = iter(x)\n",
    "print(next(x))"
   ]
  },
  {
   "cell_type": "markdown",
   "metadata": {},
   "source": [
    "7. `__call__`: Allows an object to be called as a function."
   ]
  },
  {
   "cell_type": "code",
   "execution_count": 8,
   "metadata": {},
   "outputs": [
    {
     "name": "stdout",
     "output_type": "stream",
     "text": [
      "100\n",
      "1000\n"
     ]
    }
   ],
   "source": [
    "class Multiplier:\n",
    "\n",
    "    def __init__(self, exp):\n",
    "        self.exp = exp\n",
    "\n",
    "    def __call__(self, val):\n",
    "        return val ** self.exp\n",
    "    \n",
    "double = Multiplier(2)\n",
    "triple = Multiplier(3)\n",
    "\n",
    "print(double(10))\n",
    "print(triple(10))"
   ]
  },
  {
   "cell_type": "markdown",
   "metadata": {},
   "source": [
    "8. `__eq__`, `__ne__`, `__lt__`, `__le__`, `__gt__`, `__ge__`:  Implement comparison operators for custom classes."
   ]
  },
  {
   "cell_type": "code",
   "execution_count": 9,
   "metadata": {},
   "outputs": [
    {
     "name": "stdout",
     "output_type": "stream",
     "text": [
      "Is the length of List1 equal to the length of List2?: False\n",
      "Is the length of List1 not equal to the length of List2?: True\n",
      "Is the length of List1 less than the length of List2?: False\n",
      "Is the length of List1 less than or equal to the length of List2?: False\n",
      "Is the length of List1 greater than the length of List2?: True\n",
      "Is the length of List1 greater than or equal to the length of List2?: True\n"
     ]
    }
   ],
   "source": [
    "class CustomList:\n",
    "\n",
    "    def __init__(self, items):\n",
    "        self.items = items\n",
    "\n",
    "    def __len__(self):\n",
    "        return len(self.items)\n",
    "    \n",
    "    def __eq__(self, other):\n",
    "        return len(self.items) == len(other.items)\n",
    "\n",
    "    def __ne__(self, other):\n",
    "        return len(self.items) != len(other.items)\n",
    "\n",
    "    def __lt__(self, other):\n",
    "        return len(self.items) < len(other.items)\n",
    "\n",
    "    def __le__(self, other):\n",
    "        return len(self.items) <= len(other.items)\n",
    "\n",
    "    def __gt__(self, other):\n",
    "        return len(self.items) > len(other.items)\n",
    "\n",
    "    def __ge__(self, other):\n",
    "        return len(self.items) >= len(other.items)\n",
    "    \n",
    "lst1 = CustomList([1,2,3,4,5,6])\n",
    "lst2 = CustomList([9,8,7,6])\n",
    "\n",
    "print(f\"Is the length of List1 equal to the length of List2?: {lst1 == lst2}\")\n",
    "print(f\"Is the length of List1 not equal to the length of List2?: {lst1 != lst2}\")\n",
    "print(f\"Is the length of List1 less than the length of List2?: {lst1 < lst2}\")\n",
    "print(f\"Is the length of List1 less than or equal to the length of List2?: {lst1 <= lst2}\")\n",
    "print(f\"Is the length of List1 greater than the length of List2?: {lst1 > lst2}\")\n",
    "print(f\"Is the length of List1 greater than or equal to the length of List2?: {lst1 >= lst2}\")"
   ]
  },
  {
   "cell_type": "markdown",
   "metadata": {},
   "source": [
    "9. `__contains__`: Implement the behavior of the `in` keyword for an object."
   ]
  },
  {
   "cell_type": "code",
   "execution_count": 10,
   "metadata": {},
   "outputs": [
    {
     "name": "stdout",
     "output_type": "stream",
     "text": [
      "True\n",
      "False\n"
     ]
    }
   ],
   "source": [
    "class CustomList:\n",
    "\n",
    "    def __init__(self, items):\n",
    "        self.items = items\n",
    "\n",
    "    def __contains__(self, item):\n",
    "        return item in self.items\n",
    "    \n",
    "lst = CustomList([1,2,3,4])\n",
    "print(4 in lst)\n",
    "print(5 in lst)"
   ]
  },
  {
   "cell_type": "markdown",
   "metadata": {},
   "source": [
    "10. `__format__`: Allows objects to define their own behavior for the `format()` function"
   ]
  },
  {
   "cell_type": "code",
   "execution_count": 71,
   "metadata": {},
   "outputs": [
    {
     "name": "stdout",
     "output_type": "stream",
     "text": [
      "sOhAm\n"
     ]
    }
   ],
   "source": [
    "class CustomString:\n",
    "\n",
    "    def __init__(self, string):\n",
    "        self.string = string\n",
    "\n",
    "    def __repr__(self):\n",
    "        return f\"{self.string}\"\n",
    "    \n",
    "    def __len__(self):\n",
    "        return len(self.string)\n",
    "    \n",
    "    def __getitem__(self, idx):\n",
    "        return self.string[idx]\n",
    "\n",
    "    def __format__(self, format_spec):\n",
    "        \n",
    "        if format_spec == \"echo\":\n",
    "            \n",
    "            self.string = self.string * 3\n",
    "            self.string = self.string + \"...\"\n",
    "\n",
    "            gradient = []\n",
    "            start_color = (255, 255, 255)\n",
    "            end_color = (0, 0, 0)\n",
    "            for i in range(len(self.string)):\n",
    "                ratio = i / (len(self.string) - 1)\n",
    "                r = int((1 - ratio) * start_color[0] + ratio * end_color[0])\n",
    "                g = int((1 - ratio) * start_color[1] + ratio * end_color[1])\n",
    "                b = int((1 - ratio) * start_color[2] + ratio * end_color[2])\n",
    "                gradient.append(f\"\\033[38;2;{r};{g};{b}m{self.string[i]}\\033[0m\")\n",
    "\n",
    "            return \"  \".join(gradient)\n",
    "        \n",
    "        elif format_spec == \"scream\":\n",
    "            return f\"{self.string.upper()}\" + \"!!\"\n",
    "        \n",
    "        elif format_spec == \"whisper\":\n",
    "            return f\"{self.string.lower()}\" + \"...\"\n",
    "        \n",
    "        elif format_spec == \"mock\":\n",
    "            \n",
    "            letters = list(self.string)\n",
    "\n",
    "            for i in range(len(letters)):\n",
    "                if i % 2 == 0:\n",
    "                    letters[i] = letters[i].lower()\n",
    "                else:\n",
    "                    letters[i] = letters[i].upper()\n",
    "                \n",
    "            return \"\".join(letters)\n",
    "                    \n",
    "        \n",
    "st = CustomString(\"Soham\")\n",
    "print(\"{:mock}\".format(st))"
   ]
  }
 ],
 "metadata": {
  "kernelspec": {
   "display_name": "Python 3",
   "language": "python",
   "name": "python3"
  },
  "language_info": {
   "codemirror_mode": {
    "name": "ipython",
    "version": 3
   },
   "file_extension": ".py",
   "mimetype": "text/x-python",
   "name": "python",
   "nbconvert_exporter": "python",
   "pygments_lexer": "ipython3",
   "version": "3.10.0"
  }
 },
 "nbformat": 4,
 "nbformat_minor": 2
}
