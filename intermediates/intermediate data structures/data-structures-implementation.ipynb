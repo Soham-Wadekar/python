{
 "cells": [
  {
   "cell_type": "markdown",
   "metadata": {},
   "source": [
    "### 1. Singly Linked List `==>`"
   ]
  },
  {
   "cell_type": "markdown",
   "metadata": {},
   "source": [
    "#### 1.1 Simple Singly Linked List"
   ]
  },
  {
   "cell_type": "code",
   "execution_count": 165,
   "metadata": {},
   "outputs": [],
   "source": [
    "from DataStructures.LinkedList import SinglyLinkedList, CircularSinglyLinkedList"
   ]
  },
  {
   "cell_type": "code",
   "execution_count": 166,
   "metadata": {},
   "outputs": [
    {
     "name": "stdout",
     "output_type": "stream",
     "text": [
      "(HEAD) --> NULL\n",
      "(HEAD) 10 --> NULL\n",
      "(HEAD) 20 --> 10 --> NULL\n",
      "(HEAD) 30 --> 20 --> 10 --> NULL\n",
      "(HEAD) 30 --> 20 --> 10 --> 40 --> NULL\n",
      "(HEAD) 30 --> 20 --> 50 --> 10 --> 40 --> NULL\n",
      "(HEAD) 30 --> 20 --> 50 --> 10 --> 40 --> 50 --> 60 --> 70 --> 80 --> 90 --> NULL\n"
     ]
    }
   ],
   "source": [
    "ll = SinglyLinkedList()\n",
    "\n",
    "# Printing an empty linked list\n",
    "\n",
    "print(ll)\n",
    "\n",
    "# By default, inserts at the first element\n",
    "\n",
    "ll.insert(10)\n",
    "print(ll)\n",
    "ll.insert(20)\n",
    "print(ll)\n",
    "ll.insert(30)\n",
    "print(ll)\n",
    "\n",
    "# Insert an element at the end\n",
    "\n",
    "ll.insert(40, -1)\n",
    "print(ll)\n",
    "\n",
    "# Insert an element at a specified index\n",
    "\n",
    "ll.insert(50, 2)\n",
    "print(ll)\n",
    "\n",
    "# Insert a list of elements\n",
    "\n",
    "ll.insert([50, 60, 70, 80, 90])\n",
    "print(ll)"
   ]
  },
  {
   "cell_type": "code",
   "execution_count": 167,
   "metadata": {},
   "outputs": [
    {
     "name": "stdout",
     "output_type": "stream",
     "text": [
      "(HEAD) 30 --> 20 --> 50 --> 10 --> 40 --> 50 --> 60 --> 70 --> 80 --> NULL\n",
      "(HEAD) 20 --> 50 --> 10 --> 40 --> 50 --> 60 --> 70 --> 80 --> NULL\n",
      "(HEAD) 20 --> 10 --> 40 --> 50 --> 60 --> 70 --> 80 --> NULL\n"
     ]
    }
   ],
   "source": [
    "# Delete element at the end\n",
    "\n",
    "ll.delete()\n",
    "print(ll)\n",
    "\n",
    "# Delete element at the start\n",
    "\n",
    "ll.delete(0)\n",
    "print(ll)\n",
    "\n",
    "# Delete element at a specified index\n",
    "\n",
    "ll.delete(1)\n",
    "print(ll)"
   ]
  },
  {
   "cell_type": "code",
   "execution_count": 168,
   "metadata": {},
   "outputs": [
    {
     "name": "stdout",
     "output_type": "stream",
     "text": [
      "7\n"
     ]
    }
   ],
   "source": [
    "# Display length of the linked list\n",
    "\n",
    "print(len(ll))"
   ]
  },
  {
   "cell_type": "code",
   "execution_count": 169,
   "metadata": {},
   "outputs": [
    {
     "name": "stdout",
     "output_type": "stream",
     "text": [
      "Element 10 found at index 1\n"
     ]
    }
   ],
   "source": [
    "# Search for a specific element\n",
    "\n",
    "element = 10\n",
    "index = ll.search(element)\n",
    "print(f\"Element {element} found at index {index}\")"
   ]
  },
  {
   "cell_type": "code",
   "execution_count": 170,
   "metadata": {},
   "outputs": [
    {
     "name": "stdout",
     "output_type": "stream",
     "text": [
      "50\n",
      "80\n",
      "(HEAD) 10 --> 40 --> 50 --> 60 --> NULL\n"
     ]
    }
   ],
   "source": [
    "# Get value at a specified index\n",
    "\n",
    "print(ll[3])\n",
    "\n",
    "print(ll[-1])\n",
    "\n",
    "print(ll[1:5])"
   ]
  },
  {
   "cell_type": "code",
   "execution_count": 171,
   "metadata": {},
   "outputs": [
    {
     "name": "stdout",
     "output_type": "stream",
     "text": [
      "(HEAD) 20 --> 10 --> 40 --> 50 --> 60 --> 70 --> 80 --> NULL\n",
      "(HEAD) 20 --> 10 --> 40 --> 10 --> 60 --> 70 --> 80 --> NULL\n"
     ]
    }
   ],
   "source": [
    "# Update value at a specified index\n",
    "\n",
    "print(ll)\n",
    "ll.update(10, 3)\n",
    "print(ll)"
   ]
  },
  {
   "cell_type": "code",
   "execution_count": 172,
   "metadata": {},
   "outputs": [
    {
     "name": "stdout",
     "output_type": "stream",
     "text": [
      "(HEAD) 6 --> 5 --> 4 --> 3 --> 2 --> 1 --> NULL\n"
     ]
    }
   ],
   "source": [
    "# Concatenating two linked lists\n",
    "\n",
    "ll1 = SinglyLinkedList()\n",
    "ll2 = SinglyLinkedList()\n",
    "\n",
    "ll1.insert([1, 2, 3])\n",
    "ll2.insert([4, 5, 6])\n",
    "\n",
    "print(ll1 + ll2)"
   ]
  },
  {
   "cell_type": "code",
   "execution_count": 173,
   "metadata": {},
   "outputs": [
    {
     "name": "stdout",
     "output_type": "stream",
     "text": [
      "(HEAD) 3 --> 2 --> 1 --> NULL\n",
      "(HEAD) 8 --> 7 --> 6 --> 5 --> 4 --> NULL\n"
     ]
    }
   ],
   "source": [
    "# Split a linked list at a specified index into two linked lists\n",
    "\n",
    "ll_main = SinglyLinkedList()\n",
    "ll_main.insert([1, 2, 3, 4, 5, 6, 7, 8])\n",
    "\n",
    "left, right = ll_main.split(3)\n",
    "print(left)\n",
    "print(right)"
   ]
  },
  {
   "cell_type": "markdown",
   "metadata": {},
   "source": [
    "#### 1.2 Circular Singly Linked List"
   ]
  },
  {
   "cell_type": "code",
   "execution_count": 174,
   "metadata": {},
   "outputs": [
    {
     "name": "stdout",
     "output_type": "stream",
     "text": [
      "(HEAD) --> (HEAD)\n",
      "(HEAD) 10 --> (HEAD)\n",
      "(HEAD) 20 --> 10 --> (HEAD)\n",
      "(HEAD) 30 --> 20 --> 10 --> (HEAD)\n",
      "(HEAD) 30 --> 20 --> 10 --> 40 --> (HEAD)\n",
      "(HEAD) 30 --> 20 --> 50 --> 10 --> 40 --> (HEAD)\n",
      "(HEAD) 30 --> 20 --> 50 --> 10 --> 40 --> 50 --> 60 --> 70 --> 80 --> 90 --> (HEAD)\n"
     ]
    }
   ],
   "source": [
    "cll = CircularSinglyLinkedList()\n",
    "\n",
    "# Printing an empty linked list\n",
    "\n",
    "print(cll)\n",
    "\n",
    "# By default, inserts at the first element\n",
    "\n",
    "cll.insert(10)\n",
    "print(cll)\n",
    "cll.insert(20)\n",
    "print(cll)\n",
    "cll.insert(30)\n",
    "print(cll)\n",
    "\n",
    "# Insert an element at the end\n",
    "\n",
    "cll.insert(40, -1)\n",
    "print(cll)\n",
    "\n",
    "# Insert an element at a specified index\n",
    "\n",
    "cll.insert(50, 2)\n",
    "print(cll)\n",
    "\n",
    "# Insert a list of elements\n",
    "\n",
    "cll.insert([50, 60, 70, 80, 90])\n",
    "print(cll)"
   ]
  },
  {
   "cell_type": "code",
   "execution_count": 175,
   "metadata": {},
   "outputs": [
    {
     "name": "stdout",
     "output_type": "stream",
     "text": [
      "(HEAD) 30 --> 20 --> 50 --> 10 --> 40 --> 50 --> 60 --> 70 --> 80 --> 90 --> (HEAD)\n",
      "(HEAD) 30 --> 50 --> 10 --> 40 --> 50 --> 60 --> 70 --> 80 --> 90 --> (HEAD)\n",
      "(HEAD) 30 --> 50 --> 10 --> 40 --> 50 --> 70 --> 80 --> 90 --> (HEAD)\n"
     ]
    }
   ],
   "source": [
    "# Delete element at the start\n",
    "print(cll)\n",
    "\n",
    "cll.delete(1)\n",
    "print(cll)\n",
    "\n",
    "# Delete element at a specified index\n",
    "\n",
    "cll.delete(5)\n",
    "print(cll)"
   ]
  },
  {
   "cell_type": "code",
   "execution_count": 176,
   "metadata": {},
   "outputs": [
    {
     "name": "stdout",
     "output_type": "stream",
     "text": [
      "8\n"
     ]
    }
   ],
   "source": [
    "# Display length of the linked list\n",
    "\n",
    "print(len(cll))"
   ]
  },
  {
   "cell_type": "code",
   "execution_count": 177,
   "metadata": {},
   "outputs": [
    {
     "name": "stdout",
     "output_type": "stream",
     "text": [
      "Element 10 found at index 2\n"
     ]
    }
   ],
   "source": [
    "# Search for a specific element\n",
    "\n",
    "element = 10\n",
    "index = cll.search(element)\n",
    "print(f\"Element {element} found at index {index}\")"
   ]
  },
  {
   "cell_type": "code",
   "execution_count": 178,
   "metadata": {},
   "outputs": [
    {
     "name": "stdout",
     "output_type": "stream",
     "text": [
      "40\n",
      "90\n",
      "(HEAD) 50 --> 40 --> 10 --> 50 --> (HEAD)\n"
     ]
    }
   ],
   "source": [
    "# Get value at a specified index\n",
    "\n",
    "print(cll[3])\n",
    "\n",
    "print(cll[-1])\n",
    "\n",
    "print(cll[1:5])"
   ]
  },
  {
   "cell_type": "code",
   "execution_count": 179,
   "metadata": {},
   "outputs": [
    {
     "name": "stdout",
     "output_type": "stream",
     "text": [
      "(HEAD) 30 --> 50 --> 10 --> 40 --> 50 --> 70 --> 80 --> 90 --> (HEAD)\n",
      "(HEAD) 30 --> 50 --> 10 --> 10 --> 50 --> 70 --> 80 --> 90 --> (HEAD)\n"
     ]
    }
   ],
   "source": [
    "# Update value at a specified index\n",
    "\n",
    "print(cll)\n",
    "cll.update(10, 3)\n",
    "print(cll)"
   ]
  },
  {
   "cell_type": "markdown",
   "metadata": {},
   "source": [
    "### 2. Doubly Linked List `<==>`"
   ]
  },
  {
   "cell_type": "markdown",
   "metadata": {},
   "source": [
    "#### 2.1 Simple Doubly Linked List"
   ]
  },
  {
   "cell_type": "code",
   "execution_count": 180,
   "metadata": {},
   "outputs": [],
   "source": [
    "from DataStructures.LinkedList import DoublyLinkedList, CircularDoublyLinkedList"
   ]
  },
  {
   "cell_type": "code",
   "execution_count": 181,
   "metadata": {},
   "outputs": [
    {
     "name": "stdout",
     "output_type": "stream",
     "text": [
      "NULL <==> (HEAD) <==> NULL\n",
      "NULL <==> (HEAD) 10 <==> NULL\n",
      "NULL <==> (HEAD) 20 <==> 10 <==> NULL\n",
      "NULL <==> (HEAD) 30 <==> 20 <==> 10 <==> NULL\n",
      "NULL <==> (HEAD) 30 <==> 20 <==> 10 <==> 40 <==> NULL\n",
      "NULL <==> (HEAD) 30 <==> 20 <==> 50 <==> 10 <==> 40 <==> NULL\n",
      "NULL <==> (HEAD) 30 <==> 20 <==> 50 <==> 10 <==> 40 <==> 50 <==> 60 <==> 70 <==> 80 <==> 90 <==> NULL\n"
     ]
    }
   ],
   "source": [
    "dll = DoublyLinkedList()\n",
    "\n",
    "# Printing an empty linked list\n",
    "\n",
    "print(dll)\n",
    "\n",
    "# By default, inserts at the first element\n",
    "\n",
    "dll.insert(10)\n",
    "print(dll)\n",
    "dll.insert(20)\n",
    "print(dll)\n",
    "dll.insert(30)\n",
    "print(dll)\n",
    "\n",
    "# Insert an element at the end\n",
    "\n",
    "dll.insert(40, -1)\n",
    "print(dll)\n",
    "\n",
    "# Insert an element at a specified index\n",
    "\n",
    "dll.insert(50, 2)\n",
    "print(dll)\n",
    "\n",
    "# Insert a list of elements\n",
    "\n",
    "dll.insert([50, 60, 70, 80, 90])\n",
    "print(dll)"
   ]
  },
  {
   "cell_type": "code",
   "execution_count": 182,
   "metadata": {},
   "outputs": [
    {
     "name": "stdout",
     "output_type": "stream",
     "text": [
      "NULL <==> (HEAD) 30 <==> 20 <==> 50 <==> 10 <==> 40 <==> 50 <==> 60 <==> 70 <==> 80 <==> NULL\n",
      "NULL <==> (HEAD) 20 <==> 50 <==> 10 <==> 40 <==> 50 <==> 60 <==> 70 <==> 80 <==> NULL\n",
      "NULL <==> (HEAD) 20 <==> 10 <==> 40 <==> 50 <==> 60 <==> 70 <==> 80 <==> NULL\n"
     ]
    }
   ],
   "source": [
    "# Delete element at the end\n",
    "\n",
    "dll.delete()\n",
    "print(dll)\n",
    "\n",
    "# Delete element at the start\n",
    "\n",
    "dll.delete(0)\n",
    "print(dll)\n",
    "\n",
    "# Delete element at a specified index\n",
    "\n",
    "dll.delete(1)\n",
    "print(dll)"
   ]
  },
  {
   "cell_type": "code",
   "execution_count": 183,
   "metadata": {},
   "outputs": [
    {
     "name": "stdout",
     "output_type": "stream",
     "text": [
      "7\n"
     ]
    }
   ],
   "source": [
    "# Display length of the linked list\n",
    "\n",
    "print(len(dll))"
   ]
  },
  {
   "cell_type": "code",
   "execution_count": 184,
   "metadata": {},
   "outputs": [
    {
     "name": "stdout",
     "output_type": "stream",
     "text": [
      "Element 10 found at index 1\n"
     ]
    }
   ],
   "source": [
    "# Search for a specific element\n",
    "\n",
    "element = 10\n",
    "index = dll.search(element)\n",
    "print(f\"Element {element} found at index {index}\")"
   ]
  },
  {
   "cell_type": "code",
   "execution_count": 185,
   "metadata": {},
   "outputs": [
    {
     "name": "stdout",
     "output_type": "stream",
     "text": [
      "50\n",
      "80\n",
      "NULL <==> (HEAD) 10 <==> 40 <==> 50 <==> 60 <==> NULL\n"
     ]
    }
   ],
   "source": [
    "# Get value at a specified index\n",
    "\n",
    "print(dll[3])\n",
    "\n",
    "print(dll[-1])\n",
    "\n",
    "print(dll[1:5])"
   ]
  },
  {
   "cell_type": "code",
   "execution_count": 186,
   "metadata": {},
   "outputs": [
    {
     "name": "stdout",
     "output_type": "stream",
     "text": [
      "NULL <==> (HEAD) 20 <==> 10 <==> 40 <==> 50 <==> 60 <==> 70 <==> 80 <==> NULL\n",
      "NULL <==> (HEAD) 20 <==> 10 <==> 40 <==> 10 <==> 60 <==> 70 <==> 80 <==> NULL\n"
     ]
    }
   ],
   "source": [
    "# Update value at a specified index\n",
    "\n",
    "print(dll)\n",
    "dll.update(10, 3)\n",
    "print(dll)"
   ]
  },
  {
   "cell_type": "code",
   "execution_count": 187,
   "metadata": {},
   "outputs": [
    {
     "name": "stdout",
     "output_type": "stream",
     "text": [
      "NULL <==> (HEAD) 6 <==> 5 <==> 4 <==> 3 <==> 2 <==> 1 <==> NULL\n"
     ]
    }
   ],
   "source": [
    "# Concatenating two linked lists\n",
    "\n",
    "dll1 = DoublyLinkedList()\n",
    "dll2 = DoublyLinkedList()\n",
    "\n",
    "dll1.insert([1, 2, 3])\n",
    "dll2.insert([4, 5, 6])\n",
    "\n",
    "print(dll1 + dll2)"
   ]
  },
  {
   "cell_type": "code",
   "execution_count": 188,
   "metadata": {},
   "outputs": [
    {
     "name": "stdout",
     "output_type": "stream",
     "text": [
      "NULL <==> (HEAD) 3 <==> 2 <==> 1 <==> NULL\n",
      "NULL <==> (HEAD) 8 <==> 7 <==> 6 <==> 5 <==> 4 <==> NULL\n"
     ]
    }
   ],
   "source": [
    "# Split a linked list at a specified index into two linked lists\n",
    "\n",
    "dll_main = DoublyLinkedList()\n",
    "dll_main.insert([1, 2, 3, 4, 5, 6, 7, 8])\n",
    "\n",
    "left, right = dll_main.split(3)\n",
    "print(left)\n",
    "print(right)"
   ]
  },
  {
   "cell_type": "code",
   "execution_count": 189,
   "metadata": {},
   "outputs": [
    {
     "name": "stdout",
     "output_type": "stream",
     "text": [
      "NULL <==> (HEAD) 10 <==> 20 <==> 30 <==> 40 <==> 50 <==> 60 <==> NULL\n",
      "NULL <==> (HEAD) 60 <==> 50 <==> 40 <==> 30 <==> 20 <==> 10 <==> NULL\n"
     ]
    }
   ],
   "source": [
    "# Reverse traversal\n",
    "dll = DoublyLinkedList()\n",
    "\n",
    "dll.insert([10, 20, 30, 40, 50, 60])\n",
    "print(dll)\n",
    "\n",
    "reverse_dll = dll.reverse()\n",
    "print(reverse_dll)"
   ]
  },
  {
   "cell_type": "markdown",
   "metadata": {},
   "source": [
    "#### 2.2 Circular Doubly Linked List"
   ]
  },
  {
   "cell_type": "code",
   "execution_count": 190,
   "metadata": {},
   "outputs": [
    {
     "name": "stdout",
     "output_type": "stream",
     "text": [
      "(HEAD) <==> (HEAD)\n",
      "(HEAD) 10 <==> (HEAD)\n",
      "(HEAD) 20 <==> 10 <==> (HEAD)\n",
      "(HEAD) 30 <==> 20 <==> 10 <==> (HEAD)\n",
      "(HEAD) 30 <==> 20 <==> 10 <==> 40 <==> (HEAD)\n",
      "(HEAD) 30 <==> 20 <==> 50 <==> 10 <==> 40 <==> (HEAD)\n",
      "(HEAD) 30 <==> 20 <==> 50 <==> 10 <==> 40 <==> 50 <==> 60 <==> 70 <==> 80 <==> 90 <==> (HEAD)\n"
     ]
    }
   ],
   "source": [
    "cdll = CircularDoublyLinkedList()\n",
    "\n",
    "# Printing an empty linked list\n",
    "\n",
    "print(cdll)\n",
    "\n",
    "# By default, inserts at the first element\n",
    "\n",
    "cdll.insert(10)\n",
    "print(cdll)\n",
    "cdll.insert(20)\n",
    "print(cdll)\n",
    "cdll.insert(30)\n",
    "print(cdll)\n",
    "\n",
    "# Insert an element at the end\n",
    "\n",
    "cdll.insert(40, -1)\n",
    "print(cdll)\n",
    "\n",
    "# Insert an element at a specified index\n",
    "\n",
    "cdll.insert(50, 2)\n",
    "print(cdll)\n",
    "\n",
    "# Insert a list of elements\n",
    "\n",
    "cdll.insert([50, 60, 70, 80, 90])\n",
    "print(cdll)"
   ]
  },
  {
   "cell_type": "code",
   "execution_count": 191,
   "metadata": {},
   "outputs": [
    {
     "name": "stdout",
     "output_type": "stream",
     "text": [
      "(HEAD) 30 <==> 20 <==> 10 <==> 40 <==> 50 <==> 60 <==> 70 <==> 80 <==> 90 <==> (HEAD)\n",
      "(HEAD) 30 <==> 20 <==> 10 <==> 50 <==> 60 <==> 70 <==> 80 <==> 90 <==> (HEAD)\n"
     ]
    }
   ],
   "source": [
    "cdll.delete(2)\n",
    "print(cdll)\n",
    "\n",
    "# Delete element at a specified index\n",
    "\n",
    "cdll.delete(3)\n",
    "print(cdll)"
   ]
  },
  {
   "cell_type": "code",
   "execution_count": 192,
   "metadata": {},
   "outputs": [
    {
     "name": "stdout",
     "output_type": "stream",
     "text": [
      "8\n"
     ]
    }
   ],
   "source": [
    "# Display length of the linked list\n",
    "\n",
    "print(len(cdll))"
   ]
  },
  {
   "cell_type": "code",
   "execution_count": 193,
   "metadata": {},
   "outputs": [
    {
     "name": "stdout",
     "output_type": "stream",
     "text": [
      "Element 10 found at index 2\n"
     ]
    }
   ],
   "source": [
    "# Search for a specific element\n",
    "\n",
    "element = 10\n",
    "index = cdll.search(element)\n",
    "print(f\"Element {element} found at index {index}\")"
   ]
  },
  {
   "cell_type": "code",
   "execution_count": 194,
   "metadata": {},
   "outputs": [
    {
     "name": "stdout",
     "output_type": "stream",
     "text": [
      "50\n",
      "90\n",
      "(HEAD) 80 <==> 70 <==> 60 <==> 50 <==> 10 <==> 20 <==> (HEAD)\n"
     ]
    }
   ],
   "source": [
    "# Get value at a specified index\n",
    "\n",
    "print(cdll[3])\n",
    "\n",
    "print(cdll[-1])\n",
    "\n",
    "print(cdll[1:15])"
   ]
  },
  {
   "cell_type": "code",
   "execution_count": 195,
   "metadata": {},
   "outputs": [
    {
     "name": "stdout",
     "output_type": "stream",
     "text": [
      "(HEAD) 30 <==> 20 <==> 10 <==> 50 <==> 60 <==> 70 <==> 80 <==> 90 <==> (HEAD)\n",
      "(HEAD) 30 <==> 20 <==> 10 <==> 10 <==> 60 <==> 70 <==> 80 <==> 90 <==> (HEAD)\n"
     ]
    }
   ],
   "source": [
    "# Update value at a specified index\n",
    "\n",
    "print(cdll)\n",
    "cdll.update(10, 3)\n",
    "print(cdll)"
   ]
  },
  {
   "cell_type": "code",
   "execution_count": 196,
   "metadata": {},
   "outputs": [
    {
     "name": "stdout",
     "output_type": "stream",
     "text": [
      "(HEAD) 10 <==> 20 <==> 30 <==> 40 <==> 50 <==> 60 <==> (HEAD)\n",
      "(HEAD) 60 <==> 50 <==> 40 <==> 30 <==> 20 <==> 10 <==> (HEAD)\n"
     ]
    }
   ],
   "source": [
    "# Reverse traversal\n",
    "cdll = CircularDoublyLinkedList()\n",
    "\n",
    "cdll.insert([10, 20, 30, 40, 50, 60])\n",
    "print(cdll)\n",
    "\n",
    "reverse_cdll = cdll.reverse()\n",
    "print(reverse_cdll)"
   ]
  },
  {
   "cell_type": "markdown",
   "metadata": {},
   "source": [
    "---"
   ]
  },
  {
   "cell_type": "markdown",
   "metadata": {},
   "source": [
    "### 3. Stack `|___|`"
   ]
  },
  {
   "cell_type": "markdown",
   "metadata": {},
   "source": [
    "#### 3.1 Dynamic Stack"
   ]
  },
  {
   "cell_type": "code",
   "execution_count": 197,
   "metadata": {},
   "outputs": [],
   "source": [
    "from DataStructures.Stacks import DynamicStack"
   ]
  },
  {
   "cell_type": "code",
   "execution_count": 198,
   "metadata": {},
   "outputs": [
    {
     "name": "stdout",
     "output_type": "stream",
     "text": [
      "Empty Stack:\n",
      "\n",
      "|__________|\n"
     ]
    }
   ],
   "source": [
    "stack = DynamicStack()\n",
    "\n",
    "print(\"Empty Stack:\\n\")\n",
    "print(stack)"
   ]
  },
  {
   "cell_type": "code",
   "execution_count": 199,
   "metadata": {},
   "outputs": [
    {
     "name": "stdout",
     "output_type": "stream",
     "text": [
      "|                 23                 |\n",
      "|------------------------------------|\n",
      "|                 1                  |\n",
      "|------------------------------------|\n",
      "|     Lorem ipsum dolor sit amet     |\n",
      "|------------------------------------|\n",
      "|               300.25               |\n",
      "|------------------------------------|\n",
      "|                 10                 |\n",
      " ‾‾‾‾‾‾‾‾‾‾‾‾‾‾‾‾‾‾‾‾‾‾‾‾‾‾‾‾‾‾‾‾‾‾‾‾ \n"
     ]
    }
   ],
   "source": [
    "stack.push(10)\n",
    "stack.push(300.25)\n",
    "stack.push(\"Lorem ipsum dolor sit amet\")\n",
    "stack.push([1, 23])\n",
    "print(stack)"
   ]
  },
  {
   "cell_type": "code",
   "execution_count": 200,
   "metadata": {},
   "outputs": [
    {
     "name": "stdout",
     "output_type": "stream",
     "text": [
      "Popped element: 23\n",
      "\n",
      "|                 1                  |\n",
      "|------------------------------------|\n",
      "|     Lorem ipsum dolor sit amet     |\n",
      "|------------------------------------|\n",
      "|               300.25               |\n",
      "|------------------------------------|\n",
      "|                 10                 |\n",
      " ‾‾‾‾‾‾‾‾‾‾‾‾‾‾‾‾‾‾‾‾‾‾‾‾‾‾‾‾‾‾‾‾‾‾‾‾ \n",
      "==============================\n",
      "Popped element: 1\n",
      "\n",
      "|     Lorem ipsum dolor sit amet     |\n",
      "|------------------------------------|\n",
      "|               300.25               |\n",
      "|------------------------------------|\n",
      "|                 10                 |\n",
      " ‾‾‾‾‾‾‾‾‾‾‾‾‾‾‾‾‾‾‾‾‾‾‾‾‾‾‾‾‾‾‾‾‾‾‾‾ \n",
      "==============================\n",
      "Popped element: Lorem ipsum dolor sit amet\n",
      "\n",
      "|  300.25  |\n",
      "|----------|\n",
      "|    10    |\n",
      " ‾‾‾‾‾‾‾‾‾‾ \n",
      "==============================\n",
      "Popped element: 300.25\n",
      "\n",
      "|    10    |\n",
      " ‾‾‾‾‾‾‾‾‾‾ \n",
      "==============================\n",
      "Popped element: 10\n",
      "\n",
      "|__________|\n",
      "==============================\n",
      "Cannot pop. Stack is Empty\n",
      "Popped element: None\n",
      "\n",
      "|__________|\n"
     ]
    }
   ],
   "source": [
    "elem = stack.pop()\n",
    "print(f\"Popped element: {elem}\\n\")\n",
    "print(stack)\n",
    "print(\"===\" * 10)\n",
    "\n",
    "elem = stack.pop()\n",
    "print(f\"Popped element: {elem}\\n\")\n",
    "print(stack)\n",
    "print(\"===\" * 10)\n",
    "\n",
    "elem = stack.pop()\n",
    "print(f\"Popped element: {elem}\\n\")\n",
    "print(stack)\n",
    "print(\"===\" * 10)\n",
    "\n",
    "elem = stack.pop()\n",
    "print(f\"Popped element: {elem}\\n\")\n",
    "print(stack)\n",
    "print(\"===\" * 10)\n",
    "\n",
    "elem = stack.pop()\n",
    "print(f\"Popped element: {elem}\\n\")\n",
    "print(stack)\n",
    "print(\"===\" * 10)\n",
    "\n",
    "elem = stack.pop()\n",
    "print(f\"Popped element: {elem}\\n\")\n",
    "print(stack)"
   ]
  },
  {
   "cell_type": "code",
   "execution_count": 201,
   "metadata": {},
   "outputs": [
    {
     "name": "stdout",
     "output_type": "stream",
     "text": [
      "Cannot peak. Stack is empty\n",
      "None\n",
      "==============================\n",
      "New Stack:\n",
      "\n",
      "|    a     |\n",
      "|----------|\n",
      "|    2     |\n",
      "|----------|\n",
      "|    1     |\n",
      " ‾‾‾‾‾‾‾‾‾‾ \n",
      "Top Element is: a\n"
     ]
    }
   ],
   "source": [
    "top = stack.peek()\n",
    "print(top)\n",
    "print(\"===\" * 10)\n",
    "\n",
    "print(\"New Stack:\\n\")\n",
    "stack.push(1)\n",
    "stack.push(2)\n",
    "stack.push(\"a\")\n",
    "print(stack)\n",
    "\n",
    "top = stack.peek()\n",
    "print(f\"Top Element is: {top}\")"
   ]
  }
 ],
 "metadata": {
  "kernelspec": {
   "display_name": "Python 3",
   "language": "python",
   "name": "python3"
  },
  "language_info": {
   "codemirror_mode": {
    "name": "ipython",
    "version": 3
   },
   "file_extension": ".py",
   "mimetype": "text/x-python",
   "name": "python",
   "nbconvert_exporter": "python",
   "pygments_lexer": "ipython3",
   "version": "3.10.0"
  }
 },
 "nbformat": 4,
 "nbformat_minor": 2
}
