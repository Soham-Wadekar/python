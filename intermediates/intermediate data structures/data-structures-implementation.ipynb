{
 "cells": [
  {
   "cell_type": "markdown",
   "metadata": {},
   "source": [
    "### 1. Singly Linked List `==>`"
   ]
  },
  {
   "cell_type": "code",
   "execution_count": 1,
   "metadata": {},
   "outputs": [],
   "source": [
    "from DataStructures.LinkedList import SinglyLinkedList"
   ]
  },
  {
   "cell_type": "code",
   "execution_count": 2,
   "metadata": {},
   "outputs": [
    {
     "name": "stdout",
     "output_type": "stream",
     "text": [
      "(HEAD) --> NULL\n",
      "(HEAD) 10 --> NULL\n",
      "(HEAD) 20 --> 10 --> NULL\n",
      "(HEAD) 30 --> 20 --> 10 --> NULL\n",
      "(HEAD) 30 --> 20 --> 10 --> 40 --> NULL\n",
      "(HEAD) 30 --> 20 --> 50 --> 10 --> 40 --> NULL\n",
      "(HEAD) 30 --> 20 --> 50 --> 10 --> 40 --> 50 --> 60 --> 70 --> 80 --> 90 --> NULL\n"
     ]
    }
   ],
   "source": [
    "ll = SinglyLinkedList()\n",
    "\n",
    "# Printing an empty linked list\n",
    " \n",
    "print(ll)\n",
    "\n",
    "# By default, inserts at the first element\n",
    "\n",
    "ll.insert(10)\n",
    "print(ll)\n",
    "ll.insert(20)\n",
    "print(ll)\n",
    "ll.insert(30)\n",
    "print(ll)\n",
    "\n",
    "# Insert an element at the end\n",
    "\n",
    "ll.insert(40, -1)\n",
    "print(ll)\n",
    "\n",
    "# Insert an element at a specified index\n",
    "\n",
    "ll.insert(50, 2)\n",
    "print(ll)\n",
    "\n",
    "# Insert a list of elements\n",
    "\n",
    "ll.insert([50, 60, 70, 80, 90])\n",
    "print(ll)"
   ]
  },
  {
   "cell_type": "code",
   "execution_count": 3,
   "metadata": {},
   "outputs": [
    {
     "name": "stdout",
     "output_type": "stream",
     "text": [
      "(HEAD) 30 --> 20 --> 50 --> 10 --> 40 --> 50 --> 60 --> 70 --> 80 --> NULL\n",
      "(HEAD) 20 --> 50 --> 10 --> 40 --> 50 --> 60 --> 70 --> 80 --> NULL\n",
      "(HEAD) 20 --> 10 --> 40 --> 50 --> 60 --> 70 --> 80 --> NULL\n"
     ]
    }
   ],
   "source": [
    "# Delete element at the end\n",
    "\n",
    "ll.delete()\n",
    "print(ll)\n",
    "\n",
    "# Delete element at the start\n",
    "\n",
    "ll.delete(0)\n",
    "print(ll)\n",
    "\n",
    "# Delete element at a specified index\n",
    "\n",
    "ll.delete(1)\n",
    "print(ll)"
   ]
  },
  {
   "cell_type": "code",
   "execution_count": 4,
   "metadata": {},
   "outputs": [
    {
     "name": "stdout",
     "output_type": "stream",
     "text": [
      "7\n"
     ]
    }
   ],
   "source": [
    "# Display length of the linked list\n",
    "\n",
    "print(len(ll))"
   ]
  },
  {
   "cell_type": "code",
   "execution_count": 5,
   "metadata": {},
   "outputs": [
    {
     "name": "stdout",
     "output_type": "stream",
     "text": [
      "Element 10 found at index 1\n"
     ]
    }
   ],
   "source": [
    "# Search for a specific element\n",
    "\n",
    "element = 10\n",
    "index = ll.search(element)\n",
    "print(f\"Element {element} found at index {index}\")"
   ]
  },
  {
   "cell_type": "code",
   "execution_count": 6,
   "metadata": {},
   "outputs": [
    {
     "name": "stdout",
     "output_type": "stream",
     "text": [
      "50\n"
     ]
    }
   ],
   "source": [
    "# Get value at a specified index\n",
    "\n",
    "print(ll[3])"
   ]
  },
  {
   "cell_type": "code",
   "execution_count": 7,
   "metadata": {},
   "outputs": [
    {
     "name": "stdout",
     "output_type": "stream",
     "text": [
      "(HEAD) 20 --> 10 --> 40 --> 50 --> 60 --> 70 --> 80 --> NULL\n",
      "(HEAD) 20 --> 10 --> 40 --> 10 --> 60 --> 70 --> 80 --> NULL\n"
     ]
    }
   ],
   "source": [
    "# Update value at a specified index\n",
    "\n",
    "print(ll)\n",
    "ll.update(10, 3)\n",
    "print(ll)"
   ]
  },
  {
   "cell_type": "code",
   "execution_count": 8,
   "metadata": {},
   "outputs": [
    {
     "name": "stdout",
     "output_type": "stream",
     "text": [
      "(HEAD) 6 --> 5 --> 4 --> 3 --> 2 --> 1 --> NULL\n"
     ]
    }
   ],
   "source": [
    "# Concatenating two linked lists\n",
    "\n",
    "ll1 = SinglyLinkedList()\n",
    "ll2 = SinglyLinkedList()\n",
    "\n",
    "ll1.insert([1, 2, 3])\n",
    "ll2.insert([4, 5, 6])\n",
    "\n",
    "print(ll1 + ll2)"
   ]
  },
  {
   "cell_type": "code",
   "execution_count": 9,
   "metadata": {},
   "outputs": [
    {
     "name": "stdout",
     "output_type": "stream",
     "text": [
      "(HEAD) 3 --> 2 --> 1 --> NULL\n",
      "(HEAD) 8 --> 7 --> 6 --> 5 --> 4 --> NULL\n"
     ]
    }
   ],
   "source": [
    "# Split a linked list at a specified index into two linked lists\n",
    "\n",
    "ll_main = SinglyLinkedList()\n",
    "ll_main.insert([1, 2, 3, 4, 5, 6, 7, 8])\n",
    "\n",
    "left, right = ll_main.split(3)\n",
    "print(left)\n",
    "print(right)"
   ]
  },
  {
   "cell_type": "markdown",
   "metadata": {},
   "source": [
    "### 2. Doubly Linked List `<==>`"
   ]
  },
  {
   "cell_type": "code",
   "execution_count": 10,
   "metadata": {},
   "outputs": [],
   "source": [
    "from DataStructures.LinkedList import DoublyLinkedList"
   ]
  },
  {
   "cell_type": "code",
   "execution_count": 11,
   "metadata": {},
   "outputs": [
    {
     "name": "stdout",
     "output_type": "stream",
     "text": [
      "NULL <==> (HEAD) <==> NULL\n",
      "NULL <==> (HEAD) 10 <==> NULL\n",
      "NULL <==> (HEAD) 20 <==> 10 <==> NULL\n",
      "NULL <==> (HEAD) 30 <==> 20 <==> 10 <==> NULL\n",
      "NULL <==> (HEAD) 30 <==> 20 <==> 10 <==> 40 <==> NULL\n",
      "NULL <==> (HEAD) 30 <==> 20 <==> 50 <==> 10 <==> 40 <==> NULL\n",
      "NULL <==> (HEAD) 30 <==> 20 <==> 50 <==> 10 <==> 40 <==> 50 <==> 60 <==> 70 <==> 80 <==> 90 <==> NULL\n"
     ]
    }
   ],
   "source": [
    "dll = DoublyLinkedList()\n",
    "\n",
    "# Printing an empty linked list\n",
    " \n",
    "print(dll)\n",
    "\n",
    "# By default, inserts at the first element\n",
    "\n",
    "dll.insert(10)\n",
    "print(dll)\n",
    "dll.insert(20)\n",
    "print(dll)\n",
    "dll.insert(30)\n",
    "print(dll)\n",
    "\n",
    "# Insert an element at the end\n",
    "\n",
    "dll.insert(40, -1)\n",
    "print(dll)\n",
    "\n",
    "# Insert an element at a specified index\n",
    "\n",
    "dll.insert(50, 2)\n",
    "print(dll)\n",
    "\n",
    "# Insert a list of elements\n",
    "\n",
    "dll.insert([50, 60, 70, 80, 90])\n",
    "print(dll)"
   ]
  },
  {
   "cell_type": "code",
   "execution_count": 12,
   "metadata": {},
   "outputs": [
    {
     "name": "stdout",
     "output_type": "stream",
     "text": [
      "NULL <==> (HEAD) 30 <==> 20 <==> 50 <==> 10 <==> 40 <==> 50 <==> 60 <==> 70 <==> 80 <==> NULL\n",
      "NULL <==> (HEAD) 20 <==> 50 <==> 10 <==> 40 <==> 50 <==> 60 <==> 70 <==> 80 <==> NULL\n",
      "NULL <==> (HEAD) 20 <==> 10 <==> 40 <==> 50 <==> 60 <==> 70 <==> 80 <==> NULL\n"
     ]
    }
   ],
   "source": [
    "# Delete element at the end\n",
    "\n",
    "dll.delete()\n",
    "print(dll)\n",
    "\n",
    "# Delete element at the start\n",
    "\n",
    "dll.delete(0)\n",
    "print(dll)\n",
    "\n",
    "# Delete element at a specified index\n",
    "\n",
    "dll.delete(1)\n",
    "print(dll)"
   ]
  },
  {
   "cell_type": "code",
   "execution_count": 13,
   "metadata": {},
   "outputs": [
    {
     "name": "stdout",
     "output_type": "stream",
     "text": [
      "7\n"
     ]
    }
   ],
   "source": [
    "# Display length of the linked list\n",
    "\n",
    "print(len(dll))"
   ]
  },
  {
   "cell_type": "code",
   "execution_count": 14,
   "metadata": {},
   "outputs": [
    {
     "name": "stdout",
     "output_type": "stream",
     "text": [
      "Element 10 found at index 1\n"
     ]
    }
   ],
   "source": [
    "# Search for a specific element\n",
    "\n",
    "element = 10\n",
    "index = dll.search(element)\n",
    "print(f\"Element {element} found at index {index}\")"
   ]
  },
  {
   "cell_type": "code",
   "execution_count": 15,
   "metadata": {},
   "outputs": [
    {
     "name": "stdout",
     "output_type": "stream",
     "text": [
      "50\n"
     ]
    }
   ],
   "source": [
    "# Get value at a specified index\n",
    "\n",
    "print(dll[3])"
   ]
  },
  {
   "cell_type": "code",
   "execution_count": 16,
   "metadata": {},
   "outputs": [
    {
     "name": "stdout",
     "output_type": "stream",
     "text": [
      "NULL <==> (HEAD) 20 <==> 10 <==> 40 <==> 50 <==> 60 <==> 70 <==> 80 <==> NULL\n",
      "NULL <==> (HEAD) 20 <==> 10 <==> 40 <==> 10 <==> 60 <==> 70 <==> 80 <==> NULL\n"
     ]
    }
   ],
   "source": [
    "# Update value at a specified index\n",
    "\n",
    "print(dll)\n",
    "dll.update(10, 3)\n",
    "print(dll)"
   ]
  },
  {
   "cell_type": "code",
   "execution_count": 17,
   "metadata": {},
   "outputs": [
    {
     "name": "stdout",
     "output_type": "stream",
     "text": [
      "NULL <==> (HEAD) 6 <==> 5 <==> 4 <==> 3 <==> 2 <==> 1 <==> NULL\n"
     ]
    }
   ],
   "source": [
    "# Concatenating two linked lists\n",
    "\n",
    "dll1 = DoublyLinkedList()\n",
    "dll2 = DoublyLinkedList()\n",
    "\n",
    "dll1.insert([1, 2, 3])\n",
    "dll2.insert([4, 5, 6])\n",
    "\n",
    "print(dll1 + dll2)"
   ]
  },
  {
   "cell_type": "code",
   "execution_count": 18,
   "metadata": {},
   "outputs": [
    {
     "name": "stdout",
     "output_type": "stream",
     "text": [
      "NULL <==> (HEAD) 3 <==> 2 <==> 1 <==> NULL\n",
      "NULL <==> (HEAD) 8 <==> 7 <==> 6 <==> 5 <==> 4 <==> NULL\n"
     ]
    }
   ],
   "source": [
    "# Split a linked list at a specified index into two linked lists\n",
    "\n",
    "dll_main = DoublyLinkedList()\n",
    "dll_main.insert([1, 2, 3, 4, 5, 6, 7, 8])\n",
    "\n",
    "left, right = dll_main.split(3)\n",
    "print(left)\n",
    "print(right)"
   ]
  },
  {
   "cell_type": "code",
   "execution_count": 22,
   "metadata": {},
   "outputs": [
    {
     "name": "stdout",
     "output_type": "stream",
     "text": [
      "NULL <==> (HEAD) 10 <==> 20 <==> 30 <==> 40 <==> 50 <==> 60 <==> NULL\n",
      "NULL <==> (HEAD) 60 <==> 50 <==> 40 <==> 30 <==> 20 <==> 10 <==> NULL\n"
     ]
    }
   ],
   "source": [
    "# Reverse traversal\n",
    "dll = DoublyLinkedList()\n",
    "\n",
    "dll.insert([10,20,30,40,50,60])\n",
    "print(dll)\n",
    "\n",
    "reverse_dll = dll.reverse()\n",
    "print(reverse_dll)"
   ]
  }
 ],
 "metadata": {
  "kernelspec": {
   "display_name": "Python 3",
   "language": "python",
   "name": "python3"
  },
  "language_info": {
   "codemirror_mode": {
    "name": "ipython",
    "version": 3
   },
   "file_extension": ".py",
   "mimetype": "text/x-python",
   "name": "python",
   "nbconvert_exporter": "python",
   "pygments_lexer": "ipython3",
   "version": "3.10.0"
  }
 },
 "nbformat": 4,
 "nbformat_minor": 2
}
