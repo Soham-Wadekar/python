{
 "cells": [
  {
   "cell_type": "code",
   "execution_count": 2,
   "metadata": {},
   "outputs": [],
   "source": [
    "import pickle\n",
    "import json"
   ]
  },
  {
   "cell_type": "code",
   "execution_count": 3,
   "metadata": {},
   "outputs": [],
   "source": [
    "# Demo class\n",
    "\n",
    "\n",
    "class Animal:\n",
    "    def __init__(self, name, sound):\n",
    "        self.name = name\n",
    "        self.sound = sound\n",
    "\n",
    "    def info(self):\n",
    "        print(self.name, self.sound, sep=\": \")"
   ]
  },
  {
   "cell_type": "code",
   "execution_count": 7,
   "metadata": {},
   "outputs": [
    {
     "name": "stdout",
     "output_type": "stream",
     "text": [
      "Lion: Roar\n",
      "{'Name': 'Tiger', 'Sound': 'Roar'}\n"
     ]
    }
   ],
   "source": [
    "# Problem with JSON\n",
    "\n",
    "animal = Animal(\"Lion\", \"Roar\")\n",
    "animal.info()\n",
    "\n",
    "animal.name = \"Tiger\"\n",
    "\n",
    "with open(\"animals.json\", \"w\") as file:\n",
    "    data = {\"Name\": animal.name, \"Sound\": animal.sound}\n",
    "    json.dump(data, file)\n",
    "\n",
    "with open(\"animals.json\", \"r\") as file:\n",
    "    data = json.load(file)\n",
    "\n",
    "print(data)"
   ]
  },
  {
   "cell_type": "markdown",
   "metadata": {},
   "source": [
    "It takes a large amount of code to load and dump data using JSON. And we couldn't put the new data inside the `animal` object as well."
   ]
  },
  {
   "cell_type": "code",
   "execution_count": 8,
   "metadata": {},
   "outputs": [
    {
     "name": "stdout",
     "output_type": "stream",
     "text": [
      "Lion: Roar\n"
     ]
    }
   ],
   "source": [
    "animal = Animal(\"Lion\", \"Roar\")\n",
    "animal.info()\n",
    "\n",
    "animal.name = \"Tiger\"\n",
    "\n",
    "# Serializing (Creating a byte stream)\n",
    "with open(\"data.pickle\", \"wb\") as file:\n",
    "    pickle.dump(animal, file)"
   ]
  },
  {
   "cell_type": "code",
   "execution_count": 12,
   "metadata": {},
   "outputs": [
    {
     "name": "stdout",
     "output_type": "stream",
     "text": [
      "Tiger: Roar\n",
      "Tiger: Meow\n"
     ]
    }
   ],
   "source": [
    "# Deserializing (Getting data back from a byte stream)\n",
    "with open(\"data.pickle\", \"rb\") as file:\n",
    "    animal = pickle.load(file)\n",
    "\n",
    "animal.info()\n",
    "\n",
    "animal.sound = \"Meow\"\n",
    "animal.info()"
   ]
  }
 ],
 "metadata": {
  "kernelspec": {
   "display_name": "Python 3",
   "language": "python",
   "name": "python3"
  },
  "language_info": {
   "codemirror_mode": {
    "name": "ipython",
    "version": 3
   },
   "file_extension": ".py",
   "mimetype": "text/x-python",
   "name": "python",
   "nbconvert_exporter": "python",
   "pygments_lexer": "ipython3",
   "version": "3.10.0"
  }
 },
 "nbformat": 4,
 "nbformat_minor": 2
}
