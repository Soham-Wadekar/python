{
 "cells": [
  {
   "cell_type": "code",
   "execution_count": null,
   "metadata": {},
   "outputs": [],
   "source": [
    "import itertools\n",
    "\n",
    "letters = [\"a\", \"b\", \"c\", \"d\"]\n",
    "nums = [0, 1, 2, 3]\n",
    "names = [\"John\", \"Jane\"]"
   ]
  },
  {
   "cell_type": "code",
   "execution_count": 69,
   "metadata": {},
   "outputs": [],
   "source": [
    "people = [\n",
    "    {\"name\": \"John Doe\", \"city\": \"Gotham\", \"state\": \"NY\"},\n",
    "    {\"name\": \"Jane Doe\", \"city\": \"Kings Landing\", \"state\": \"NY\"},\n",
    "    {\"name\": \"Corey Schafer\", \"city\": \"Boulder\", \"state\": \"CO\"},\n",
    "    {\"name\": \"Al Einstein\", \"city\": \"Denver\", \"state\": \"CO\"},\n",
    "    {\"name\": \"John Henry\", \"city\": \"Hinton\", \"state\": \"WV\"},\n",
    "    {\"name\": \"Randy Moss\", \"city\": \"Rand\", \"state\": \"WV\"},\n",
    "    {\"name\": \"Nicole K\", \"city\": \"Asheville\", \"state\": \"NC\"},\n",
    "    {\"name\": \"Jim Doe\", \"city\": \"Charlotte\", \"state\": \"NC\"},\n",
    "    {\"name\": \"Jane Taylor\", \"city\": \"Faketown\", \"state\": \"NC\"},\n",
    "]"
   ]
  },
  {
   "cell_type": "code",
   "execution_count": 28,
   "metadata": {},
   "outputs": [
    {
     "data": {
      "text/plain": [
       "[(0, 'a'), (1, 'b'), (2, 'c'), (3, 'd')]"
      ]
     },
     "execution_count": 28,
     "metadata": {},
     "output_type": "execute_result"
    }
   ],
   "source": [
    "counter = itertools.count()  # start, step arguments\n",
    "\n",
    "result = zip(counter, letters)  # Equivalent to enumerate(data)\n",
    "list(result)"
   ]
  },
  {
   "cell_type": "code",
   "execution_count": 29,
   "metadata": {},
   "outputs": [
    {
     "name": "stdout",
     "output_type": "stream",
     "text": [
      "[('a', 'John'), ('b', 'Jane'), ('c', None), ('d', None)]\n"
     ]
    }
   ],
   "source": [
    "result = itertools.zip_longest(letters, names)\n",
    "print(list(result))"
   ]
  },
  {
   "cell_type": "code",
   "execution_count": 31,
   "metadata": {},
   "outputs": [
    {
     "name": "stdout",
     "output_type": "stream",
     "text": [
      "John\n",
      "Jane\n",
      "John\n",
      "Jane\n"
     ]
    }
   ],
   "source": [
    "result = itertools.cycle(names)\n",
    "\n",
    "print(next(result))\n",
    "print(next(result))\n",
    "print(next(result))\n",
    "print(next(result))"
   ]
  },
  {
   "cell_type": "code",
   "execution_count": 5,
   "metadata": {},
   "outputs": [
    {
     "name": "stdout",
     "output_type": "stream",
     "text": [
      "[2, 2, 2, 2, 2]\n"
     ]
    }
   ],
   "source": [
    "repeater = itertools.repeat(2, times=5)\n",
    "\n",
    "print(list(repeater))"
   ]
  },
  {
   "cell_type": "code",
   "execution_count": 32,
   "metadata": {},
   "outputs": [
    {
     "name": "stdout",
     "output_type": "stream",
     "text": [
      "[16, 25, 343]\n"
     ]
    }
   ],
   "source": [
    "nums_prod = [(2, 4), (5, 2), (7, 3)]\n",
    "exponents = itertools.starmap(pow, nums_prod)\n",
    "\n",
    "print(list(exponents))"
   ]
  },
  {
   "cell_type": "code",
   "execution_count": 33,
   "metadata": {},
   "outputs": [
    {
     "name": "stdout",
     "output_type": "stream",
     "text": [
      "[('a', 'b'), ('a', 'c'), ('a', 'd'), ('b', 'a'), ('b', 'c'), ('b', 'd'), ('c', 'a'), ('c', 'b'), ('c', 'd'), ('d', 'a'), ('d', 'b'), ('d', 'c')]\n",
      "[('a', 'b', 'c'), ('a', 'b', 'd'), ('a', 'c', 'b'), ('a', 'c', 'd'), ('a', 'd', 'b'), ('a', 'd', 'c'), ('b', 'a', 'c'), ('b', 'a', 'd'), ('b', 'c', 'a'), ('b', 'c', 'd'), ('b', 'd', 'a'), ('b', 'd', 'c'), ('c', 'a', 'b'), ('c', 'a', 'd'), ('c', 'b', 'a'), ('c', 'b', 'd'), ('c', 'd', 'a'), ('c', 'd', 'b'), ('d', 'a', 'b'), ('d', 'a', 'c'), ('d', 'b', 'a'), ('d', 'b', 'c'), ('d', 'c', 'a'), ('d', 'c', 'b')]\n"
     ]
    }
   ],
   "source": [
    "result_permutations = itertools.permutations(letters, 2)\n",
    "result_combinations = itertools.permutations(letters, 3)\n",
    "\n",
    "print(list(result_permutations))\n",
    "print(list(result_combinations))"
   ]
  },
  {
   "cell_type": "code",
   "execution_count": 34,
   "metadata": {},
   "outputs": [
    {
     "name": "stdout",
     "output_type": "stream",
     "text": [
      "[(0, 0), (0, 1), (0, 2), (0, 3), (1, 0), (1, 1), (1, 2), (1, 3), (2, 0), (2, 1), (2, 2), (2, 3), (3, 0), (3, 1), (3, 2), (3, 3)]\n"
     ]
    }
   ],
   "source": [
    "result = itertools.product(nums, repeat=2)\n",
    "\n",
    "print(list(result))"
   ]
  },
  {
   "cell_type": "code",
   "execution_count": 35,
   "metadata": {},
   "outputs": [
    {
     "name": "stdout",
     "output_type": "stream",
     "text": [
      "['a', 'b', 'c', 'd', 0, 1, 2, 3, 'John', 'Jane']\n"
     ]
    }
   ],
   "source": [
    "result = itertools.chain(letters, nums, names)\n",
    "print(list(result))"
   ]
  },
  {
   "cell_type": "code",
   "execution_count": 44,
   "metadata": {},
   "outputs": [
    {
     "name": "stdout",
     "output_type": "stream",
     "text": [
      "[10, 12, 14, 16, 18, 20, 22, 24, 26]\n"
     ]
    }
   ],
   "source": [
    "long_list = list(range(1000))\n",
    "result = itertools.islice(long_list, 10, 28, 2)\n",
    "print(list(result))"
   ]
  },
  {
   "cell_type": "code",
   "execution_count": 47,
   "metadata": {},
   "outputs": [
    {
     "name": "stdout",
     "output_type": "stream",
     "text": [
      "['a', 'b', 'd']\n"
     ]
    }
   ],
   "source": [
    "selectors = [True, True, False, True]\n",
    "\n",
    "result = itertools.compress(letters, selectors)\n",
    "print(list(result))"
   ]
  },
  {
   "cell_type": "code",
   "execution_count": null,
   "metadata": {},
   "outputs": [
    {
     "name": "stdout",
     "output_type": "stream",
     "text": [
      "[2, 3]\n"
     ]
    }
   ],
   "source": [
    "def lt_2(n):\n",
    "    if n < 2:\n",
    "        return True\n",
    "    return False\n",
    "\n",
    "\n",
    "result = itertools.filterfalse(\n",
    "    lt_2, nums\n",
    ")  # Complement of the built-in `filter` function\n",
    "print(list(result))"
   ]
  },
  {
   "cell_type": "code",
   "execution_count": 66,
   "metadata": {},
   "outputs": [
    {
     "name": "stdout",
     "output_type": "stream",
     "text": [
      "[0, 1, 3, 6]\n"
     ]
    }
   ],
   "source": [
    "import operator\n",
    "\n",
    "result = itertools.accumulate(nums, operator.add)\n",
    "print(list(result))"
   ]
  },
  {
   "cell_type": "code",
   "execution_count": 71,
   "metadata": {},
   "outputs": [
    {
     "name": "stdout",
     "output_type": "stream",
     "text": [
      "NY\n",
      "{'name': 'John Doe', 'city': 'Gotham', 'state': 'NY'}\n",
      "{'name': 'Jane Doe', 'city': 'Kings Landing', 'state': 'NY'}\n",
      "\n",
      "CO\n",
      "{'name': 'Corey Schafer', 'city': 'Boulder', 'state': 'CO'}\n",
      "{'name': 'Al Einstein', 'city': 'Denver', 'state': 'CO'}\n",
      "\n",
      "WV\n",
      "{'name': 'John Henry', 'city': 'Hinton', 'state': 'WV'}\n",
      "{'name': 'Randy Moss', 'city': 'Rand', 'state': 'WV'}\n",
      "\n",
      "NC\n",
      "{'name': 'Nicole K', 'city': 'Asheville', 'state': 'NC'}\n",
      "{'name': 'Jim Doe', 'city': 'Charlotte', 'state': 'NC'}\n",
      "{'name': 'Jane Taylor', 'city': 'Faketown', 'state': 'NC'}\n",
      "\n"
     ]
    }
   ],
   "source": [
    "def get_state(person):\n",
    "    return person[\"state\"]\n",
    "\n",
    "\n",
    "result = itertools.groupby(people, get_state)\n",
    "\n",
    "for state, group in result:\n",
    "    print(state)\n",
    "    for person in group:\n",
    "        print(person)\n",
    "    print()"
   ]
  },
  {
   "cell_type": "code",
   "execution_count": 77,
   "metadata": {},
   "outputs": [
    {
     "name": "stdout",
     "output_type": "stream",
     "text": [
      "[{'name': 'John Doe', 'city': 'Gotham', 'state': 'NY'}, {'name': 'Jane Doe', 'city': 'Kings Landing', 'state': 'NY'}, {'name': 'Corey Schafer', 'city': 'Boulder', 'state': 'CO'}, {'name': 'Al Einstein', 'city': 'Denver', 'state': 'CO'}, {'name': 'John Henry', 'city': 'Hinton', 'state': 'WV'}, {'name': 'Randy Moss', 'city': 'Rand', 'state': 'WV'}, {'name': 'Nicole K', 'city': 'Asheville', 'state': 'NC'}, {'name': 'Jim Doe', 'city': 'Charlotte', 'state': 'NC'}, {'name': 'Jane Taylor', 'city': 'Faketown', 'state': 'NC'}]\n",
      "[{'name': 'John Doe', 'city': 'Gotham', 'state': 'NY'}, {'name': 'Jane Doe', 'city': 'Kings Landing', 'state': 'NY'}, {'name': 'Corey Schafer', 'city': 'Boulder', 'state': 'CO'}, {'name': 'Al Einstein', 'city': 'Denver', 'state': 'CO'}, {'name': 'John Henry', 'city': 'Hinton', 'state': 'WV'}, {'name': 'Randy Moss', 'city': 'Rand', 'state': 'WV'}, {'name': 'Nicole K', 'city': 'Asheville', 'state': 'NC'}, {'name': 'Jim Doe', 'city': 'Charlotte', 'state': 'NC'}, {'name': 'Jane Taylor', 'city': 'Faketown', 'state': 'NC'}]\n"
     ]
    }
   ],
   "source": [
    "copy1, copy2 = itertools.tee(people)\n",
    "\n",
    "print(list(copy1))\n",
    "print(list(copy2))"
   ]
  }
 ],
 "metadata": {
  "kernelspec": {
   "display_name": "Python 3",
   "language": "python",
   "name": "python3"
  },
  "language_info": {
   "codemirror_mode": {
    "name": "ipython",
    "version": 3
   },
   "file_extension": ".py",
   "mimetype": "text/x-python",
   "name": "python",
   "nbconvert_exporter": "python",
   "pygments_lexer": "ipython3",
   "version": "3.13.0"
  }
 },
 "nbformat": 4,
 "nbformat_minor": 2
}
