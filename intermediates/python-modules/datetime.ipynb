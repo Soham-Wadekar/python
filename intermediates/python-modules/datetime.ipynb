{
 "cells": [
  {
   "cell_type": "code",
   "execution_count": 1,
   "metadata": {},
   "outputs": [],
   "source": [
    "import datetime"
   ]
  },
  {
   "cell_type": "code",
   "execution_count": 2,
   "metadata": {},
   "outputs": [
    {
     "name": "stdout",
     "output_type": "stream",
     "text": [
      "2023-07-11\n"
     ]
    }
   ],
   "source": [
    "# Normal date\n",
    "\n",
    "d = datetime.date(2023, 7, 11)\n",
    "print(d)"
   ]
  },
  {
   "cell_type": "code",
   "execution_count": 3,
   "metadata": {},
   "outputs": [
    {
     "name": "stdout",
     "output_type": "stream",
     "text": [
      "2023-12-21\n"
     ]
    }
   ],
   "source": [
    "# Today's date\n",
    "\n",
    "today = datetime.date.today()\n",
    "print(today)"
   ]
  },
  {
   "cell_type": "code",
   "execution_count": 4,
   "metadata": {},
   "outputs": [
    {
     "name": "stdout",
     "output_type": "stream",
     "text": [
      "21\n",
      "12\n",
      "2023\n",
      "3\n",
      "4\n"
     ]
    }
   ],
   "source": [
    "# Getting specific elements\n",
    "\n",
    "today = datetime.date.today()\n",
    "print(today.day)\n",
    "print(today.month)\n",
    "print(today.year)\n",
    "print(today.weekday())  # Monday - 0, Sunday - 6\n",
    "print(today.isoweekday())  # Monday - 1, Sunday - 7"
   ]
  },
  {
   "cell_type": "code",
   "execution_count": 5,
   "metadata": {},
   "outputs": [
    {
     "name": "stdout",
     "output_type": "stream",
     "text": [
      "Today's date is 2023-12-21\n",
      "Date after 2 days is 2023-12-23\n",
      "Date 2 days before was 2023-12-19\n"
     ]
    }
   ],
   "source": [
    "# Difference between two times\n",
    "\n",
    "today = datetime.date.today()\n",
    "print(f\"Today's date is {today}\")\n",
    "tdelta = datetime.timedelta(days=2)\n",
    "print(f\"Date after 2 days is {today + tdelta}\")\n",
    "print(f\"Date 2 days before was {today - tdelta}\")"
   ]
  },
  {
   "cell_type": "code",
   "execution_count": 6,
   "metadata": {},
   "outputs": [
    {
     "name": "stdout",
     "output_type": "stream",
     "text": [
      "11\n",
      "950400.0\n"
     ]
    }
   ],
   "source": [
    "# Days left till New Year\n",
    "\n",
    "today = datetime.date.today()\n",
    "new_year = datetime.date(2024, 1, 1)\n",
    "\n",
    "days_left = new_year - today\n",
    "print(days_left.days)\n",
    "print(days_left.total_seconds())"
   ]
  },
  {
   "cell_type": "code",
   "execution_count": 7,
   "metadata": {},
   "outputs": [
    {
     "name": "stdout",
     "output_type": "stream",
     "text": [
      "10:30:12.001229\n",
      "10\n",
      "30\n",
      "12\n",
      "1229\n"
     ]
    }
   ],
   "source": [
    "# Normal time\n",
    "\n",
    "t = datetime.time(10, 30, 12, 1229)\n",
    "print(t)\n",
    "print(t.hour)\n",
    "print(t.minute)\n",
    "print(t.second)\n",
    "print(t.microsecond)"
   ]
  },
  {
   "cell_type": "markdown",
   "metadata": {},
   "source": [
    "Date and Time can be combined using Datetime"
   ]
  },
  {
   "cell_type": "code",
   "execution_count": 14,
   "metadata": {},
   "outputs": [
    {
     "name": "stdout",
     "output_type": "stream",
     "text": [
      "2023-12-13 19:32:12.031321\n"
     ]
    }
   ],
   "source": [
    "dt = datetime.datetime(2023, 12, 13, 19, 32, 12, 31321)\n",
    "print(dt)"
   ]
  },
  {
   "cell_type": "code",
   "execution_count": 15,
   "metadata": {},
   "outputs": [
    {
     "name": "stdout",
     "output_type": "stream",
     "text": [
      "2023-12-21 17:41:28.998069\n",
      "2023-12-21 17:41:28.998068\n",
      "2023-12-21 12:11:28.998068\n"
     ]
    }
   ],
   "source": [
    "# Different methods to display datetime\n",
    "\n",
    "dt_today = datetime.datetime.today()  # Current Local datetime, timezone=None\n",
    "dt_now = datetime.datetime.now()  # Current Local datetime, timezone can be passed\n",
    "dt_utcnow = datetime.datetime.utcnow()  # Current UTC datetime\n",
    "\n",
    "print(dt_today)\n",
    "print(dt_now)\n",
    "print(dt_utcnow)"
   ]
  },
  {
   "cell_type": "code",
   "execution_count": 20,
   "metadata": {},
   "outputs": [
    {
     "name": "stdout",
     "output_type": "stream",
     "text": [
      "2023-12-13 19:32:12.031321+00:00\n",
      "2023-12-21 12:13:16.255843+00:00\n",
      "2023-12-21 12:13:16.255843+00:00\n"
     ]
    }
   ],
   "source": [
    "import pytz\n",
    "\n",
    "dt = datetime.datetime(2023, 12, 13, 19, 32, 12, 31321, tzinfo=pytz.UTC)\n",
    "dt_now = datetime.datetime.now(\n",
    "    tz=pytz.UTC\n",
    ")  # Current Local datetime, timezone can be passed\n",
    "dt_utcnow = datetime.datetime.utcnow().replace(tzinfo=pytz.UTC)  # Current UTC datetime\n",
    "\n",
    "print(dt)\n",
    "print(dt_now)\n",
    "print(dt_utcnow)"
   ]
  },
  {
   "cell_type": "code",
   "execution_count": 35,
   "metadata": {},
   "outputs": [
    {
     "name": "stdout",
     "output_type": "stream",
     "text": [
      "21/12/2023 18:16:55,\tType: <class 'str'>\n",
      "2023-01-01 12:30:00,\tType: <class 'datetime.datetime'>\n"
     ]
    }
   ],
   "source": [
    "# Formatting and Parsing:\n",
    "\n",
    "# Use strftime method to format datetime objects into strings.\n",
    "# Use strptime function to parse strings into datetime objects.\n",
    "\n",
    "now = datetime.datetime.now()\n",
    "formatted_date = now.strftime(\"%d/%m/%Y %H:%M:%S\")\n",
    "parsed_datetime = datetime.datetime.strptime(\"2023-01-01 12:30:00\", \"%Y-%m-%d %H:%M:%S\")\n",
    "print(f\"{formatted_date},\\tType: {type(formatted_date)}\")\n",
    "print(f\"{parsed_datetime},\\tType: {type(parsed_datetime)}\")"
   ]
  }
 ],
 "metadata": {
  "kernelspec": {
   "display_name": "Python 3",
   "language": "python",
   "name": "python3"
  },
  "language_info": {
   "codemirror_mode": {
    "name": "ipython",
    "version": 3
   },
   "file_extension": ".py",
   "mimetype": "text/x-python",
   "name": "python",
   "nbconvert_exporter": "python",
   "pygments_lexer": "ipython3",
   "version": "3.10.0"
  }
 },
 "nbformat": 4,
 "nbformat_minor": 2
}
