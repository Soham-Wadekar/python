{
 "cells": [
  {
   "cell_type": "code",
   "execution_count": 1,
   "metadata": {},
   "outputs": [],
   "source": [
    "import random"
   ]
  },
  {
   "cell_type": "code",
   "execution_count": 2,
   "metadata": {},
   "outputs": [
    {
     "name": "stdout",
     "output_type": "stream",
     "text": [
      "0.9815742440539447\n"
     ]
    }
   ],
   "source": [
    "# Get a random floating point number between 0 and 1\n",
    "print(random.random())"
   ]
  },
  {
   "cell_type": "code",
   "execution_count": 3,
   "metadata": {},
   "outputs": [
    {
     "name": "stdout",
     "output_type": "stream",
     "text": [
      "4.971980410815145\n"
     ]
    }
   ],
   "source": [
    "# Generate a random floating point number in a given range\n",
    "print(random.uniform(1, 10))"
   ]
  },
  {
   "cell_type": "code",
   "execution_count": 4,
   "metadata": {},
   "outputs": [
    {
     "name": "stdout",
     "output_type": "stream",
     "text": [
      "6\n"
     ]
    }
   ],
   "source": [
    "# Generate a random integer in a given range\n",
    "print(random.randint(1, 10))"
   ]
  },
  {
   "cell_type": "code",
   "execution_count": 12,
   "metadata": {},
   "outputs": [
    {
     "name": "stdout",
     "output_type": "stream",
     "text": [
      "2\n"
     ]
    }
   ],
   "source": [
    "# Pick a random value from a list of values\n",
    "print(random.choice([1, 2, 3, 4, 5]))"
   ]
  },
  {
   "cell_type": "code",
   "execution_count": 44,
   "metadata": {},
   "outputs": [
    {
     "name": "stdout",
     "output_type": "stream",
     "text": [
      "['T', 'T', 'T', 'T', 'T', 'H', 'H', 'T', 'H', 'T']\n",
      "['H', 'T', 'H', 'T', 'H', 'H', 'T', 'H', 'H', 'H']\n"
     ]
    }
   ],
   "source": [
    "# Generate multiple random values from a list of values\n",
    "toss = [\"H\", \"T\"]\n",
    "weights = [0.8, 0.2]\n",
    "\n",
    "print(random.choices(toss, k=10))\n",
    "print(random.choices(toss, weights=weights, k=10))"
   ]
  },
  {
   "cell_type": "code",
   "execution_count": 48,
   "metadata": {},
   "outputs": [
    {
     "name": "stdout",
     "output_type": "stream",
     "text": [
      "[1, 2, 3, 4, 5, 6, 7, 8, 9, 10, 11, 12, 13, 14, 15, 16, 17, 18, 19, 20, 21, 22, 23, 24, 25, 26, 27, 28, 29, 30, 31, 32, 33, 34, 35, 36, 37, 38, 39, 40, 41, 42, 43, 44, 45, 46, 47, 48, 49, 50, 51, 52]\n",
      "[50, 40, 32, 25, 34, 9, 41, 15, 8, 43, 22, 7, 35, 49, 21, 39, 47, 13, 38, 3, 18, 2, 51, 45, 46, 11, 12, 30, 42, 44, 19, 27, 29, 31, 10, 14, 24, 28, 36, 1, 4, 52, 17, 48, 20, 5, 37, 16, 33, 26, 6, 23]\n"
     ]
    }
   ],
   "source": [
    "# Shuffle a list of values\n",
    "\n",
    "deck = list(range(1, 53))\n",
    "print(deck)\n",
    "\n",
    "random.shuffle(deck)\n",
    "print(deck)"
   ]
  },
  {
   "cell_type": "code",
   "execution_count": 53,
   "metadata": {},
   "outputs": [
    {
     "name": "stdout",
     "output_type": "stream",
     "text": [
      "[47, 51, 20, 22, 10, 27, 6]\n"
     ]
    }
   ],
   "source": [
    "# Select a certain number of samples from a list of values\n",
    "\n",
    "deck = list(range(1, 53))\n",
    "\n",
    "hand = random.sample(deck, k=7)\n",
    "print(hand)"
   ]
  },
  {
   "cell_type": "code",
   "execution_count": 68,
   "metadata": {},
   "outputs": [
    {
     "name": "stdout",
     "output_type": "stream",
     "text": [
      "0.5714025946899135\n",
      "0.00758203351612774\n"
     ]
    }
   ],
   "source": [
    "# Assign a random seed so that the result doesn't change\n",
    "\n",
    "random.seed(10)\n",
    "print(random.random())\n",
    "\n",
    "# Reset the seed\n",
    "random.seed(None)\n",
    "print(random.random())"
   ]
  }
 ],
 "metadata": {
  "kernelspec": {
   "display_name": "Python 3",
   "language": "python",
   "name": "python3"
  },
  "language_info": {
   "codemirror_mode": {
    "name": "ipython",
    "version": 3
   },
   "file_extension": ".py",
   "mimetype": "text/x-python",
   "name": "python",
   "nbconvert_exporter": "python",
   "pygments_lexer": "ipython3",
   "version": "3.10.0"
  }
 },
 "nbformat": 4,
 "nbformat_minor": 2
}
