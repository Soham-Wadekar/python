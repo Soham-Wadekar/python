{
 "cells": [
  {
   "cell_type": "code",
   "execution_count": 1,
   "metadata": {},
   "outputs": [],
   "source": [
    "import time\n",
    "\n",
    "nums = [1, 2, 3, 4, 5, 6]\n",
    "\n",
    "def add(x, y): return x + y\n",
    "def sub(x, y): return x - y\n",
    "def mul(x, y): return x * y\n",
    "def power(base, exponent): return base ** exponent\n",
    "\n",
    "def timer(func):\n",
    "    def timer_wrapper(*args, **kwargs):\n",
    "        t1 = time.time()\n",
    "        result = func(*args, *kwargs)\n",
    "        t2 = time.time() - t1\n",
    "        print(f\"Function {func.__name__} took {t2} seconds to run...\")\n",
    "        return result\n",
    "    return timer_wrapper"
   ]
  },
  {
   "cell_type": "markdown",
   "metadata": {},
   "source": [
    "`functools.reduce`\n",
    "\n",
    "- **What it does:** Performs a cumulative operation on a sequence to reduce it to a single value.\n",
    "- **Use case:** Summing, multiplying, or combining elements in a sequence."
   ]
  },
  {
   "cell_type": "code",
   "execution_count": 2,
   "metadata": {},
   "outputs": [
    {
     "name": "stdout",
     "output_type": "stream",
     "text": [
      "720\n"
     ]
    }
   ],
   "source": [
    "from functools import reduce\n",
    "\n",
    "result = reduce(mul, nums)\n",
    "print(result)"
   ]
  },
  {
   "cell_type": "markdown",
   "metadata": {},
   "source": [
    "`functools.partial`\n",
    "\n",
    "- **What it does:** Allows you to fix a few arguments of a function and generate a new function with fewer arguments.\n",
    "- **Use case:** Simplifying function calls by pre-filling arguments."
   ]
  },
  {
   "cell_type": "code",
   "execution_count": 3,
   "metadata": {},
   "outputs": [
    {
     "name": "stdout",
     "output_type": "stream",
     "text": [
      "25\n",
      "1000\n"
     ]
    }
   ],
   "source": [
    "from functools import partial\n",
    "\n",
    "square = partial(power, exponent=2)\n",
    "power_of_10s = partial(power, 10)\n",
    "\n",
    "print(square(5))\n",
    "print(power_of_10s(3))"
   ]
  },
  {
   "cell_type": "markdown",
   "metadata": {},
   "source": [
    "`functools.lru_cache`\n",
    "- **What it does:** Caches the results of expensive function calls for optimization.\n",
    "- **Use case:** Improving performance for recursive or frequently called functions."
   ]
  },
  {
   "cell_type": "code",
   "execution_count": 4,
   "metadata": {},
   "outputs": [
    {
     "name": "stdout",
     "output_type": "stream",
     "text": [
      "Result: 69283081864224717136290077681328518273399124385204820718966040597691435587278383112277161967532530675374170857404743017623467220361778016172106855838975759985190398725\n",
      "Time taken: 0.002733 seconds\n",
      "\n",
      "Result: 69283081864224717136290077681328518273399124385204820718966040597691435587278383112277161967532530675374170857404743017623467220361778016172106855838975759985190398725\n",
      "Time taken: 0.000103 seconds\n"
     ]
    }
   ],
   "source": [
    "from functools import lru_cache\n",
    "\n",
    "@lru_cache(maxsize=128)\n",
    "def fibonacci(n):\n",
    "    if n < 2:\n",
    "        return n\n",
    "    return fibonacci(n - 1) + fibonacci(n - 2)\n",
    "\n",
    "t1 = time.time()\n",
    "print(f\"Result: {fibonacci(800)}\")            # Calculated time for all recursions\n",
    "t2 = time.time() - t1\n",
    "print(f\"Time taken: {t2:.6f} seconds\")\n",
    "print()\n",
    "t1 = time.time()\n",
    "print(f\"Result: {fibonacci(800)}\")            # Calculated time only once\n",
    "t2 = time.time() - t1\n",
    "print(f\"Time taken: {t2:.6f} seconds\")           "
   ]
  },
  {
   "cell_type": "markdown",
   "metadata": {},
   "source": [
    "`functools.total_ordering`\n",
    "\n",
    "- **What it does:** Simplifies class comparison by defining only a few rich comparison methods.\n",
    "- **Use case:** Implementing object comparisons without manually defining all comparison methods."
   ]
  },
  {
   "cell_type": "code",
   "execution_count": 7,
   "metadata": {},
   "outputs": [
    {
     "name": "stdout",
     "output_type": "stream",
     "text": [
      "True\n",
      "False\n",
      "True\n"
     ]
    }
   ],
   "source": [
    "from functools import total_ordering\n",
    "\n",
    "@total_ordering\n",
    "class Person:\n",
    "    def __init__(self, name, age):\n",
    "        self.name = name\n",
    "        self.age = age\n",
    "\n",
    "    def __eq__(self, other):\n",
    "        return self.age == other.age\n",
    "    \n",
    "    def __lt__(self, other):\n",
    "        return self.age < other.age\n",
    "    \n",
    "p1 = Person(\"John\", 29)\n",
    "p2 = Person(\"Jane\", 23)\n",
    "\n",
    "print(p1 > p2)\n",
    "print(p1 <= p2)\n",
    "print(p1 != p2)"
   ]
  },
  {
   "cell_type": "markdown",
   "metadata": {},
   "source": [
    "`functools.singledispatch`\n",
    "- **What it does:** Provides a single-dispatch generic function, allowing you to define function behavior based on input types.\n",
    "- **Use case:** Overloading functions based on argument types."
   ]
  },
  {
   "cell_type": "code",
   "execution_count": 10,
   "metadata": {},
   "outputs": [
    {
     "name": "stdout",
     "output_type": "stream",
     "text": [
      "Processing integer: 127\n",
      "Processing list: [23, 423, 823]\n"
     ]
    }
   ],
   "source": [
    "from functools import singledispatch\n",
    "\n",
    "@singledispatch\n",
    "def process(data):\n",
    "    print(f\"Processing {data}\")\n",
    "\n",
    "@process.register\n",
    "def _(data: int):\n",
    "    print(f\"Processing integer: {data}\")\n",
    "\n",
    "@process.register\n",
    "def _(data: list):\n",
    "    print(f\"Processing list: {data}\")\n",
    "\n",
    "process(127)\n",
    "process([23, 423, 823])"
   ]
  },
  {
   "cell_type": "markdown",
   "metadata": {},
   "source": [
    "`functools.wraps`\n",
    "- **What it does:** Preserves metadata (e.g., name, docstring) of the original function when writing decorators.\n",
    "- **Use case:** Ensures decorated functions retain their original attributes."
   ]
  },
  {
   "cell_type": "code",
   "execution_count": null,
   "metadata": {},
   "outputs": [
    {
     "name": "stdout",
     "output_type": "stream",
     "text": [
      "Hello Soham\n",
      "Function Name: wrapper\n",
      "Function Docstring: Wrapper (without wraps) docstring\n",
      "\n",
      "Hello again Soham\n",
      "Function Name: hello_2\n",
      "Function Docstring: Second hello\n"
     ]
    }
   ],
   "source": [
    "from functools import wraps\n",
    "\n",
    "def decorator_without_wraps(func):\n",
    "    def wrapper(*args, **kwargs):\n",
    "        '''Wrapper (without wraps) docstring'''\n",
    "        return func(*args, **kwargs)\n",
    "    return wrapper\n",
    "\n",
    "def decorator_with_wraps(func):\n",
    "    @wraps(func)\n",
    "    def wrapper(*args, **kwargs):\n",
    "        '''Wrapper (with wraps) docstring '''\n",
    "        return func(*args, **kwargs)\n",
    "    return wrapper\n",
    "\n",
    "@decorator_without_wraps\n",
    "def hello_1(name):\n",
    "    '''First hello'''\n",
    "    print(f\"Hello {name}\")\n",
    "\n",
    "@decorator_with_wraps\n",
    "def hello_2(name):\n",
    "    '''Second hello'''\n",
    "    print(f\"Hello again {name}\")\n",
    "\n",
    "hello_1(\"Soham\")\n",
    "print(f\"Function Name: {hello_1.__name__}\")\n",
    "print(f\"Function Docstring: {hello_1.__doc__}\")\n",
    "print()\n",
    "hello_2(\"Soham\")\n",
    "print(f\"Function Name: {hello_2.__name__}\")\n",
    "print(f\"Function Docstring: {hello_2.__doc__}\")"
   ]
  },
  {
   "cell_type": "markdown",
   "metadata": {},
   "source": [
    "`functools.cached_property`\n",
    "- **What it does:** Converts a method into a property whose value is cached after the first access.\n",
    "- **Use case:** Efficiently caching expensive calculations in class instances."
   ]
  },
  {
   "cell_type": "code",
   "execution_count": 19,
   "metadata": {},
   "outputs": [
    {
     "name": "stdout",
     "output_type": "stream",
     "text": [
      "Calculating area...\n",
      "314.0\n",
      "\n",
      "314.0\n"
     ]
    }
   ],
   "source": [
    "from functools import cached_property\n",
    "\n",
    "class Circle:\n",
    "    def __init__(self, radius):\n",
    "        self.radius = radius\n",
    "\n",
    "    @cached_property\n",
    "    def area(self):\n",
    "        print(\"Calculating area...\")\n",
    "        return 3.14 * self.radius ** 2\n",
    "    \n",
    "c = Circle(10)\n",
    "print(c.area)\n",
    "print()\n",
    "print(c.area)"
   ]
  }
 ],
 "metadata": {
  "kernelspec": {
   "display_name": "Python 3",
   "language": "python",
   "name": "python3"
  },
  "language_info": {
   "codemirror_mode": {
    "name": "ipython",
    "version": 3
   },
   "file_extension": ".py",
   "mimetype": "text/x-python",
   "name": "python",
   "nbconvert_exporter": "python",
   "pygments_lexer": "ipython3",
   "version": "3.13.0"
  }
 },
 "nbformat": 4,
 "nbformat_minor": 2
}
