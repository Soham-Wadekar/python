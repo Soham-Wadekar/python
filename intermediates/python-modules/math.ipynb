{
 "cells": [
  {
   "cell_type": "code",
   "execution_count": 1,
   "metadata": {},
   "outputs": [],
   "source": [
    "import math"
   ]
  },
  {
   "cell_type": "code",
   "execution_count": 3,
   "metadata": {},
   "outputs": [
    {
     "name": "stdout",
     "output_type": "stream",
     "text": [
      "Euler's constant: 2.718281828459045\n",
      "Infinity: inf\n",
      "NaN value: nan\n",
      "Pi: 3.141592653589793\n",
      "Tau: 6.283185307179586\n"
     ]
    }
   ],
   "source": [
    "# Math constants\n",
    "\n",
    "print(f\"Euler's constant: {math.e}\")\n",
    "print(f\"Infinity: {math.inf}\")\n",
    "print(f\"NaN value: {math.nan}\")\n",
    "print(f\"Pi: {math.pi}\")\n",
    "print(f\"Tau: {math.tau}\")"
   ]
  },
  {
   "cell_type": "code",
   "execution_count": 22,
   "metadata": {},
   "outputs": [
    {
     "name": "stdout",
     "output_type": "stream",
     "text": [
      "11000\n"
     ]
    }
   ],
   "source": [
    "# Product\n",
    "\n",
    "print(math.prod([10,20,11,5]))"
   ]
  },
  {
   "cell_type": "code",
   "execution_count": 10,
   "metadata": {},
   "outputs": [
    {
     "name": "stdout",
     "output_type": "stream",
     "text": [
      "3\n"
     ]
    }
   ],
   "source": [
    "# Greatest Common Divisor\n",
    "\n",
    "print(math.gcd(15,9))"
   ]
  },
  {
   "cell_type": "code",
   "execution_count": 12,
   "metadata": {},
   "outputs": [
    {
     "name": "stdout",
     "output_type": "stream",
     "text": [
      "3.141592653589793\n",
      "Floor of 3.141592653589793 is 3\n",
      "Ceiling of 3.141592653589793 is 4\n"
     ]
    }
   ],
   "source": [
    "# Floor and Ceiling functions\n",
    "\n",
    "print(math.pi)\n",
    "print(f\"Floor of {math.pi} is {math.floor(math.pi)}\")\n",
    "print(f\"Ceiling of {math.pi} is {math.ceil(math.pi)}\")"
   ]
  },
  {
   "cell_type": "code",
   "execution_count": 16,
   "metadata": {},
   "outputs": [
    {
     "name": "stdout",
     "output_type": "stream",
     "text": [
      "e^x = 7.38905609893065\n",
      "x^y = 8.0\n",
      "Square root: 1.7320508075688772\n"
     ]
    }
   ],
   "source": [
    "# Exponents\n",
    "\n",
    "print(f\"e^x = {math.exp(2)}\")\n",
    "print(f\"x^y = {math.pow(2,3)}\")\n",
    "print(f\"Square root: {math.sqrt(3)}\")"
   ]
  },
  {
   "cell_type": "code",
   "execution_count": 18,
   "metadata": {},
   "outputs": [
    {
     "name": "stdout",
     "output_type": "stream",
     "text": [
      "120\n"
     ]
    }
   ],
   "source": [
    "# Factorial\n",
    "\n",
    "print(math.factorial(5))"
   ]
  },
  {
   "cell_type": "code",
   "execution_count": 24,
   "metadata": {},
   "outputs": [
    {
     "name": "stdout",
     "output_type": "stream",
     "text": [
      "1.5707963267948966 radians ==> 90.0 degrees\n",
      "180 degrees ==> 3.141592653589793 radians\n"
     ]
    }
   ],
   "source": [
    "# Angles\n",
    "\n",
    "rad = math.pi / 2\n",
    "deg = 180\n",
    "\n",
    "print(f\"{rad} radians ==> {math.degrees(rad)} degrees\")\n",
    "print(f\"{deg} degrees ==> {math.radians(deg)} radians\")"
   ]
  },
  {
   "cell_type": "code",
   "execution_count": 29,
   "metadata": {},
   "outputs": [
    {
     "name": "stdout",
     "output_type": "stream",
     "text": [
      "4.0\n",
      "0.3010299956639812\n",
      "10.0\n",
      "2.3978952727983707\n"
     ]
    }
   ],
   "source": [
    "# Logarithm\n",
    "\n",
    "print(math.log(81,3))       # Log 81 base 3\n",
    "print(math.log10(2))        # Log base 10\n",
    "print(math.log2(1024))      # Log base 2\n",
    "print(math.log1p(10))       # Natural log (base e)"
   ]
  },
  {
   "cell_type": "code",
   "execution_count": 30,
   "metadata": {},
   "outputs": [
    {
     "name": "stdout",
     "output_type": "stream",
     "text": [
      "2.8284271247461903\n"
     ]
    }
   ],
   "source": [
    "# Distance\n",
    "\n",
    "print(math.dist((0,0), (2,2)))"
   ]
  },
  {
   "cell_type": "code",
   "execution_count": 50,
   "metadata": {},
   "outputs": [
    {
     "name": "stdout",
     "output_type": "stream",
     "text": [
      "Sin of 60 degrees = 0.8660254037844386\n",
      "Cos of 60 degrees = 0.5000000000000001\n",
      "Tan of 60 degrees = 1.7320508075688767\n",
      "Sin^-1 = 60\n",
      "Cos^-1 = 60\n",
      "Tan^-1 = 60\n"
     ]
    }
   ],
   "source": [
    "# Trigonometry\n",
    "deg60 = math.pi / 3\n",
    "\n",
    "sin = math.sin(deg60)\n",
    "cos = math.cos(deg60)\n",
    "tan = math.tan(deg60)\n",
    "\n",
    "print(f\"Sin of 60 degrees = {math.sin(deg60)}\")\n",
    "print(f\"Cos of 60 degrees = {math.cos(deg60)}\")\n",
    "print(f\"Tan of 60 degrees = {math.tan(deg60)}\")\n",
    "\n",
    "print(f\"Sin^-1 = {round(math.degrees(math.asin(sin)))}\")\n",
    "print(f\"Cos^-1 = {round(math.degrees(math.acos(cos)))}\")\n",
    "print(f\"Tan^-1 = {round(math.degrees(math.atan(tan)))}\")"
   ]
  },
  {
   "cell_type": "code",
   "execution_count": 56,
   "metadata": {},
   "outputs": [
    {
     "name": "stdout",
     "output_type": "stream",
     "text": [
      "60\n",
      "10\n"
     ]
    }
   ],
   "source": [
    "# Permutation and Combination\n",
    "\n",
    "print(math.perm(5,3))           # 5!/(5-3)!\n",
    "print(math.comb(5,3))           # 5!/(5-3)!(3!)"
   ]
  }
 ],
 "metadata": {
  "kernelspec": {
   "display_name": "Python 3",
   "language": "python",
   "name": "python3"
  },
  "language_info": {
   "codemirror_mode": {
    "name": "ipython",
    "version": 3
   },
   "file_extension": ".py",
   "mimetype": "text/x-python",
   "name": "python",
   "nbconvert_exporter": "python",
   "pygments_lexer": "ipython3",
   "version": "3.10.0"
  }
 },
 "nbformat": 4,
 "nbformat_minor": 2
}
