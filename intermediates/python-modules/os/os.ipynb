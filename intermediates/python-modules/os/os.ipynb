{
 "cells": [
  {
   "cell_type": "code",
   "execution_count": 134,
   "metadata": {},
   "outputs": [],
   "source": [
    "import os"
   ]
  },
  {
   "cell_type": "code",
   "execution_count": 135,
   "metadata": {},
   "outputs": [],
   "source": [
    "os.chdir(\"C:/git-forge/python/intermediates/python-modules/\")"
   ]
  },
  {
   "cell_type": "code",
   "execution_count": 136,
   "metadata": {},
   "outputs": [
    {
     "data": {
      "text/plain": [
       "'C:\\\\git-forge\\\\python\\\\intermediates\\\\python-modules'"
      ]
     },
     "execution_count": 136,
     "metadata": {},
     "output_type": "execute_result"
    }
   ],
   "source": [
    "# Get the current directory\n",
    "\n",
    "os.getcwd()"
   ]
  },
  {
   "cell_type": "code",
   "execution_count": 137,
   "metadata": {},
   "outputs": [
    {
     "data": {
      "text/plain": [
       "'C:\\\\git-forge\\\\python'"
      ]
     },
     "execution_count": 137,
     "metadata": {},
     "output_type": "execute_result"
    }
   ],
   "source": [
    "# Change the working directory\n",
    "\n",
    "os.chdir(\"../..\")\n",
    "os.getcwd()"
   ]
  },
  {
   "cell_type": "code",
   "execution_count": 138,
   "metadata": {},
   "outputs": [
    {
     "data": {
      "text/plain": [
       "['.dist',\n",
       " '.git',\n",
       " '.gitignore',\n",
       " 'advanced',\n",
       " 'basics',\n",
       " 'intermediates',\n",
       " 'README.md']"
      ]
     },
     "execution_count": 138,
     "metadata": {},
     "output_type": "execute_result"
    }
   ],
   "source": [
    "# List all the files an folders in the working directory\n",
    "\n",
    "os.listdir()"
   ]
  },
  {
   "cell_type": "code",
   "execution_count": 139,
   "metadata": {},
   "outputs": [],
   "source": [
    "os.chdir(\"C:/git-forge/python/intermediates/python-modules/os/\")"
   ]
  },
  {
   "cell_type": "code",
   "execution_count": 140,
   "metadata": {},
   "outputs": [
    {
     "name": "stdout",
     "output_type": "stream",
     "text": [
      "['demo.txt', 'os.ipynb', 'test_folder']\n",
      "['demo.txt', 'os.ipynb', 'test_dir1', 'test_folder']\n",
      "['demo.txt', 'os.ipynb', 'test_dir1', 'test_dir2', 'test_folder']\n",
      "['sub_dir1', 'sub_dir2', 'sub_dir3']\n"
     ]
    }
   ],
   "source": [
    "# Make a new folder\n",
    "print(os.listdir(\".\"))\n",
    "\n",
    "try:\n",
    "    os.mkdir(\"test_dir1\")                            # Creates a single directory\n",
    "except OSError as e:\n",
    "    print(\"Directory already exists!\")\n",
    "    print(e)\n",
    "\n",
    "print(os.listdir(\".\"))\n",
    "\n",
    "try:\n",
    "    os.makedirs(\"test_dir2/sub_dir1\")      # Creates all the inner folders as well\n",
    "    os.makedirs(\"test_dir2/sub_dir2\")      \n",
    "    os.makedirs(\"test_dir2/sub_dir3\")\n",
    "except FileExistsError as e:\n",
    "    print(\"Directories already exist!\")\n",
    "    print(e)\n",
    "      \n",
    "print(os.listdir(\".\"))\n",
    "print(os.listdir(\"./test_dir2/\"))"
   ]
  },
  {
   "cell_type": "code",
   "execution_count": 141,
   "metadata": {},
   "outputs": [
    {
     "name": "stdout",
     "output_type": "stream",
     "text": [
      "['demo.txt', 'os.ipynb', 'test_dir1', 'test_dir2', 'test_folder']\n",
      "['demo.txt', 'os.ipynb', 'test_dir1', 'test_folder']\n",
      "['demo.txt', 'os.ipynb', 'test_folder']\n"
     ]
    }
   ],
   "source": [
    "# Remove folders\n",
    "\n",
    "print(os.listdir(\".\"))\n",
    "\n",
    "\n",
    "try:\n",
    "    os.removedirs(\"test_dir2/sub_dir1\")      # Deletes all the inner folders as well\n",
    "    os.removedirs(\"test_dir2/sub_dir2\")      \n",
    "    os.removedirs(\"test_dir2/sub_dir3\")\n",
    "except FileNotFoundError as e:\n",
    "    print(\"Directories already exist!\")\n",
    "    print(e)\n",
    "      \n",
    "print(os.listdir(\".\"))\n",
    "\n",
    "try:\n",
    "    os.rmdir(\"test_dir1\")                            # Deletes a single directory\n",
    "except FileNotFoundError as e:\n",
    "    print(\"Directory doesn't exist!\")\n",
    "    print(e)\n",
    "\n",
    "print(os.listdir(\".\"))"
   ]
  },
  {
   "cell_type": "code",
   "execution_count": 142,
   "metadata": {},
   "outputs": [
    {
     "name": "stdout",
     "output_type": "stream",
     "text": [
      "['demo.txt', 'os.ipynb', 'test_folder']\n",
      "['os.ipynb', 'test.txt', 'test_folder']\n"
     ]
    }
   ],
   "source": [
    "# Renaming files\n",
    "\n",
    "print(os.listdir())\n",
    "    \n",
    "try:\n",
    "    os.rename(\"demo.txt\", \"test.txt\")\n",
    "except FileNotFoundError as e:\n",
    "    print(\"File Not Found!\")\n",
    "    print(e)\n",
    "    \n",
    "print(os.listdir())"
   ]
  },
  {
   "cell_type": "code",
   "execution_count": 143,
   "metadata": {},
   "outputs": [
    {
     "name": "stdout",
     "output_type": "stream",
     "text": [
      "os.stat_result(st_mode=33206, st_ino=103864266406246676, st_dev=2588823651, st_nlink=1, st_uid=0, st_gid=0, st_size=0, st_atime=1702825532, st_mtime=1702825532, st_ctime=1702825532)\n"
     ]
    }
   ],
   "source": [
    "# Print details of files\n",
    "\n",
    "print(os.stat(\"./test.txt\"))"
   ]
  },
  {
   "cell_type": "code",
   "execution_count": 144,
   "metadata": {},
   "outputs": [
    {
     "name": "stdout",
     "output_type": "stream",
     "text": [
      "Path from CWD: ..\n",
      "Directories: ['collections', 'itertools', 'json', 'os', 'random']\n",
      "Files: []\n",
      "==============================\n",
      "Path from CWD: ..\\collections\n",
      "Directories: []\n",
      "Files: []\n",
      "==============================\n",
      "Path from CWD: ..\\itertools\n",
      "Directories: []\n",
      "Files: []\n",
      "==============================\n",
      "Path from CWD: ..\\json\n",
      "Directories: []\n",
      "Files: []\n",
      "==============================\n",
      "Path from CWD: ..\\os\n",
      "Directories: ['test_folder']\n",
      "Files: ['os.ipynb', 'test.txt']\n",
      "==============================\n",
      "Path from CWD: ..\\os\\test_folder\n",
      "Directories: []\n",
      "Files: ['text_file.txt']\n",
      "==============================\n",
      "Path from CWD: ..\\random\n",
      "Directories: []\n",
      "Files: []\n",
      "==============================\n"
     ]
    }
   ],
   "source": [
    "# List all the files in the working directory tree\n",
    "\n",
    "for dirpath, dirnames, filenames in os.walk('..'):\n",
    "    print(f\"Path from CWD: {dirpath}\")\n",
    "    print(f\"Directories: {dirnames}\")\n",
    "    print(f\"Files: {filenames}\")\n",
    "    print(\"===\"*10)"
   ]
  },
  {
   "cell_type": "code",
   "execution_count": 145,
   "metadata": {},
   "outputs": [
    {
     "name": "stdout",
     "output_type": "stream",
     "text": [
      "\\Users\\soham\n"
     ]
    }
   ],
   "source": [
    "# Get and change environment variables\n",
    "\n",
    "# print(os.environ)           # Gets all the environment variables\n",
    "\n",
    "print(os.environ.get(\"HOMEPATH\"))"
   ]
  },
  {
   "cell_type": "code",
   "execution_count": 146,
   "metadata": {},
   "outputs": [
    {
     "name": "stdout",
     "output_type": "stream",
     "text": [
      "\\Users\\soham\\test.txt\n"
     ]
    }
   ],
   "source": [
    "# Join two path names\n",
    "\n",
    "file_name = os.path.join(os.environ.get(\"HOMEPATH\"), \"test.txt\")\n",
    "print(file_name)"
   ]
  },
  {
   "cell_type": "code",
   "execution_count": 151,
   "metadata": {},
   "outputs": [
    {
     "name": "stdout",
     "output_type": "stream",
     "text": [
      "Base Name: test.txt\n",
      "Directory Name: C:/git-forge/python/intermediates/python-modules/os\n",
      "Both: ('C:/git-forge/python/intermediates/python-modules/os', 'test.txt')\n"
     ]
    }
   ],
   "source": [
    "# File basename\n",
    "print(f'Base Name: {os.path.basename(\"C:/git-forge/python/intermediates/python-modules/os/test.txt\")}')\n",
    "\n",
    "# Directory name\n",
    "print(f'Directory Name: {os.path.dirname(\"C:/git-forge/python/intermediates/python-modules/os/test.txt\")}')\n",
    "\n",
    "# Getting both\n",
    "print(f'Both: {os.path.split(\"C:/git-forge/python/intermediates/python-modules/os/test.txt\")}')"
   ]
  },
  {
   "cell_type": "code",
   "execution_count": 153,
   "metadata": {},
   "outputs": [
    {
     "name": "stdout",
     "output_type": "stream",
     "text": [
      "False\n",
      "True\n"
     ]
    }
   ],
   "source": [
    "# See whether the directory exists\n",
    "\n",
    "print(os.path.exists(\"./hello.txt\"))\n",
    "print(os.path.exists(\"./os.ipynb\"))"
   ]
  },
  {
   "cell_type": "code",
   "execution_count": 154,
   "metadata": {},
   "outputs": [
    {
     "name": "stdout",
     "output_type": "stream",
     "text": [
      "True\n",
      "False\n"
     ]
    }
   ],
   "source": [
    "# Check whether it is a file \n",
    "\n",
    "print(os.path.isfile(\"./os.ipynb\"))\n",
    "print(os.path.isfile(\"../os/\"))"
   ]
  },
  {
   "cell_type": "code",
   "execution_count": 156,
   "metadata": {},
   "outputs": [
    {
     "name": "stdout",
     "output_type": "stream",
     "text": [
      "False\n",
      "True\n"
     ]
    }
   ],
   "source": [
    "# Check whether it is a directory\n",
    "\n",
    "print(os.path.isdir(\"./os.ipynb\"))\n",
    "print(os.path.isdir(\"../os/\"))"
   ]
  },
  {
   "cell_type": "code",
   "execution_count": 155,
   "metadata": {},
   "outputs": [
    {
     "name": "stdout",
     "output_type": "stream",
     "text": [
      "('./os', '.ipynb')\n"
     ]
    }
   ],
   "source": [
    "# Split the file and root\n",
    "\n",
    "print(os.path.splitext(\"./os.ipynb\"))"
   ]
  }
 ],
 "metadata": {
  "kernelspec": {
   "display_name": "Python 3",
   "language": "python",
   "name": "python3"
  },
  "language_info": {
   "codemirror_mode": {
    "name": "ipython",
    "version": 3
   },
   "file_extension": ".py",
   "mimetype": "text/x-python",
   "name": "python",
   "nbconvert_exporter": "python",
   "pygments_lexer": "ipython3",
   "version": "3.10.0"
  }
 },
 "nbformat": 4,
 "nbformat_minor": 2
}
