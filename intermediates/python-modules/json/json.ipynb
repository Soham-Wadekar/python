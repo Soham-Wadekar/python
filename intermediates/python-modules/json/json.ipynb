{
 "cells": [
  {
   "cell_type": "code",
   "execution_count": 20,
   "metadata": {},
   "outputs": [],
   "source": [
    "import json"
   ]
  },
  {
   "cell_type": "markdown",
   "metadata": {},
   "source": [
    "##### Translations in Decoding in JSON\n",
    "\n",
    "| JSON | Python |\n",
    "|:-----|:-----|\n",
    "|object|dict|\n",
    "| array | list |\n",
    "| string | str |\n",
    "| number (int) | int |\n",
    "| number (real) | float |\n",
    "| true | True |\n",
    "| false | False |\n",
    "| null | None |"
   ]
  },
  {
   "cell_type": "code",
   "execution_count": 21,
   "metadata": {},
   "outputs": [],
   "source": [
    "people = \"\"\"\n",
    "{\n",
    "    \"people\": [\n",
    "        {\n",
    "            \"name\": \"ABC\",\n",
    "            \"phone\": 8203230232,\n",
    "            \"email\": [\"abc@gmail.com\", \"abc@yahoo.com\"],\n",
    "            \"has_license\": false\n",
    "        },\n",
    "        {\n",
    "            \"name\": \"XYZ\",\n",
    "            \"phone\": 4208330121,\n",
    "            \"email\": null,\n",
    "            \"has_license\": true\n",
    "        }\n",
    "    ]\n",
    "}\n",
    "\"\"\""
   ]
  },
  {
   "cell_type": "code",
   "execution_count": 22,
   "metadata": {},
   "outputs": [
    {
     "name": "stdout",
     "output_type": "stream",
     "text": [
      "{'people': [{'name': 'ABC', 'phone': 8203230232, 'email': ['abc@gmail.com', 'abc@yahoo.com'], 'has_license': False}, {'name': 'XYZ', 'phone': 4208330121, 'email': None, 'has_license': True}]}\n"
     ]
    }
   ],
   "source": [
    "# Load JSON data into Python\n",
    "\n",
    "data = json.loads(people)\n",
    "print(data)\n",
    "\n",
    "for person in data[\"people\"]:\n",
    "    del person[\"phone\"]"
   ]
  },
  {
   "cell_type": "code",
   "execution_count": 23,
   "metadata": {},
   "outputs": [
    {
     "name": "stdout",
     "output_type": "stream",
     "text": [
      "{\n",
      "  \"people\": [\n",
      "    {\n",
      "      \"email\": [\n",
      "        \"abc@gmail.com\",\n",
      "        \"abc@yahoo.com\"\n",
      "      ],\n",
      "      \"has_license\": false,\n",
      "      \"name\": \"ABC\"\n",
      "    },\n",
      "    {\n",
      "      \"email\": null,\n",
      "      \"has_license\": true,\n",
      "      \"name\": \"XYZ\"\n",
      "    }\n",
      "  ]\n",
      "}\n"
     ]
    }
   ],
   "source": [
    "# Dump Python data into JSON\n",
    "\n",
    "people_new = json.dumps(data, indent=2, sort_keys=True)\n",
    "print(people_new)"
   ]
  },
  {
   "cell_type": "code",
   "execution_count": 24,
   "metadata": {},
   "outputs": [
    {
     "name": "stdout",
     "output_type": "stream",
     "text": [
      "{'star': {'name': 'Sun', 'type': 'G-type main-sequence', 'diameter_km': 1392684, 'mass_kg': 1.989e+30}, 'planets': [{'name': 'Mercury', 'type': 'Terrestrial', 'diameter_km': 4879, 'distance_from_sun_km': 57910000, 'moons': ['None']}, {'name': 'Venus', 'type': 'Terrestrial', 'diameter_km': 12104, 'distance_from_sun_km': 108200000, 'moons': ['None']}, {'name': 'Earth', 'type': 'Terrestrial', 'diameter_km': 12742, 'distance_from_sun_km': 149600000, 'moons': ['Moon']}, {'name': 'Mars', 'type': 'Terrestrial', 'diameter_km': 6779, 'distance_from_sun_km': 227900000, 'moons': ['Phobos', 'Deimos']}, {'name': 'Jupiter', 'type': 'Gas Giant', 'diameter_km': 139820, 'distance_from_sun_km': 778300000, 'moons': ['Io', 'Europa', 'Ganymede', 'Callisto']}, {'name': 'Saturn', 'type': 'Gas Giant', 'diameter_km': 116460, 'distance_from_sun_km': 1427000000, 'moons': ['Titan', 'Enceladus', 'Mimas']}, {'name': 'Uranus', 'type': 'Ice Giant', 'diameter_km': 50724, 'distance_from_sun_km': 2871000000, 'moons': ['Miranda', 'Ariel', 'Umbriel']}, {'name': 'Neptune', 'type': 'Ice Giant', 'diameter_km': 49244, 'distance_from_sun_km': 4495000000, 'moons': ['Triton', 'Proteus', 'Nereid']}], 'dwarf_planets': [{'name': 'Pluto', 'type': 'Dwarf Planet', 'diameter_km': 2370, 'distance_from_sun_km': 5906000000, 'moons': ['Charon', 'Styx', 'Nix']}, {'name': 'Eris', 'type': 'Dwarf Planet', 'diameter_km': 2326, 'distance_from_sun_km': 10281000000, 'moons': ['Dysnomia']}, {'name': 'Ceres', 'type': 'Dwarf Planet', 'diameter_km': 590, 'distance_from_sun_km': 414000000, 'moons': ['None']}]}\n"
     ]
    }
   ],
   "source": [
    "# Load a JSON file\n",
    "\n",
    "with open(\"solar_system.json\") as file:\n",
    "    data = json.load(file)\n",
    "print(data)"
   ]
  },
  {
   "cell_type": "code",
   "execution_count": 25,
   "metadata": {},
   "outputs": [
    {
     "name": "stdout",
     "output_type": "stream",
     "text": [
      "{'name': 'Mercury', 'type': 'Terrestrial', 'diameter_km': 4879, 'distance_from_sun_km': 57910000, 'moons': ['None']}\n",
      "{'name': 'Venus', 'type': 'Terrestrial', 'diameter_km': 12104, 'distance_from_sun_km': 108200000, 'moons': ['None']}\n",
      "{'name': 'Earth', 'type': 'Terrestrial', 'diameter_km': 12742, 'distance_from_sun_km': 149600000, 'moons': ['Moon']}\n",
      "{'name': 'Mars', 'type': 'Terrestrial', 'diameter_km': 6779, 'distance_from_sun_km': 227900000, 'moons': ['Phobos', 'Deimos']}\n",
      "{'name': 'Jupiter', 'type': 'Gas Giant', 'diameter_km': 139820, 'distance_from_sun_km': 778300000, 'moons': ['Io', 'Europa', 'Ganymede', 'Callisto']}\n",
      "{'name': 'Saturn', 'type': 'Gas Giant', 'diameter_km': 116460, 'distance_from_sun_km': 1427000000, 'moons': ['Titan', 'Enceladus', 'Mimas']}\n",
      "{'name': 'Uranus', 'type': 'Ice Giant', 'diameter_km': 50724, 'distance_from_sun_km': 2871000000, 'moons': ['Miranda', 'Ariel', 'Umbriel']}\n",
      "{'name': 'Neptune', 'type': 'Ice Giant', 'diameter_km': 49244, 'distance_from_sun_km': 4495000000, 'moons': ['Triton', 'Proteus', 'Nereid']}\n"
     ]
    }
   ],
   "source": [
    "# Loop through the file\n",
    "for planet in data[\"planets\"]:\n",
    "    print(planet)"
   ]
  },
  {
   "cell_type": "code",
   "execution_count": 26,
   "metadata": {},
   "outputs": [
    {
     "name": "stdout",
     "output_type": "stream",
     "text": [
      "{'star': {'name': 'Sun', 'type': 'G-type main-sequence', 'diameter_km': 1392684, 'mass_kg': 1.989e+30}, 'planets': [{'name': 'Mercury', 'type': 'Terrestrial', 'diameter_km': 4879, 'distance_from_sun_km': 57910000, 'moons': ['None']}, {'name': 'Venus', 'type': 'Terrestrial', 'diameter_km': 12104, 'distance_from_sun_km': 108200000, 'moons': ['None']}, {'name': 'Earth', 'type': 'Terrestrial', 'diameter_km': 12742, 'distance_from_sun_km': 149600000, 'moons': ['Moon']}, {'name': 'Mars', 'type': 'Terrestrial', 'diameter_km': 6779, 'distance_from_sun_km': 227900000, 'moons': ['Phobos', 'Deimos']}, {'name': 'Jupiter', 'type': 'Gas Giant', 'diameter_km': 139820, 'distance_from_sun_km': 778300000, 'moons': ['Io', 'Europa', 'Ganymede', 'Callisto']}, {'name': 'Saturn', 'type': 'Gas Giant', 'diameter_km': 116460, 'distance_from_sun_km': 1427000000, 'moons': ['Titan', 'Enceladus', 'Mimas']}, {'name': 'Uranus', 'type': 'Ice Giant', 'diameter_km': 50724, 'distance_from_sun_km': 2871000000, 'moons': ['Miranda', 'Ariel', 'Umbriel']}, {'name': 'Neptune', 'type': 'Ice Giant', 'diameter_km': 49244, 'distance_from_sun_km': 4495000000, 'moons': ['Triton', 'Proteus', 'Nereid']}]}\n"
     ]
    }
   ],
   "source": [
    "# Delete a specific key\n",
    "\n",
    "del data[\"dwarf_planets\"]\n",
    "\n",
    "print(data)"
   ]
  },
  {
   "cell_type": "code",
   "execution_count": 29,
   "metadata": {},
   "outputs": [],
   "source": [
    "with open(\"solar_system_changed.json\", \"w\") as file:\n",
    "    json.dump(data, file, indent=4)"
   ]
  }
 ],
 "metadata": {
  "kernelspec": {
   "display_name": "Python 3",
   "language": "python",
   "name": "python3"
  },
  "language_info": {
   "codemirror_mode": {
    "name": "ipython",
    "version": 3
   },
   "file_extension": ".py",
   "mimetype": "text/x-python",
   "name": "python",
   "nbconvert_exporter": "python",
   "pygments_lexer": "ipython3",
   "version": "3.10.0"
  }
 },
 "nbformat": 4,
 "nbformat_minor": 2
}
